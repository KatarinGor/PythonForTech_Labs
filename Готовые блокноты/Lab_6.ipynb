{
 "cells": [
  {
   "cell_type": "markdown",
   "id": "b8dd3231",
   "metadata": {},
   "source": [
    "# Практическая работа № 6\n",
    "\n"
   ]
  },
  {
   "cell_type": "markdown",
   "id": "f2b5404f",
   "metadata": {},
   "source": [
    "# Знакомство с NumPy"
   ]
  },
  {
   "cell_type": "markdown",
   "id": "80ff82b7",
   "metadata": {},
   "source": [
    "Сокр. Numerical Python - специализированный инструмент языка Python для обработки больших числовых массивов. Массивы NumPy походжи на тип list, но обеспечивают более эффективное хранение и операции с данными. Разница тем ощутимее, чем больше массив."
   ]
  },
  {
   "cell_type": "markdown",
   "id": "43d61752",
   "metadata": {},
   "source": [
    "За счет чего это происходит? Мы знаем, что стандартная реализация Python написана на C, то есть каждый объект Python - это ловко замаскированная конструкция на языке C, содержащая не только значение, но и другую информацию. Например, целое число в Python, это не только само значение, а указатель на структуру с несколькими полями. Т.е. если на C целое число - это ярлык для места в памяти, байты которого кодируют целочисленное значение, то в Python - это указатель на место в памяти, где хранится не только само целочисленное значение, но и информация об объекте int языка Python. Это плата за динамическую типизацию. Если собрать данные в список, каждый элемент будет, помимо значения, содержать еще некоторое количество метаданных о типе, счетчик ссылок и др. Если список однороден, эта информация избыточна. Т.е. главное отличие массива NumPy от списка в том, что он содержит один указатель на непрерывный блок данных."
   ]
  },
  {
   "cell_type": "markdown",
   "id": "450c82fe",
   "metadata": {},
   "source": [
    "### Массивы"
   ]
  },
  {
   "cell_type": "code",
   "execution_count": 2,
   "id": "91b64486",
   "metadata": {},
   "outputs": [],
   "source": [
    "import numpy as np"
   ]
  },
  {
   "cell_type": "code",
   "execution_count": 3,
   "id": "1bc57ff4",
   "metadata": {},
   "outputs": [
    {
     "data": {
      "text/plain": [
       "array([1, 2, 3, 4])"
      ]
     },
     "execution_count": 3,
     "metadata": {},
     "output_type": "execute_result"
    }
   ],
   "source": [
    "np.array([1,2,3,4])"
   ]
  },
  {
   "cell_type": "code",
   "execution_count": 4,
   "id": "a05d08c5",
   "metadata": {},
   "outputs": [
    {
     "data": {
      "text/plain": [
       "array([2.73, 3.14, 1.  , 2.  ])"
      ]
     },
     "execution_count": 4,
     "metadata": {},
     "output_type": "execute_result"
    }
   ],
   "source": [
    "np.array([2.73, 3.14, 1, 2])"
   ]
  },
  {
   "cell_type": "markdown",
   "id": "bbb76d82",
   "metadata": {},
   "source": [
    "Можно задать тип данных явно:"
   ]
  },
  {
   "cell_type": "code",
   "execution_count": 5,
   "id": "c7a2f757",
   "metadata": {},
   "outputs": [
    {
     "data": {
      "text/plain": [
       "array([1., 2., 3., 4., 5.])"
      ]
     },
     "execution_count": 5,
     "metadata": {},
     "output_type": "execute_result"
    }
   ],
   "source": [
    "np.array([1,2,3,4,5], dtype = float)"
   ]
  },
  {
   "cell_type": "code",
   "execution_count": 7,
   "id": "e22feef5",
   "metadata": {},
   "outputs": [
    {
     "data": {
      "text/plain": [
       "array([1, 2, 3, 4, 5])"
      ]
     },
     "execution_count": 7,
     "metadata": {},
     "output_type": "execute_result"
    }
   ],
   "source": [
    "x = np.array([1,2,3,4,5], dtype = int)\n",
    "x"
   ]
  },
  {
   "cell_type": "code",
   "execution_count": 8,
   "id": "9a995517",
   "metadata": {},
   "outputs": [
    {
     "data": {
      "text/plain": [
       "array([3, 2, 3, 4, 5])"
      ]
     },
     "execution_count": 8,
     "metadata": {},
     "output_type": "execute_result"
    }
   ],
   "source": [
    "x[0]=3.14\n",
    "x"
   ]
  },
  {
   "cell_type": "markdown",
   "id": "9551f405",
   "metadata": {},
   "source": [
    "Массивы NumPy могут быть многомерными:"
   ]
  },
  {
   "cell_type": "code",
   "execution_count": 10,
   "id": "72ef336d",
   "metadata": {},
   "outputs": [
    {
     "data": {
      "text/plain": [
       "array([[2, 3],\n",
       "       [4, 5],\n",
       "       [6, 7]])"
      ]
     },
     "execution_count": 10,
     "metadata": {},
     "output_type": "execute_result"
    }
   ],
   "source": [
    "np.array([range(i,i+2) for i in [2,4,6]])"
   ]
  },
  {
   "cell_type": "markdown",
   "id": "e9a7fdf5",
   "metadata": {},
   "source": [
    "Вложенные списки тут рассматриваются как строки"
   ]
  },
  {
   "cell_type": "markdown",
   "id": "16d79e81",
   "metadata": {},
   "source": [
    "Сгенерируем еще несколько массивов"
   ]
  },
  {
   "cell_type": "code",
   "execution_count": 11,
   "id": "4ed30025",
   "metadata": {},
   "outputs": [
    {
     "data": {
      "text/plain": [
       "array([0, 0, 0, 0, 0, 0, 0, 0, 0, 0, 0, 0, 0, 0, 0, 0, 0, 0, 0])"
      ]
     },
     "execution_count": 11,
     "metadata": {},
     "output_type": "execute_result"
    }
   ],
   "source": [
    "np.zeros(19, dtype = int)"
   ]
  },
  {
   "cell_type": "code",
   "execution_count": 12,
   "id": "a43cc5b1",
   "metadata": {},
   "outputs": [
    {
     "data": {
      "text/plain": [
       "array([[1., 1., 1., 1., 1.],\n",
       "       [1., 1., 1., 1., 1.],\n",
       "       [1., 1., 1., 1., 1.]])"
      ]
     },
     "execution_count": 12,
     "metadata": {},
     "output_type": "execute_result"
    }
   ],
   "source": [
    "np.ones((3,5))"
   ]
  },
  {
   "cell_type": "code",
   "execution_count": 13,
   "id": "540e46ae",
   "metadata": {},
   "outputs": [
    {
     "data": {
      "text/plain": [
       "array([[3.14, 3.14, 3.14, 3.14, 3.14],\n",
       "       [3.14, 3.14, 3.14, 3.14, 3.14],\n",
       "       [3.14, 3.14, 3.14, 3.14, 3.14]])"
      ]
     },
     "execution_count": 13,
     "metadata": {},
     "output_type": "execute_result"
    }
   ],
   "source": [
    "np.full((3,5), 3.14)"
   ]
  },
  {
   "cell_type": "code",
   "execution_count": 14,
   "id": "9fd84ad8",
   "metadata": {},
   "outputs": [
    {
     "data": {
      "text/plain": [
       "array([[3.14, 3.14, 3.14, 3.14, 3.14],\n",
       "       [3.14, 3.14, 3.14, 3.14, 3.14],\n",
       "       [3.14, 3.14, 3.14, 3.14, 3.14]])"
      ]
     },
     "execution_count": 14,
     "metadata": {},
     "output_type": "execute_result"
    }
   ],
   "source": [
    "np.ones((3,5)) *3.14"
   ]
  },
  {
   "cell_type": "code",
   "execution_count": 15,
   "id": "c87bf12d",
   "metadata": {},
   "outputs": [
    {
     "data": {
      "text/plain": [
       "array([ 0,  4,  8, 12, 16])"
      ]
     },
     "execution_count": 15,
     "metadata": {},
     "output_type": "execute_result"
    }
   ],
   "source": [
    "np.arange(0,20,4)"
   ]
  },
  {
   "cell_type": "code",
   "execution_count": 16,
   "id": "a2f62907",
   "metadata": {},
   "outputs": [
    {
     "data": {
      "text/plain": [
       "array([0.  , 0.25, 0.5 , 0.75, 1.  ])"
      ]
     },
     "execution_count": 16,
     "metadata": {},
     "output_type": "execute_result"
    }
   ],
   "source": [
    "np.linspace(0,1,5)"
   ]
  },
  {
   "cell_type": "code",
   "execution_count": 20,
   "id": "28584a9a",
   "metadata": {},
   "outputs": [
    {
     "data": {
      "text/plain": [
       "array([[ 5.24768866,  5.52834975,  9.79919724],\n",
       "       [11.9189688 ,  6.08320723,  5.70362594],\n",
       "       [12.99318033, 12.03376935,  8.2072786 ]])"
      ]
     },
     "execution_count": 20,
     "metadata": {},
     "output_type": "execute_result"
    }
   ],
   "source": [
    "np.random.random((3,3))*10 + 5"
   ]
  },
  {
   "cell_type": "code",
   "execution_count": 21,
   "id": "c59cd5ab",
   "metadata": {},
   "outputs": [
    {
     "data": {
      "text/plain": [
       "array([[5.33136562, 4.9571746 , 3.57687469, 4.22154532, 1.47374   ],\n",
       "       [6.74655662, 4.86721425, 5.57085208, 4.17676773, 5.35469298],\n",
       "       [5.23259885, 3.32290858, 8.27510218, 7.61567186, 1.26837904],\n",
       "       [8.82314281, 5.30523994, 7.06317837, 3.96893508, 6.18402403],\n",
       "       [5.57672841, 7.56706833, 1.54703043, 6.12009909, 7.79077211]])"
      ]
     },
     "execution_count": 21,
     "metadata": {},
     "output_type": "execute_result"
    }
   ],
   "source": [
    "np.random.normal(5,2,(5,5))"
   ]
  },
  {
   "cell_type": "code",
   "execution_count": 22,
   "id": "cd237b4c",
   "metadata": {},
   "outputs": [
    {
     "data": {
      "text/plain": [
       "array([[5, 2, 7, 3, 2, 5, 7],\n",
       "       [7, 1, 6, 6, 6, 9, 1],\n",
       "       [9, 2, 0, 0, 8, 2, 1],\n",
       "       [1, 1, 4, 7, 7, 5, 4],\n",
       "       [5, 6, 3, 4, 1, 3, 7],\n",
       "       [5, 6, 6, 9, 9, 8, 1],\n",
       "       [9, 4, 7, 3, 9, 4, 0]])"
      ]
     },
     "execution_count": 22,
     "metadata": {},
     "output_type": "execute_result"
    }
   ],
   "source": [
    "np.random.randint(0,10,(7,7))"
   ]
  },
  {
   "cell_type": "code",
   "execution_count": 23,
   "id": "679362df",
   "metadata": {},
   "outputs": [
    {
     "data": {
      "text/plain": [
       "array([[1., 0., 0., 0., 0.],\n",
       "       [0., 1., 0., 0., 0.],\n",
       "       [0., 0., 1., 0., 0.],\n",
       "       [0., 0., 0., 1., 0.],\n",
       "       [0., 0., 0., 0., 1.]])"
      ]
     },
     "execution_count": 23,
     "metadata": {},
     "output_type": "execute_result"
    }
   ],
   "source": [
    "np.eye(5)"
   ]
  },
  {
   "cell_type": "markdown",
   "id": "f2a04b23",
   "metadata": {},
   "source": [
    "Еще можно создать неинициированный массив, просто для выделения памяти. Значения в нем будут произвольные, случайно оказавшиеся в соответствующих ячейках памяти"
   ]
  },
  {
   "cell_type": "code",
   "execution_count": 26,
   "id": "74c744dd",
   "metadata": {
    "scrolled": true
   },
   "outputs": [
    {
     "data": {
      "text/plain": [
       "array([[8.53183415e-312, 8.53137747e-312, 1.35566986e+131,\n",
       "        5.36793230e+242, 3.92880998e+160, 5.50409570e+257],\n",
       "       [2.59345414e+161, 5.56206154e+180, 8.17434450e+141,\n",
       "        1.09918035e+155, 4.26209394e+180, 1.34452472e+161],\n",
       "       [5.04620658e+180, 3.57885821e+246, 6.01121703e+175,\n",
       "        4.73544978e+223, 8.90302838e+247, 9.77146823e-153],\n",
       "       [1.96097649e+243, 6.99405043e-009, 2.93494529e+222,\n",
       "        1.03063392e-113, 1.72731111e+097, 6.99416121e-009],\n",
       "       [2.93494530e+222, 1.03063392e-113, 1.05894612e-153,\n",
       "        7.61402229e-010, 8.98752578e-153, 4.83245960e+276],\n",
       "       [8.03704345e-095, 1.95575364e-109, 1.05190656e-153,\n",
       "        1.65980221e-307, 8.53183922e-312, 8.53137686e-312],\n",
       "       [1.05177053e-153, 7.04134408e-009, 1.43178810e-065,\n",
       "        1.35717430e+131, 1.05176086e-153, 1.74910380e+243]])"
      ]
     },
     "execution_count": 26,
     "metadata": {},
     "output_type": "execute_result"
    }
   ],
   "source": [
    "np.empty((7,6))"
   ]
  },
  {
   "cell_type": "markdown",
   "id": "22d794b0",
   "metadata": {},
   "source": [
    "Рассмотрим несколько категорий простых операций с массивами:\n",
    "\n",
    "- атрибуты массивов\n",
    "- индексация массивов\n",
    "- срезы массивов\n",
    "- изменение формы массивов\n",
    "- слияние и разбиение массивов"
   ]
  },
  {
   "cell_type": "markdown",
   "id": "7d0e1c71",
   "metadata": {},
   "source": [
    "### Атрибуты"
   ]
  },
  {
   "cell_type": "code",
   "execution_count": null,
   "id": "b739dda7",
   "metadata": {},
   "outputs": [],
   "source": [
    "np.random.seed(0)"
   ]
  },
  {
   "cell_type": "code",
   "execution_count": 36,
   "id": "72e99d91",
   "metadata": {},
   "outputs": [
    {
     "data": {
      "text/plain": [
       "array([[[8, 4],\n",
       "        [1, 6],\n",
       "        [4, 6],\n",
       "        [3, 7],\n",
       "        [4, 0]],\n",
       "\n",
       "       [[0, 9],\n",
       "        [3, 3],\n",
       "        [9, 5],\n",
       "        [7, 4],\n",
       "        [6, 9]],\n",
       "\n",
       "       [[6, 2],\n",
       "        [8, 1],\n",
       "        [0, 1],\n",
       "        [2, 3],\n",
       "        [8, 1]]])"
      ]
     },
     "execution_count": 36,
     "metadata": {},
     "output_type": "execute_result"
    }
   ],
   "source": [
    "#x = np.random.randint(10, size = 6)\n",
    "#x = np.random.randint(10, size = (3,5))\n",
    "x = np.random.randint(10, size = (3,5,2))\n",
    "x"
   ]
  },
  {
   "cell_type": "code",
   "execution_count": 37,
   "id": "280add33",
   "metadata": {},
   "outputs": [
    {
     "name": "stdout",
     "output_type": "stream",
     "text": [
      "x.ndim  3\n",
      "x.shape  (3, 5, 2)\n",
      "x.size  30\n"
     ]
    }
   ],
   "source": [
    "print('x.ndim ', x.ndim)\n",
    "print('x.shape ', x.shape)\n",
    "print('x.size ', x.size)"
   ]
  },
  {
   "cell_type": "code",
   "execution_count": 38,
   "id": "74a01db8",
   "metadata": {},
   "outputs": [
    {
     "name": "stdout",
     "output_type": "stream",
     "text": [
      "int32\n"
     ]
    }
   ],
   "source": [
    "print(x.dtype)"
   ]
  },
  {
   "cell_type": "code",
   "execution_count": 39,
   "id": "341c14e8",
   "metadata": {},
   "outputs": [
    {
     "data": {
      "text/plain": [
       "4"
      ]
     },
     "execution_count": 39,
     "metadata": {},
     "output_type": "execute_result"
    }
   ],
   "source": [
    "x.itemsize"
   ]
  },
  {
   "cell_type": "code",
   "execution_count": 40,
   "id": "fcde5546",
   "metadata": {},
   "outputs": [
    {
     "data": {
      "text/plain": [
       "120"
      ]
     },
     "execution_count": 40,
     "metadata": {},
     "output_type": "execute_result"
    }
   ],
   "source": [
    "x.nbytes"
   ]
  },
  {
   "cell_type": "code",
   "execution_count": 41,
   "id": "ec5cf929",
   "metadata": {},
   "outputs": [
    {
     "data": {
      "text/plain": [
       "120"
      ]
     },
     "execution_count": 41,
     "metadata": {},
     "output_type": "execute_result"
    }
   ],
   "source": [
    "x.size * x.itemsize"
   ]
  },
  {
   "cell_type": "markdown",
   "id": "3e2c72ed",
   "metadata": {},
   "source": [
    "### Индексация"
   ]
  },
  {
   "cell_type": "code",
   "execution_count": 42,
   "id": "cac57359",
   "metadata": {},
   "outputs": [
    {
     "data": {
      "text/plain": [
       "array([[[0, 6],\n",
       "        [7, 7],\n",
       "        [1, 3],\n",
       "        [9, 5],\n",
       "        [0, 5]],\n",
       "\n",
       "       [[4, 6],\n",
       "        [4, 2],\n",
       "        [4, 7],\n",
       "        [2, 6],\n",
       "        [0, 7]],\n",
       "\n",
       "       [[9, 3],\n",
       "        [9, 9],\n",
       "        [9, 0],\n",
       "        [4, 8],\n",
       "        [3, 3]]])"
      ]
     },
     "execution_count": 42,
     "metadata": {},
     "output_type": "execute_result"
    }
   ],
   "source": [
    "#x = np.random.randint(10, size = 6)\n",
    "#x = np.random.randint(10, size = (3,5))\n",
    "x = np.random.randint(10, size = (3,5,2))\n",
    "x"
   ]
  },
  {
   "cell_type": "code",
   "execution_count": 46,
   "id": "a51c35fa",
   "metadata": {},
   "outputs": [
    {
     "data": {
      "text/plain": [
       "6"
      ]
     },
     "execution_count": 46,
     "metadata": {},
     "output_type": "execute_result"
    }
   ],
   "source": [
    "x[1,0,1]"
   ]
  },
  {
   "cell_type": "code",
   "execution_count": 50,
   "id": "4c6409d3",
   "metadata": {},
   "outputs": [
    {
     "data": {
      "text/plain": [
       "array([0, 6])"
      ]
     },
     "execution_count": 50,
     "metadata": {},
     "output_type": "execute_result"
    }
   ],
   "source": [
    "x[0,0,:]"
   ]
  },
  {
   "cell_type": "markdown",
   "id": "ec12f1ea",
   "metadata": {},
   "source": [
    "### Срезы"
   ]
  },
  {
   "cell_type": "code",
   "execution_count": 53,
   "id": "f1d74355",
   "metadata": {},
   "outputs": [
    {
     "data": {
      "text/plain": [
       "array([0, 1, 2, 3, 4, 5, 6, 7, 8, 9])"
      ]
     },
     "execution_count": 53,
     "metadata": {},
     "output_type": "execute_result"
    }
   ],
   "source": [
    "x = np.arange(10)\n",
    "x"
   ]
  },
  {
   "cell_type": "markdown",
   "id": "bb0e647d",
   "metadata": {},
   "source": [
    "Для одномерных массивов срезы работают так же, как для списков.\n",
    "\n",
    "**Самостоятельно**\n",
    "- первые 5 элементов\n",
    "- элементы после индекса 5\n",
    "- каждый второй элемент\n",
    "- каждый второй элемент, начиная с индекса 2\n",
    "- все элементы в обратном порядке\n",
    "- каждый второй элемент в обратном порядке"
   ]
  },
  {
   "cell_type": "code",
   "execution_count": 55,
   "id": "905b1273",
   "metadata": {},
   "outputs": [
    {
     "data": {
      "text/plain": [
       "array([0, 1, 2, 3, 4])"
      ]
     },
     "execution_count": 55,
     "metadata": {},
     "output_type": "execute_result"
    }
   ],
   "source": [
    "x[:5]"
   ]
  },
  {
   "cell_type": "code",
   "execution_count": 56,
   "id": "48d1f097",
   "metadata": {},
   "outputs": [
    {
     "data": {
      "text/plain": [
       "array([5, 6, 7, 8, 9])"
      ]
     },
     "execution_count": 56,
     "metadata": {},
     "output_type": "execute_result"
    }
   ],
   "source": [
    "x[5:]"
   ]
  },
  {
   "cell_type": "code",
   "execution_count": 57,
   "id": "8d83eca9",
   "metadata": {},
   "outputs": [
    {
     "data": {
      "text/plain": [
       "array([0, 2, 4, 6, 8])"
      ]
     },
     "execution_count": 57,
     "metadata": {},
     "output_type": "execute_result"
    }
   ],
   "source": [
    "x[::2]"
   ]
  },
  {
   "cell_type": "code",
   "execution_count": 60,
   "id": "f1db2010",
   "metadata": {},
   "outputs": [
    {
     "data": {
      "text/plain": [
       "array([2, 4, 6, 8])"
      ]
     },
     "execution_count": 60,
     "metadata": {},
     "output_type": "execute_result"
    }
   ],
   "source": [
    "x[2::2]"
   ]
  },
  {
   "cell_type": "code",
   "execution_count": 58,
   "id": "86a67d4e",
   "metadata": {},
   "outputs": [
    {
     "data": {
      "text/plain": [
       "array([9, 8, 7, 6, 5, 4, 3, 2, 1, 0])"
      ]
     },
     "execution_count": 58,
     "metadata": {},
     "output_type": "execute_result"
    }
   ],
   "source": [
    "x[::-1]"
   ]
  },
  {
   "cell_type": "code",
   "execution_count": 59,
   "id": "d449f3d4",
   "metadata": {},
   "outputs": [
    {
     "data": {
      "text/plain": [
       "array([9, 7, 5, 3, 1])"
      ]
     },
     "execution_count": 59,
     "metadata": {},
     "output_type": "execute_result"
    }
   ],
   "source": [
    "x[::-2]"
   ]
  },
  {
   "cell_type": "markdown",
   "id": "fd906c81",
   "metadata": {},
   "source": [
    "Для многомерных массивов все работает похожим образом, срезы разделяются запятыми"
   ]
  },
  {
   "cell_type": "code",
   "execution_count": 61,
   "id": "280c774a",
   "metadata": {},
   "outputs": [
    {
     "data": {
      "text/plain": [
       "array([[2, 5, 6, 8, 1],\n",
       "       [0, 9, 9, 7, 6],\n",
       "       [2, 2, 6, 1, 8]])"
      ]
     },
     "execution_count": 61,
     "metadata": {},
     "output_type": "execute_result"
    }
   ],
   "source": [
    "x = np.random.randint(10, size = (3,5))\n",
    "x"
   ]
  },
  {
   "cell_type": "code",
   "execution_count": 62,
   "id": "71b053a4",
   "metadata": {},
   "outputs": [
    {
     "data": {
      "text/plain": [
       "array([[2, 5, 6],\n",
       "       [0, 9, 9]])"
      ]
     },
     "execution_count": 62,
     "metadata": {},
     "output_type": "execute_result"
    }
   ],
   "source": [
    "x[:2,:3]"
   ]
  },
  {
   "cell_type": "code",
   "execution_count": 63,
   "id": "7320a4af",
   "metadata": {},
   "outputs": [
    {
     "data": {
      "text/plain": [
       "array([[2, 6, 1],\n",
       "       [0, 9, 6],\n",
       "       [2, 6, 8]])"
      ]
     },
     "execution_count": 63,
     "metadata": {},
     "output_type": "execute_result"
    }
   ],
   "source": [
    "x[:3,::2]"
   ]
  },
  {
   "cell_type": "code",
   "execution_count": 64,
   "id": "a1cd009a",
   "metadata": {},
   "outputs": [
    {
     "data": {
      "text/plain": [
       "array([[1, 8, 6, 5, 2],\n",
       "       [6, 7, 9, 9, 0],\n",
       "       [8, 1, 6, 2, 2]])"
      ]
     },
     "execution_count": 64,
     "metadata": {},
     "output_type": "execute_result"
    }
   ],
   "source": [
    "x[::1,::-1]"
   ]
  },
  {
   "cell_type": "code",
   "execution_count": 65,
   "id": "1a39cef7",
   "metadata": {},
   "outputs": [
    {
     "data": {
      "text/plain": [
       "array([[2, 5, 6, 8, 1],\n",
       "       [0, 9, 9, 7, 6],\n",
       "       [2, 2, 6, 1, 8]])"
      ]
     },
     "execution_count": 65,
     "metadata": {},
     "output_type": "execute_result"
    }
   ],
   "source": [
    "x"
   ]
  },
  {
   "cell_type": "code",
   "execution_count": 66,
   "id": "13df330a",
   "metadata": {},
   "outputs": [
    {
     "data": {
      "text/plain": [
       "array([2, 0, 2])"
      ]
     },
     "execution_count": 66,
     "metadata": {},
     "output_type": "execute_result"
    }
   ],
   "source": [
    "x[:,0]"
   ]
  },
  {
   "cell_type": "code",
   "execution_count": 67,
   "id": "e1983b2a",
   "metadata": {},
   "outputs": [
    {
     "data": {
      "text/plain": [
       "array([0, 9, 9, 7, 6])"
      ]
     },
     "execution_count": 67,
     "metadata": {},
     "output_type": "execute_result"
    }
   ],
   "source": [
    "x[1,:]"
   ]
  },
  {
   "cell_type": "markdown",
   "id": "cc910f7f",
   "metadata": {},
   "source": [
    "Срезы массивов возвращают представления, а не копии (!)"
   ]
  },
  {
   "cell_type": "code",
   "execution_count": 68,
   "id": "3f801aaa",
   "metadata": {},
   "outputs": [
    {
     "data": {
      "text/plain": [
       "array([[2, 5, 6, 8, 1],\n",
       "       [0, 9, 9, 7, 6],\n",
       "       [2, 2, 6, 1, 8]])"
      ]
     },
     "execution_count": 68,
     "metadata": {},
     "output_type": "execute_result"
    }
   ],
   "source": [
    "x"
   ]
  },
  {
   "cell_type": "code",
   "execution_count": 69,
   "id": "09903b73",
   "metadata": {},
   "outputs": [
    {
     "data": {
      "text/plain": [
       "array([[2, 5],\n",
       "       [0, 9]])"
      ]
     },
     "execution_count": 69,
     "metadata": {},
     "output_type": "execute_result"
    }
   ],
   "source": [
    "x_sub = x[:2,:2]\n",
    "x_sub"
   ]
  },
  {
   "cell_type": "code",
   "execution_count": 70,
   "id": "8d561363",
   "metadata": {},
   "outputs": [
    {
     "data": {
      "text/plain": [
       "array([[100, 100],\n",
       "       [  0,   9]])"
      ]
     },
     "execution_count": 70,
     "metadata": {},
     "output_type": "execute_result"
    }
   ],
   "source": [
    "x_sub[0] = 100\n",
    "x_sub"
   ]
  },
  {
   "cell_type": "code",
   "execution_count": 71,
   "id": "a063b0c6",
   "metadata": {},
   "outputs": [
    {
     "data": {
      "text/plain": [
       "array([[100, 100,   6,   8,   1],\n",
       "       [  0,   9,   9,   7,   6],\n",
       "       [  2,   2,   6,   1,   8]])"
      ]
     },
     "execution_count": 71,
     "metadata": {},
     "output_type": "execute_result"
    }
   ],
   "source": [
    "x"
   ]
  },
  {
   "cell_type": "markdown",
   "id": "bc3a4824",
   "metadata": {},
   "source": [
    "Если нужно создать копию:"
   ]
  },
  {
   "cell_type": "code",
   "execution_count": 72,
   "id": "be9ca2c2",
   "metadata": {},
   "outputs": [
    {
     "name": "stdout",
     "output_type": "stream",
     "text": [
      "[[10000   100]\n",
      " [    0     9]]\n",
      "[[100 100   6   8   1]\n",
      " [  0   9   9   7   6]\n",
      " [  2   2   6   1   8]]\n"
     ]
    }
   ],
   "source": [
    "x_sub_copy = x[:2,:2].copy()\n",
    "x_sub_copy[0,0] = 10000\n",
    "print(x_sub_copy)\n",
    "print(x)"
   ]
  },
  {
   "cell_type": "markdown",
   "id": "bc9f6678",
   "metadata": {},
   "source": [
    "### Изменение формы"
   ]
  },
  {
   "cell_type": "code",
   "execution_count": 78,
   "id": "c3f9ff6f",
   "metadata": {},
   "outputs": [
    {
     "data": {
      "text/plain": [
       "array([[ 1,  2,  3],\n",
       "       [ 4,  5,  6],\n",
       "       [ 7,  8,  9],\n",
       "       [10, 11, 12]])"
      ]
     },
     "execution_count": 78,
     "metadata": {},
     "output_type": "execute_result"
    }
   ],
   "source": [
    "grid = np.arange(1,13).reshape((4,3))\n",
    "grid"
   ]
  },
  {
   "cell_type": "code",
   "execution_count": 79,
   "id": "7cd4b7c9",
   "metadata": {},
   "outputs": [
    {
     "data": {
      "text/plain": [
       "array([[ 1,  2,  3,  4,  5,  6],\n",
       "       [ 7,  8,  9, 10, 11, 12]])"
      ]
     },
     "execution_count": 79,
     "metadata": {},
     "output_type": "execute_result"
    }
   ],
   "source": [
    "grid.reshape((2,6))"
   ]
  },
  {
   "cell_type": "code",
   "execution_count": 80,
   "id": "3e071646",
   "metadata": {},
   "outputs": [
    {
     "data": {
      "text/plain": [
       "array([[ 1],\n",
       "       [ 2],\n",
       "       [ 3],\n",
       "       [ 4],\n",
       "       [ 5],\n",
       "       [ 6],\n",
       "       [ 7],\n",
       "       [ 8],\n",
       "       [ 9],\n",
       "       [10],\n",
       "       [11],\n",
       "       [12]])"
      ]
     },
     "execution_count": 80,
     "metadata": {},
     "output_type": "execute_result"
    }
   ],
   "source": [
    "grid.reshape((12,1))"
   ]
  },
  {
   "cell_type": "code",
   "execution_count": 81,
   "id": "e8d9e4a7",
   "metadata": {},
   "outputs": [
    {
     "data": {
      "text/plain": [
       "array([[ 1,  2,  3,  4,  5,  6,  7,  8,  9, 10, 11, 12]])"
      ]
     },
     "execution_count": 81,
     "metadata": {},
     "output_type": "execute_result"
    }
   ],
   "source": [
    "grid.reshape((1,12))"
   ]
  },
  {
   "cell_type": "markdown",
   "id": "adb520c9",
   "metadata": {},
   "source": [
    "### Слияние и разбиение массивов"
   ]
  },
  {
   "cell_type": "markdown",
   "id": "34cf0e50",
   "metadata": {},
   "source": [
    "В NumPy есть следующие функции для объединения массивов:\n",
    "\n",
    "- concatenate\n",
    "- vstack\n",
    "- hstack"
   ]
  },
  {
   "cell_type": "code",
   "execution_count": 82,
   "id": "3fe6e771",
   "metadata": {},
   "outputs": [],
   "source": [
    "x = np.array([1,2,3])\n",
    "y = np.array([4,5,6])"
   ]
  },
  {
   "cell_type": "code",
   "execution_count": 83,
   "id": "3e0c61e1",
   "metadata": {},
   "outputs": [
    {
     "data": {
      "text/plain": [
       "array([1, 2, 3, 4, 5, 6])"
      ]
     },
     "execution_count": 83,
     "metadata": {},
     "output_type": "execute_result"
    }
   ],
   "source": [
    "np.concatenate((x,y))"
   ]
  },
  {
   "cell_type": "code",
   "execution_count": 96,
   "id": "4e1f1cf1",
   "metadata": {},
   "outputs": [
    {
     "name": "stdout",
     "output_type": "stream",
     "text": [
      "[[8 0 5]\n",
      " [8 6 8]\n",
      " [6 3 7]\n",
      " [9 7 1]\n",
      " [3 6 8]]\n",
      "[[3 7 1]\n",
      " [0 7 7]\n",
      " [3 1 2]\n",
      " [7 2 3]\n",
      " [4 1 2]]\n"
     ]
    }
   ],
   "source": [
    "x = np.random.randint(10, size = (5,3))\n",
    "y = np.random.randint(10, size = (5,3))\n",
    "print(x)\n",
    "print(y)"
   ]
  },
  {
   "cell_type": "code",
   "execution_count": 97,
   "id": "17c46d22",
   "metadata": {},
   "outputs": [
    {
     "data": {
      "text/plain": [
       "array([[8, 0, 5, 3, 7, 1],\n",
       "       [8, 6, 8, 0, 7, 7],\n",
       "       [6, 3, 7, 3, 1, 2],\n",
       "       [9, 7, 1, 7, 2, 3],\n",
       "       [3, 6, 8, 4, 1, 2]])"
      ]
     },
     "execution_count": 97,
     "metadata": {},
     "output_type": "execute_result"
    }
   ],
   "source": [
    "np.concatenate((x,y),axis = 1)"
   ]
  },
  {
   "cell_type": "code",
   "execution_count": 98,
   "id": "03bc5599",
   "metadata": {},
   "outputs": [
    {
     "data": {
      "text/plain": [
       "array([[8, 0, 5, 3, 7, 1],\n",
       "       [8, 6, 8, 0, 7, 7],\n",
       "       [6, 3, 7, 3, 1, 2],\n",
       "       [9, 7, 1, 7, 2, 3],\n",
       "       [3, 6, 8, 4, 1, 2]])"
      ]
     },
     "execution_count": 98,
     "metadata": {},
     "output_type": "execute_result"
    }
   ],
   "source": [
    "np.hstack([x,y])"
   ]
  },
  {
   "cell_type": "code",
   "execution_count": 99,
   "id": "da4599a2",
   "metadata": {},
   "outputs": [
    {
     "name": "stdout",
     "output_type": "stream",
     "text": [
      "[[8 0 6]\n",
      " [8 7 0]\n",
      " [3 0 2]\n",
      " [5 7 2]]\n",
      "[[5 3 1]\n",
      " [7 2 1]\n",
      " [5 6 7]\n",
      " [3 4 3]\n",
      " [8 9 2]]\n"
     ]
    }
   ],
   "source": [
    "x = np.random.randint(10, size = (4,3))\n",
    "y = np.random.randint(10, size = (5,3))\n",
    "print(x)\n",
    "print(y)"
   ]
  },
  {
   "cell_type": "code",
   "execution_count": 100,
   "id": "b2261023",
   "metadata": {},
   "outputs": [
    {
     "data": {
      "text/plain": [
       "array([[8, 0, 6],\n",
       "       [8, 7, 0],\n",
       "       [3, 0, 2],\n",
       "       [5, 7, 2],\n",
       "       [5, 3, 1],\n",
       "       [7, 2, 1],\n",
       "       [5, 6, 7],\n",
       "       [3, 4, 3],\n",
       "       [8, 9, 2]])"
      ]
     },
     "execution_count": 100,
     "metadata": {},
     "output_type": "execute_result"
    }
   ],
   "source": [
    "np.vstack([x,y])"
   ]
  },
  {
   "cell_type": "markdown",
   "id": "cc9fe16f",
   "metadata": {},
   "source": [
    "Есть еще аналогичная функция np.dstack для объединения массивов по третье оси"
   ]
  },
  {
   "cell_type": "markdown",
   "id": "3173bccd",
   "metadata": {},
   "source": [
    "Функции для разбиения массивов:\n",
    "\n",
    "- split\n",
    "- hsplit\n",
    "- vsplit\n",
    "\n",
    "Этим функциям необходимо передать список идексов, задающих точки раздела"
   ]
  },
  {
   "cell_type": "code",
   "execution_count": 101,
   "id": "1e6b7d34",
   "metadata": {},
   "outputs": [
    {
     "data": {
      "text/plain": [
       "array([0, 1, 2, 3, 4, 5, 6, 7, 8, 9])"
      ]
     },
     "execution_count": 101,
     "metadata": {},
     "output_type": "execute_result"
    }
   ],
   "source": [
    "x = np.arange(10)\n",
    "x"
   ]
  },
  {
   "cell_type": "code",
   "execution_count": 104,
   "id": "48c6cbb5",
   "metadata": {},
   "outputs": [],
   "source": [
    "nodes = [3,5]\n",
    "x1, x2, x3 = np.split(x,nodes)"
   ]
  },
  {
   "cell_type": "code",
   "execution_count": 105,
   "id": "b72d86c0",
   "metadata": {},
   "outputs": [
    {
     "name": "stdout",
     "output_type": "stream",
     "text": [
      "[0 1 2]\n",
      "[3 4]\n",
      "[5 6 7 8 9]\n"
     ]
    }
   ],
   "source": [
    "print(x1)\n",
    "print(x2)\n",
    "print(x3)"
   ]
  },
  {
   "cell_type": "code",
   "execution_count": 106,
   "id": "92aa6756",
   "metadata": {},
   "outputs": [
    {
     "data": {
      "text/plain": [
       "array([[ 0,  1,  2,  3,  4,  5,  6,  7,  8,  9],\n",
       "       [10, 11, 12, 13, 14, 15, 16, 17, 18, 19],\n",
       "       [20, 21, 22, 23, 24, 25, 26, 27, 28, 29],\n",
       "       [30, 31, 32, 33, 34, 35, 36, 37, 38, 39],\n",
       "       [40, 41, 42, 43, 44, 45, 46, 47, 48, 49],\n",
       "       [50, 51, 52, 53, 54, 55, 56, 57, 58, 59],\n",
       "       [60, 61, 62, 63, 64, 65, 66, 67, 68, 69],\n",
       "       [70, 71, 72, 73, 74, 75, 76, 77, 78, 79],\n",
       "       [80, 81, 82, 83, 84, 85, 86, 87, 88, 89],\n",
       "       [90, 91, 92, 93, 94, 95, 96, 97, 98, 99]])"
      ]
     },
     "execution_count": 106,
     "metadata": {},
     "output_type": "execute_result"
    }
   ],
   "source": [
    "x = np.arange(100).reshape([10,10])\n",
    "x"
   ]
  },
  {
   "cell_type": "code",
   "execution_count": 107,
   "id": "a8a3a0b9",
   "metadata": {},
   "outputs": [],
   "source": [
    "upper, lower = np.vsplit(x,[5])"
   ]
  },
  {
   "cell_type": "code",
   "execution_count": 108,
   "id": "6ab1b498",
   "metadata": {},
   "outputs": [
    {
     "data": {
      "text/plain": [
       "array([[ 0,  1,  2,  3,  4,  5,  6,  7,  8,  9],\n",
       "       [10, 11, 12, 13, 14, 15, 16, 17, 18, 19],\n",
       "       [20, 21, 22, 23, 24, 25, 26, 27, 28, 29],\n",
       "       [30, 31, 32, 33, 34, 35, 36, 37, 38, 39],\n",
       "       [40, 41, 42, 43, 44, 45, 46, 47, 48, 49]])"
      ]
     },
     "execution_count": 108,
     "metadata": {},
     "output_type": "execute_result"
    }
   ],
   "source": [
    "upper"
   ]
  },
  {
   "cell_type": "code",
   "execution_count": 109,
   "id": "4cb5d92a",
   "metadata": {},
   "outputs": [
    {
     "data": {
      "text/plain": [
       "array([[50, 51, 52, 53, 54, 55, 56, 57, 58, 59],\n",
       "       [60, 61, 62, 63, 64, 65, 66, 67, 68, 69],\n",
       "       [70, 71, 72, 73, 74, 75, 76, 77, 78, 79],\n",
       "       [80, 81, 82, 83, 84, 85, 86, 87, 88, 89],\n",
       "       [90, 91, 92, 93, 94, 95, 96, 97, 98, 99]])"
      ]
     },
     "execution_count": 109,
     "metadata": {},
     "output_type": "execute_result"
    }
   ],
   "source": [
    "lower"
   ]
  },
  {
   "cell_type": "code",
   "execution_count": 110,
   "id": "d1aaaffa",
   "metadata": {},
   "outputs": [],
   "source": [
    "left, right = np.hsplit(x,[2])"
   ]
  },
  {
   "cell_type": "code",
   "execution_count": 111,
   "id": "03addf91",
   "metadata": {},
   "outputs": [
    {
     "data": {
      "text/plain": [
       "array([[ 0,  1],\n",
       "       [10, 11],\n",
       "       [20, 21],\n",
       "       [30, 31],\n",
       "       [40, 41],\n",
       "       [50, 51],\n",
       "       [60, 61],\n",
       "       [70, 71],\n",
       "       [80, 81],\n",
       "       [90, 91]])"
      ]
     },
     "execution_count": 111,
     "metadata": {},
     "output_type": "execute_result"
    }
   ],
   "source": [
    "left"
   ]
  },
  {
   "cell_type": "code",
   "execution_count": 112,
   "id": "7abb46dd",
   "metadata": {},
   "outputs": [
    {
     "data": {
      "text/plain": [
       "array([[ 2,  3,  4,  5,  6,  7,  8,  9],\n",
       "       [12, 13, 14, 15, 16, 17, 18, 19],\n",
       "       [22, 23, 24, 25, 26, 27, 28, 29],\n",
       "       [32, 33, 34, 35, 36, 37, 38, 39],\n",
       "       [42, 43, 44, 45, 46, 47, 48, 49],\n",
       "       [52, 53, 54, 55, 56, 57, 58, 59],\n",
       "       [62, 63, 64, 65, 66, 67, 68, 69],\n",
       "       [72, 73, 74, 75, 76, 77, 78, 79],\n",
       "       [82, 83, 84, 85, 86, 87, 88, 89],\n",
       "       [92, 93, 94, 95, 96, 97, 98, 99]])"
      ]
     },
     "execution_count": 112,
     "metadata": {},
     "output_type": "execute_result"
    }
   ],
   "source": [
    "right"
   ]
  },
  {
   "cell_type": "markdown",
   "id": "8d9fc850",
   "metadata": {},
   "source": [
    "для трехмерных массивов аналогично есть функция dsplit"
   ]
  },
  {
   "cell_type": "markdown",
   "id": "7b1b777c",
   "metadata": {},
   "source": [
    "**Самостоятельно**\n",
    "\n",
    "- Создать массивы случайных чисел размерностью 20 на 10 и 20 на 40\n",
    "- Объединить эти массивы по первому измерению\n",
    "- Разбить полученный массив на 2 равные половины, размерностью 20 на 25 \n",
    "- Преобразовать первый полученный массив в вектор-строку, а второй в вектор-столбец"
   ]
  },
  {
   "cell_type": "code",
   "execution_count": 113,
   "id": "cc942b1c",
   "metadata": {},
   "outputs": [],
   "source": []
  },
  {
   "cell_type": "code",
   "execution_count": null,
   "id": "a802a81c",
   "metadata": {},
   "outputs": [],
   "source": []
  },
  {
   "cell_type": "code",
   "execution_count": null,
   "id": "fc34b8fc",
   "metadata": {},
   "outputs": [],
   "source": []
  },
  {
   "cell_type": "code",
   "execution_count": null,
   "id": "1998370d",
   "metadata": {},
   "outputs": [],
   "source": []
  },
  {
   "cell_type": "markdown",
   "id": "37f59f0f",
   "metadata": {},
   "source": [
    "## Выводы"
   ]
  },
  {
   "cell_type": "code",
   "execution_count": null,
   "id": "7cb3174c",
   "metadata": {},
   "outputs": [],
   "source": []
  }
 ],
 "metadata": {
  "kernelspec": {
   "display_name": "Python 3 (ipykernel)",
   "language": "python",
   "name": "python3"
  },
  "language_info": {
   "codemirror_mode": {
    "name": "ipython",
    "version": 3
   },
   "file_extension": ".py",
   "mimetype": "text/x-python",
   "name": "python",
   "nbconvert_exporter": "python",
   "pygments_lexer": "ipython3",
   "version": "3.9.12"
  }
 },
 "nbformat": 4,
 "nbformat_minor": 5
}
