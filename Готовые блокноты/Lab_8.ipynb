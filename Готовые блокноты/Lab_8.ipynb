{
 "cells": [
  {
   "cell_type": "markdown",
   "id": "b8dd3231",
   "metadata": {},
   "source": [
    "# Практическая работа № 8\n",
    "## Работа с полетными логами\n"
   ]
  },
  {
   "cell_type": "markdown",
   "id": "6663aacc",
   "metadata": {},
   "source": [
    "На прошлых занятиях мы начали знакомство с массивами NumPy и инструментами их визуализации. Сегодня мы используем их для анализа лога, записанного во время полета экспериментального БПЛА. Лог содержит следующую информацию:\n",
    "- высота по показаниям барометрического датчика (BaroAlt)\n",
    "- положения левого и правого элевонов (LE, RE)\n",
    "- данные с GPS (широта, долгота, высота над уровнем моря, модуль скорости над землей, курс) (Lang, Lat, MSL_A, SoG, CoG)\n",
    "- угол тангажа (Pitch)\n",
    "- угол крена (Roll)\n",
    "- положение ручки газа (Throttle)\n",
    "- атмосферное давление (Press)\n",
    "\n",
    "Даные снимались с частотой 50 Гц.\n",
    "\n",
    "Логирующее устройство создавалось в парадигме модельно-ориентированного проектирования, поэтому лог был сохранен как mat-файл. Мы начнем с того, что прочитаем этот файл средствами Python."
   ]
  },
  {
   "cell_type": "markdown",
   "id": "c0c2c7bc",
   "metadata": {},
   "source": [
    "### 1. Чтение .mat-файлов"
   ]
  },
  {
   "cell_type": "code",
   "execution_count": null,
   "id": "42ae9b7e",
   "metadata": {},
   "outputs": [],
   "source": [
    "import numpy as np\n",
    "import matplotlib\n",
    "import matplotlib.pyplot as plt"
   ]
  },
  {
   "cell_type": "markdown",
   "id": "42269a67",
   "metadata": {},
   "source": [
    ".mat - довольно специфичный формат хранения данных, чтобы его корректно прочитать, нам понадобится специальный модуль из библиотеки SciPy.\n",
    "SciPy - специальная библиотека функций для научных вычислений, основана на массивах NumPy. Если вы использует Анаконду, эта библиотека у вас уже установлена. В противном случае установите ее при помощи команды\n",
    "\n",
    "pip install scipy"
   ]
  },
  {
   "cell_type": "code",
   "execution_count": null,
   "id": "f8224c97",
   "metadata": {},
   "outputs": [],
   "source": [
    "import scipy\n",
    "from scipy.io import loadmat"
   ]
  },
  {
   "cell_type": "code",
   "execution_count": null,
   "id": "f0fcc875",
   "metadata": {},
   "outputs": [],
   "source": [
    "data = loadmat('Log.mat')"
   ]
  },
  {
   "cell_type": "code",
   "execution_count": null,
   "id": "7c70ca3d",
   "metadata": {},
   "outputs": [],
   "source": [
    "data"
   ]
  },
  {
   "cell_type": "markdown",
   "id": "9b915070",
   "metadata": {},
   "source": [
    "Итак, данные прочитаны и сразу сохранены в словарь. При этом имена переменных были использованы как ключи, а значения - как значения по этим ключам."
   ]
  },
  {
   "cell_type": "code",
   "execution_count": null,
   "id": "2e45f768",
   "metadata": {},
   "outputs": [],
   "source": [
    "type(data)"
   ]
  },
  {
   "cell_type": "markdown",
   "id": "56c48b19",
   "metadata": {},
   "source": [
    "В начале идут некоторые метаданные, сейчас они нам мало интересны. Собственно лог начинается с ключа BaroAlt. Мы можем извлечь любой интересующий нас параметр просто по ключу"
   ]
  },
  {
   "cell_type": "code",
   "execution_count": null,
   "id": "1ff4996d",
   "metadata": {},
   "outputs": [],
   "source": [
    "data.keys()"
   ]
  },
  {
   "cell_type": "markdown",
   "id": "03ab436f",
   "metadata": {},
   "source": [
    "Оценим количество измерений по любому из параметров"
   ]
  },
  {
   "cell_type": "code",
   "execution_count": null,
   "id": "e4c60944",
   "metadata": {},
   "outputs": [],
   "source": [
    "len(data['Lang'])"
   ]
  },
  {
   "cell_type": "markdown",
   "id": "5688635a",
   "metadata": {},
   "source": [
    "Данные в исходном файле являются \"сырыми\", т.е. могут содержать помехи, артефакты, могли быть вообще не записаны, если у какого-то из датчиков пропал контакт, отпало питание и пр., в полете всякое случается. Давайте отстроим их."
   ]
  },
  {
   "cell_type": "markdown",
   "id": "d8d4f46b",
   "metadata": {},
   "source": [
    "## 2. Визуализация сырых данных"
   ]
  },
  {
   "cell_type": "markdown",
   "id": "8d872646",
   "metadata": {},
   "source": [
    "Начнем с данных о высоте полета. Она фиксировалась двумя датчиками: барометрическим и GPS. Высота записывалась в метрах. Для барометра относительно некоторого колибровочного значения, по GPS - относительно уровня моря."
   ]
  },
  {
   "cell_type": "code",
   "execution_count": null,
   "id": "4875f611",
   "metadata": {
    "scrolled": false
   },
   "outputs": [],
   "source": [
    "plt.figure(figsize = [15,8], dpi=200)\n",
    "plt.subplot(2,1,1)\n",
    "plt.plot(data['BaroAlt'])\n",
    "plt.grid(True)\n",
    "plt.title('Высота по барометрическому датчику')\n",
    "\n",
    "plt.subplot(2,1,2)\n",
    "plt.plot(data['MSL_A'])\n",
    "plt.grid(True)\n",
    "plt.title('Высота по GPS')"
   ]
  },
  {
   "cell_type": "markdown",
   "id": "810cee3b",
   "metadata": {},
   "source": [
    "Что можно сказать по этим графикам? Во-первых, в них наблюдается значительное количество артефактных значений. Во-вторых, есть вопросы к калибровке барометрического датчика. Однако, в общем и целом, сырые данные выглядят вполне правдоподобно.\n",
    "\n",
    "Посмотрим теперь, как во время полета менялось положение \"ручки газа\""
   ]
  },
  {
   "cell_type": "code",
   "execution_count": null,
   "id": "6d452bff",
   "metadata": {},
   "outputs": [],
   "source": [
    "plt.figure(figsize = [15,8], dpi=200)\n",
    "plt.plot(data['Throttle'])\n",
    "plt.grid(True)"
   ]
  },
  {
   "cell_type": "markdown",
   "id": "c5e1a96a",
   "metadata": {},
   "source": [
    "График выглядит не слишком обнадеживающим. В таком виде по нему сложно судить, записалось ли что-либо вообще, из-за чудовищной величины артефакта (34-я степень(!)). Поскольку на данном этапе стоит задача визуализации данных (ну еще возможно первичного анализа \"методом пристального взгляда\")), а не обработки, давай попробуем просто настроить область отображения осей. Как выбрать эту область? Нужно понимать порядок величины, которую мы собираемся наблюдать. Есть разные способы его узнать (кстати подумайте сами - какие?). Для примера давайте просто определим среднее значение исследуемого параметра в области, где он сейчас визуально выглядит нулевым."
   ]
  },
  {
   "cell_type": "code",
   "execution_count": null,
   "id": "3da93719",
   "metadata": {},
   "outputs": [],
   "source": [
    "np.mean(data['Throttle'][0:1000])"
   ]
  },
  {
   "cell_type": "markdown",
   "id": "821ea02c",
   "metadata": {},
   "source": [
    "Попробуйте изменять размер этой области и понаблюдайте за результатом"
   ]
  },
  {
   "cell_type": "markdown",
   "id": "ebe02420",
   "metadata": {},
   "source": [
    "Видно, что порядок данных это -  в лучшем случае десятки, но никак не сотни, и уж точно не 1e34. Давайте настроим пределы отображения осей с учетом этой информации."
   ]
  },
  {
   "cell_type": "code",
   "execution_count": null,
   "id": "96d31435",
   "metadata": {},
   "outputs": [],
   "source": [
    "plt.figure(figsize = [15,8], dpi=200)\n",
    "plt.plot(data['Throttle'])\n",
    "plt.grid(True)\n",
    "plt.ylim(0,20)\n",
    "plt.title('Throttle')"
   ]
  },
  {
   "cell_type": "markdown",
   "id": "a2664525",
   "metadata": {},
   "source": [
    "Так уже можно наблюдать что-то осмысленное. Как и предыдущие, этот параметр был записан с некотором количеством артефактных значений. Также можно наблюдать смещение 0. (Но в целом, график выглядит правдоподобно, и если смотреть внимательно, то видно, что он согласуется с графиками изменения высоты полета. Т.е. после некоторй обработки эти данные будут пригодны для дальнейшего анализа. "
   ]
  },
  {
   "cell_type": "markdown",
   "id": "87c0fe49",
   "metadata": {},
   "source": [
    "Теперь посмотрим, как изменялись углы установки управляющих элементов\n",
    "\n",
    "Кстати, поскольку тут речь идет об углах (в градусах), мы можем сразу предположить, что корректные значения точно не могут покинуть пределов +- 90 градусов, а реально должны находиться в гораздо более узких пределах  "
   ]
  },
  {
   "cell_type": "code",
   "execution_count": null,
   "id": "b24d9718",
   "metadata": {},
   "outputs": [],
   "source": [
    "# Правый элевон\n",
    "plt.figure(figsize = [15,8], dpi=200)\n",
    "plt.subplot(2,1,1)\n",
    "plt.plot(data['RE'])\n",
    "plt.grid(True)\n",
    "plt.ylim(5,10)\n",
    "plt.title('RE')\n",
    "\n",
    "# Левый элевон\n",
    "plt.subplot(2,1,2)\n",
    "plt.plot(data['LE'])\n",
    "plt.grid(True)\n",
    "plt.ylim(5,10)\n",
    "plt.title('LE')\n"
   ]
  },
  {
   "cell_type": "markdown",
   "id": "49e41b68",
   "metadata": {},
   "source": [
    "Теперь рассмотрим координаты"
   ]
  },
  {
   "cell_type": "code",
   "execution_count": null,
   "id": "3d0ab608",
   "metadata": {},
   "outputs": [],
   "source": [
    "# Широта\n",
    "plt.figure(figsize = [15,8], dpi=200)\n",
    "plt.subplot(2,1,1)\n",
    "plt.plot(data['Lat'])\n",
    "plt.grid(True)\n",
    "plt.title('Lat')\n",
    "\n",
    "# Долгота\n",
    "plt.subplot(2,1,2)\n",
    "plt.plot(data['Lang'])\n",
    "plt.grid(True)\n",
    "plt.title('Lang')\n"
   ]
  },
  {
   "cell_type": "markdown",
   "id": "b7266973",
   "metadata": {},
   "source": [
    "Как и до этого, наличие артефактов мешает сразу увидеть изменение интересующих нас параметров. Давайте напечатаем небольшую часть этих данных, чтобы понимать, в каком формате координаты были записаны."
   ]
  },
  {
   "cell_type": "code",
   "execution_count": null,
   "id": "438b51b7",
   "metadata": {},
   "outputs": [],
   "source": [
    "for ind, item in enumerate(data['Lat'][0:50]):\n",
    "    print(ind,'Lat: ',item,'Lang: ', data['Lang'][ind])\n"
   ]
  },
  {
   "cell_type": "markdown",
   "id": "237263b0",
   "metadata": {},
   "source": [
    "Можно видеть следующее: во-первых, датчик начал передавать данные только с 45 тика, т.е. через 45x0.2 = 9 секунд, во-вторых, с учетом того, что лог был записан где-то в окрестностях Таганога, координаты не вполне типичны: похоже, что точкой отделены секунды, а не минуты. Попробуйте взять первую значимою пару и переместить точку на 2 знака вперед: (47.14021 38.544978). Эти координаты уже болше похожи на координаты окрестностей Таганрога. Скопируйте их в поисковую строку на google-картах, и получите примерное положение точки взлета на поле, на котором был записан исследуемый лог. \n",
    "\n",
    "Пока не стоит задача какой-либо обработки данных, но на графике мы для собственного удобства можем переместить оси к стартовой точке. Что касается пределов отображения, очевидно, что поле, на котором проводились испытания, не настолько огромно, чтобы в координатах менялись градусы или даже минуты, значит мы ожидаем изменения только в секундах. В соответствии с этим и настроим пределы."
   ]
  },
  {
   "cell_type": "code",
   "execution_count": null,
   "id": "147f6557",
   "metadata": {},
   "outputs": [],
   "source": [
    "start_spot = [4714.021, 3854.4978]\n",
    "# Широта\n",
    "plt.figure(figsize = [15,8], dpi=200)\n",
    "plt.subplot(2,1,1)\n",
    "plt.plot(data['Lat'] - start_spot[0])\n",
    "plt.grid(True)\n",
    "plt.ylim(-0.05,0.05)\n",
    "plt.title('Lat')\n",
    "\n",
    "# Долгота\n",
    "plt.subplot(2,1,2)\n",
    "plt.plot(data['Lang'] - start_spot[1])\n",
    "plt.grid(True)\n",
    "plt.ylim(-0.05,0.05)\n",
    "plt.title('Lang')"
   ]
  },
  {
   "cell_type": "markdown",
   "id": "062ca1f4",
   "metadata": {},
   "source": [
    "Настроить пределы отображения для углов крена и тангажа значительно проще, т.к. у них есть очевидные экстремальные значения."
   ]
  },
  {
   "cell_type": "code",
   "execution_count": null,
   "id": "4a01be8a",
   "metadata": {},
   "outputs": [],
   "source": [
    "# Крен\n",
    "plt.figure(figsize = [15,8], dpi=200)\n",
    "plt.subplot(2,1,1)\n",
    "plt.plot(data['Roll'])\n",
    "plt.grid(True)\n",
    "plt.ylim(-90,90)\n",
    "plt.title('Roll')\n",
    "\n",
    "# Тангаж\n",
    "plt.subplot(2,1,2)\n",
    "plt.plot(data['Pitch'])\n",
    "plt.grid(True)\n",
    "plt.ylim(-90,90)\n",
    "plt.title('Pitch')\n"
   ]
  },
  {
   "cell_type": "markdown",
   "id": "495e481e",
   "metadata": {},
   "source": [
    "Пределы для графиков курса, линейной скорости относительно земли и атмосферного давления также следует выбирать, изходя из природы этих величин и соответствующих адекватных значений."
   ]
  },
  {
   "cell_type": "code",
   "execution_count": null,
   "id": "e3ab7c94",
   "metadata": {},
   "outputs": [],
   "source": [
    "# Курс\n",
    "plt.figure(figsize = [15,8], dpi=200)\n",
    "plt.subplot(2,1,1)\n",
    "plt.plot(data['CoG'])\n",
    "plt.grid(True)\n",
    "plt.ylim(0,360)\n",
    "plt.title('CoG')\n",
    "\n",
    "# Скорость над землей\n",
    "plt.subplot(2,1,2)\n",
    "plt.plot(data['SoG'])\n",
    "plt.grid(True)\n",
    "plt.ylim(0,25)\n",
    "plt.title('SoG')"
   ]
  },
  {
   "cell_type": "code",
   "execution_count": null,
   "id": "c5ef1a6a",
   "metadata": {},
   "outputs": [],
   "source": [
    "plt.figure(figsize = [15,8], dpi =150)\n",
    "Press = np.array(data['Press'])\n",
    "plt.plot(Press)\n",
    "plt.grid(True)\n",
    "plt.ylim(75000, 78000)"
   ]
  },
  {
   "cell_type": "markdown",
   "id": "5b95b6bc",
   "metadata": {},
   "source": [
    "Итак, мы отстроили графики собранных в полете данных. Очевидно, что оборудование, при помощи которого этот лог был записан, на тот момент не было отлажено, лог содержит много артефактов. Тем не менее, мы все еще можем сделать данные пригодными для дальнейшей работы, очистив от ошибок."
   ]
  },
  {
   "cell_type": "markdown",
   "id": "849abd1e",
   "metadata": {},
   "source": [
    "## 3. Очистка данных"
   ]
  },
  {
   "cell_type": "markdown",
   "id": "a05a7371",
   "metadata": {},
   "source": [
    "Наблюдаемые в данный момент артефакты выглядят как огромной величины скачки. Давайте создадим функцию, которая будет обнаруживать их. Внимание, вопрос: как обнаружить эти мега-скачки?\n",
    "\n",
    "Давайте начнем данных о координатах аппарата и высоте полета (Lang и Lat, MSL_A)."
   ]
  },
  {
   "cell_type": "markdown",
   "id": "9361eb1b",
   "metadata": {},
   "source": [
    "**Самостоятельно** Создайте функцию, которая принимает на вход словарь с данными и строит все 3 графика (Lang и Lat, MSL_A) на одной фигуре друг под другом."
   ]
  },
  {
   "cell_type": "code",
   "execution_count": null,
   "id": "8bbfe1a4",
   "metadata": {},
   "outputs": [],
   "source": [
    "\n",
    "# Широта\n",
    "def plot_GPS(data):\n",
    "    \n",
    "    plt.figure(figsize = [15,8], dpi=200)\n",
    "    plt.subplot(3,1,1)\n",
    "    plt.plot(data['Lat'] - start_spot[0])\n",
    "    plt.grid(True)\n",
    "    plt.ylim(-0.05,0.05)\n",
    "    plt.title('Lat')\n",
    "\n",
    "    # Долгота\n",
    "    plt.subplot(3,1,2)\n",
    "    plt.plot(data['Lang'] - start_spot[1])\n",
    "    plt.grid(True)\n",
    "    plt.ylim(-0.05,0.05)\n",
    "    plt.title('Lang')\n",
    "\n",
    "    plt.subplot(3,1,3)\n",
    "    plt.plot(data['MSL_A'])\n",
    "    plt.grid(True)\n",
    "    plt.title('MSL_A')\n"
   ]
  },
  {
   "cell_type": "code",
   "execution_count": null,
   "id": "99b032c8",
   "metadata": {},
   "outputs": [],
   "source": [
    "plot_GPS(data)"
   ]
  },
  {
   "cell_type": "markdown",
   "id": "5ce6308c",
   "metadata": {},
   "source": [
    "Можно предложить немало способов первичной очистки данных от артефактных скачков. Мы пойдем по самому простому пути, и создадим функцию, которая будет сравнивать значение параметров с пороговыми значениями, и если параметр выходит за этот толеранс, подменять его предыдущим значением.\n",
    "\n",
    "Для начала зададимся порогами"
   ]
  },
  {
   "cell_type": "code",
   "execution_count": null,
   "id": "dbd5d959",
   "metadata": {},
   "outputs": [],
   "source": [
    "threshholds = {}\n",
    "threshholds['Lat'] = [-0.05 + start_spot[0] ,0.05 + start_spot[0]]\n",
    "threshholds['Lang'] = [-0.05 + start_spot[1] ,0.05 + start_spot[1]]\n",
    "threshholds['MSL_A'] = [6, 100]\n",
    "threshholds"
   ]
  },
  {
   "cell_type": "markdown",
   "id": "38440331",
   "metadata": {},
   "source": [
    "Создадим корректирующую функцию"
   ]
  },
  {
   "cell_type": "code",
   "execution_count": null,
   "id": "78c6675b",
   "metadata": {},
   "outputs": [],
   "source": [
    "def correct_errors(raw_data,thrsh):\n",
    "    dt = raw_data[45:].copy()\n",
    "    for i in range(1, len(dt)):\n",
    "        if (dt[i] < thrsh[0]) or (dt[i] > thrsh[1]):\n",
    "            dt[i] = dt[i-1]\n",
    "    return dt"
   ]
  },
  {
   "cell_type": "markdown",
   "id": "41225f61",
   "metadata": {},
   "source": [
    "и применим ее к нашим данным"
   ]
  },
  {
   "cell_type": "code",
   "execution_count": null,
   "id": "902890ed",
   "metadata": {},
   "outputs": [],
   "source": [
    "data_clean = {}\n",
    "data_clean['Lat'] = correct_errors(data['Lat'],threshholds['Lat'])\n",
    "data_clean['Lang'] = correct_errors(data['Lang'],threshholds['Lang'])\n",
    "data_clean['MSL_A'] = correct_errors(data['MSL_A'],threshholds['MSL_A'])"
   ]
  },
  {
   "cell_type": "code",
   "execution_count": null,
   "id": "acb40bbc",
   "metadata": {},
   "outputs": [],
   "source": [
    "plot_GPS(data_clean)"
   ]
  },
  {
   "cell_type": "markdown",
   "id": "ca29d75f",
   "metadata": {},
   "source": [
    "Итак, мы смогли очистить данные от артефактов записи, и они теперь пригодны для дальнейшей работы: анализа, построения мат.модели БПЛА, и т.п.. Отметим, что мы все это время фактически работали со словарем, содержащим списки. Это не самый эффективный способ использования ресурсов. Что бы вы сделали для оптимизации процесса?"
   ]
  },
  {
   "cell_type": "markdown",
   "id": "65de4260",
   "metadata": {},
   "source": [
    "## Выводы"
   ]
  },
  {
   "cell_type": "markdown",
   "id": "fcf9fc2e",
   "metadata": {},
   "source": [
    "Где почитать про SciPy подробнее: https://docs.scipy.org/doc/scipy/getting_started.html"
   ]
  }
 ],
 "metadata": {
  "kernelspec": {
   "display_name": "Python 3 (ipykernel)",
   "language": "python",
   "name": "python3"
  },
  "language_info": {
   "codemirror_mode": {
    "name": "ipython",
    "version": 3
   },
   "file_extension": ".py",
   "mimetype": "text/x-python",
   "name": "python",
   "nbconvert_exporter": "python",
   "pygments_lexer": "ipython3",
   "version": "3.9.12"
  }
 },
 "nbformat": 4,
 "nbformat_minor": 5
}
