{
 "cells": [
  {
   "cell_type": "markdown",
   "id": "e7a96167",
   "metadata": {},
   "source": [
    "# Практическая работа № 9\n",
    "## Структуры данных библиотеки Pandas"
   ]
  },
  {
   "cell_type": "markdown",
   "id": "3e198cd6",
   "metadata": {},
   "source": [
    "Pandas - надстройка над библиотекой NumPy, обеспечивающая эффективныу реализацию класса DataFrame. Это многомерные массивы с метками для строк и столбцов, а также зачастую с неоднородными данными и/или пропусками в данных. Помимо интерфейса для хранения маркированных данных, эта библиотека реализует еще целый ряд полезных для работы с данными операций \n",
    "\n",
    "Если вы (как я) пользуетесь дистрибутивом Anaconda, Pandas у вас уже есть и готова к работе. Если вы из любителей напрягаться и все делать руками,\n",
    "\n",
    "pip install pandas\n",
    "\n",
    "вам в помощь."
   ]
  },
  {
   "cell_type": "code",
   "execution_count": 1,
   "id": "07b4e7ed",
   "metadata": {},
   "outputs": [],
   "source": [
    "import numpy as np\n",
    "import pandas as pd"
   ]
  },
  {
   "cell_type": "markdown",
   "id": "5a397887",
   "metadata": {},
   "source": [
    "Существует 3 фундаментальных структуры данных библиотеки Pandas:\n",
    "- Series\n",
    "- DataFrame\n",
    "- Index"
   ]
  },
  {
   "cell_type": "markdown",
   "id": "ecdbfb17",
   "metadata": {},
   "source": [
    "### 1. Series"
   ]
  },
  {
   "cell_type": "markdown",
   "id": "6bbba9bd",
   "metadata": {},
   "source": [
    "Объект Series - одномерный массив индексированных данных"
   ]
  },
  {
   "cell_type": "code",
   "execution_count": 53,
   "id": "6a5f714d",
   "metadata": {},
   "outputs": [
    {
     "data": {
      "text/plain": [
       "0    0.25\n",
       "1    0.50\n",
       "2    0.75\n",
       "3    1.00\n",
       "dtype: float64"
      ]
     },
     "execution_count": 53,
     "metadata": {},
     "output_type": "execute_result"
    }
   ],
   "source": [
    "data = pd.Series([0.25, 0.5, 0.75, 1])\n",
    "data"
   ]
  },
  {
   "cell_type": "markdown",
   "id": "55adcc39",
   "metadata": {},
   "source": [
    "У него есть два атрибута: values и index"
   ]
  },
  {
   "cell_type": "code",
   "execution_count": 54,
   "id": "82994ea8",
   "metadata": {},
   "outputs": [
    {
     "data": {
      "text/plain": [
       "array([0.25, 0.5 , 0.75, 1.  ])"
      ]
     },
     "execution_count": 54,
     "metadata": {},
     "output_type": "execute_result"
    }
   ],
   "source": [
    "data.values"
   ]
  },
  {
   "cell_type": "code",
   "execution_count": 55,
   "id": "edec502b",
   "metadata": {},
   "outputs": [
    {
     "data": {
      "text/plain": [
       "RangeIndex(start=0, stop=4, step=1)"
      ]
     },
     "execution_count": 55,
     "metadata": {},
     "output_type": "execute_result"
    }
   ],
   "source": [
    "data.index"
   ]
  },
  {
   "cell_type": "code",
   "execution_count": 58,
   "id": "83649a47",
   "metadata": {},
   "outputs": [
    {
     "data": {
      "text/plain": [
       "[0, 1, 2, 3]"
      ]
     },
     "execution_count": 58,
     "metadata": {},
     "output_type": "execute_result"
    }
   ],
   "source": [
    "list(data.index)"
   ]
  },
  {
   "cell_type": "code",
   "execution_count": 59,
   "id": "06b02b8f",
   "metadata": {},
   "outputs": [
    {
     "data": {
      "text/plain": [
       "[0, 1, 2, 3]"
      ]
     },
     "execution_count": 59,
     "metadata": {},
     "output_type": "execute_result"
    }
   ],
   "source": []
  },
  {
   "cell_type": "code",
   "execution_count": 61,
   "id": "33355b25",
   "metadata": {},
   "outputs": [
    {
     "data": {
      "text/plain": [
       "[(0, 0.25), (1, 0.5), (2, 0.75), (3, 1.0)]"
      ]
     },
     "execution_count": 61,
     "metadata": {},
     "output_type": "execute_result"
    }
   ],
   "source": [
    "list(data.items())"
   ]
  },
  {
   "cell_type": "markdown",
   "id": "e594b9c2",
   "metadata": {},
   "source": [
    "Обращение по индексу работает, так же, как для списков или np-массивов"
   ]
  },
  {
   "cell_type": "code",
   "execution_count": 5,
   "id": "cb4aace5",
   "metadata": {},
   "outputs": [
    {
     "data": {
      "text/plain": [
       "0.5"
      ]
     },
     "execution_count": 5,
     "metadata": {},
     "output_type": "execute_result"
    }
   ],
   "source": [
    "data[1]"
   ]
  },
  {
   "cell_type": "code",
   "execution_count": 6,
   "id": "4525111d",
   "metadata": {},
   "outputs": [
    {
     "data": {
      "text/plain": [
       "1    0.50\n",
       "2    0.75\n",
       "dtype: float64"
      ]
     },
     "execution_count": 6,
     "metadata": {},
     "output_type": "execute_result"
    }
   ],
   "source": [
    "data[1:3]"
   ]
  },
  {
   "cell_type": "markdown",
   "id": "c7e8d94f",
   "metadata": {},
   "source": [
    "В чем тогда отличие Series от одномерного массива NumPy? В индексе. Здась он *описывается явно* и связывается со значением. Это значит, что индекс необязательно должен быть целым числом. Или вообще числом."
   ]
  },
  {
   "cell_type": "code",
   "execution_count": 7,
   "id": "e830cf2c",
   "metadata": {},
   "outputs": [
    {
     "data": {
      "text/plain": [
       "a    0.25\n",
       "b    0.50\n",
       "c    0.75\n",
       "d    1.00\n",
       "dtype: float64"
      ]
     },
     "execution_count": 7,
     "metadata": {},
     "output_type": "execute_result"
    }
   ],
   "source": [
    "data = pd.Series([0.25, 0.5, 0.75, 1], index = ['a', 'b', 'c', 'd'])\n",
    "data"
   ]
  },
  {
   "cell_type": "code",
   "execution_count": 8,
   "id": "f1c13c80",
   "metadata": {},
   "outputs": [
    {
     "data": {
      "text/plain": [
       "0.75"
      ]
     },
     "execution_count": 8,
     "metadata": {},
     "output_type": "execute_result"
    }
   ],
   "source": [
    "data['c']"
   ]
  },
  {
   "cell_type": "code",
   "execution_count": 9,
   "id": "c0beb8da",
   "metadata": {},
   "outputs": [
    {
     "data": {
      "text/plain": [
       "2.0    0.25\n",
       "3.0    0.50\n",
       "2.5    0.75\n",
       "8.0    1.00\n",
       "dtype: float64"
      ]
     },
     "execution_count": 9,
     "metadata": {},
     "output_type": "execute_result"
    }
   ],
   "source": [
    "data = pd.Series([0.25, 0.5, 0.75, 1], index = [2, 3, 2.5, 8 ])\n",
    "data"
   ]
  },
  {
   "cell_type": "markdown",
   "id": "31d599c4",
   "metadata": {},
   "source": [
    "Больше похоже на словарь, правда?"
   ]
  },
  {
   "cell_type": "code",
   "execution_count": 62,
   "id": "37273762",
   "metadata": {},
   "outputs": [
    {
     "data": {
      "text/plain": [
       "[0, 1, 2, 3]"
      ]
     },
     "execution_count": 62,
     "metadata": {},
     "output_type": "execute_result"
    }
   ],
   "source": [
    "list(data.keys())"
   ]
  },
  {
   "cell_type": "code",
   "execution_count": 63,
   "id": "b4162801",
   "metadata": {},
   "outputs": [
    {
     "data": {
      "text/plain": [
       "[(0, 0.25), (1, 0.5), (2, 0.75), (3, 1.0)]"
      ]
     },
     "execution_count": 63,
     "metadata": {},
     "output_type": "execute_result"
    }
   ],
   "source": [
    "list(data.items())"
   ]
  },
  {
   "cell_type": "markdown",
   "id": "9883812d",
   "metadata": {},
   "source": [
    "Словарь - структура, задающая соответствие произвольных ключей набору произвольных значений. Series - структура, задающая соответствие типизированных ключей набору типизированных значений.\n",
    "\n",
    "Несоответствие типов не приведет к выбросу исключения, но сделает код менее эффективным (как думаете, почему?)"
   ]
  },
  {
   "cell_type": "markdown",
   "id": "123f996d",
   "metadata": {},
   "source": [
    "При том, что интерфейс Series похож на словарь, он предоставляет возможность выборки элементов при помощи тех же базовых механизмов, что и массивы Numpy "
   ]
  },
  {
   "cell_type": "code",
   "execution_count": 10,
   "id": "7d1173d9",
   "metadata": {},
   "outputs": [],
   "source": [
    "import scipy\n",
    "from scipy.io import loadmat\n",
    "data_dict = loadmat('Log.mat') "
   ]
  },
  {
   "cell_type": "code",
   "execution_count": 11,
   "id": "f606f9dd",
   "metadata": {},
   "outputs": [
    {
     "data": {
      "text/plain": [
       "{'__header__': b'MATLAB 5.0 MAT-file, Platform: PCWIN64, Created on: Thu Nov 24 20:45:41 2022',\n",
       " '__version__': '1.0',\n",
       " '__globals__': [],\n",
       " 'BaroAlt': array([[0.       ],\n",
       "        [0.       ],\n",
       "        [0.       ],\n",
       "        ...,\n",
       "        [3.9571733],\n",
       "        [3.9571733],\n",
       "        [3.9571733]], dtype=float32),\n",
       " 'CoG': array([[0.  ],\n",
       "        [0.  ],\n",
       "        [0.  ],\n",
       "        ...,\n",
       "        [4.59],\n",
       "        [4.59],\n",
       "        [4.59]], dtype=float32),\n",
       " 'LE': array([[0.     ],\n",
       "        [0.     ],\n",
       "        [0.     ],\n",
       "        ...,\n",
       "        [7.26173],\n",
       "        [7.26173],\n",
       "        [7.26173]], dtype=float32),\n",
       " 'Lang': array([[   0.    ],\n",
       "        [   0.    ],\n",
       "        [   0.    ],\n",
       "        ...,\n",
       "        [3854.4995],\n",
       "        [3854.4995],\n",
       "        [3854.4995]], dtype=float32),\n",
       " 'Lat': array([[   0.   ],\n",
       "        [   0.   ],\n",
       "        [   0.   ],\n",
       "        ...,\n",
       "        [4714.022],\n",
       "        [4714.022],\n",
       "        [4714.022]], dtype=float32),\n",
       " 'MSL_A': array([[ 0. ],\n",
       "        [ 0. ],\n",
       "        [ 0. ],\n",
       "        ...,\n",
       "        [17.3],\n",
       "        [17.3],\n",
       "        [17.3]], dtype=float32),\n",
       " 'Pitch': array([[0.        ],\n",
       "        [0.        ],\n",
       "        [0.        ],\n",
       "        ...,\n",
       "        [7.91400848],\n",
       "        [7.91400848],\n",
       "        [7.91400848]]),\n",
       " 'Press': array([[    0],\n",
       "        [    0],\n",
       "        [    0],\n",
       "        ...,\n",
       "        [76955],\n",
       "        [76955],\n",
       "        [76955]]),\n",
       " 'RE': array([[0.      ],\n",
       "        [0.      ],\n",
       "        [0.      ],\n",
       "        ...,\n",
       "        [7.758317],\n",
       "        [7.758317],\n",
       "        [7.758317]], dtype=float32),\n",
       " 'Roll': array([[0.        ],\n",
       "        [0.        ],\n",
       "        [0.        ],\n",
       "        ...,\n",
       "        [4.61016313],\n",
       "        [4.61016313],\n",
       "        [4.61016313]]),\n",
       " 'SoG': array([[0.],\n",
       "        [0.],\n",
       "        [0.],\n",
       "        ...,\n",
       "        [0.],\n",
       "        [0.],\n",
       "        [0.]], dtype=float32),\n",
       " 'Throttle': array([[0.       ],\n",
       "        [0.       ],\n",
       "        [0.       ],\n",
       "        ...,\n",
       "        [5.3350344],\n",
       "        [5.3350344],\n",
       "        [5.3350344]], dtype=float32),\n",
       " 'time': array([[0.000000e+00],\n",
       "        [2.000000e-01],\n",
       "        [4.000000e-01],\n",
       "        ...,\n",
       "        [2.146688e+05],\n",
       "        [2.146690e+05],\n",
       "        [2.146692e+05]])}"
      ]
     },
     "execution_count": 11,
     "metadata": {},
     "output_type": "execute_result"
    }
   ],
   "source": [
    "data_dict"
   ]
  },
  {
   "cell_type": "code",
   "execution_count": 12,
   "id": "f636d7aa",
   "metadata": {},
   "outputs": [
    {
     "data": {
      "text/plain": [
       "__header__     b'MATLAB 5.0 MAT-file, Platform: PCWIN64, Crea...\n",
       "__version__                                                  1.0\n",
       "__globals__                                                   []\n",
       "BaroAlt        [[0.0], [0.0], [0.0], [0.0], [0.0], [0.0], [0....\n",
       "CoG            [[0.0], [0.0], [0.0], [0.0], [0.0], [0.0], [0....\n",
       "LE             [[0.0], [0.0], [0.0], [0.0], [0.0], [0.0], [0....\n",
       "Lang           [[0.0], [0.0], [0.0], [0.0], [0.0], [0.0], [0....\n",
       "Lat            [[0.0], [0.0], [0.0], [0.0], [0.0], [0.0], [0....\n",
       "MSL_A          [[0.0], [0.0], [0.0], [0.0], [0.0], [0.0], [0....\n",
       "Pitch          [[0.0], [0.0], [0.0], [0.0], [0.0], [0.0], [0....\n",
       "Press          [[0], [0], [0], [0], [0], [0], [0], [0], [0], ...\n",
       "RE             [[0.0], [0.0], [0.0], [0.0], [0.0], [0.0], [0....\n",
       "Roll           [[0.0], [0.0], [0.0], [0.0], [0.0], [0.0], [0....\n",
       "SoG            [[0.0], [0.0], [0.0], [0.0], [0.0], [0.0], [0....\n",
       "Throttle       [[0.0], [0.0], [0.0], [0.0], [0.0], [0.0], [0....\n",
       "time           [[0.0], [0.2], [0.4], [0.6000000000000001], [0...\n",
       "dtype: object"
      ]
     },
     "execution_count": 12,
     "metadata": {},
     "output_type": "execute_result"
    }
   ],
   "source": [
    "data_series = pd.Series(data_dict)\n",
    "data_series"
   ]
  },
  {
   "cell_type": "code",
   "execution_count": 13,
   "id": "f3fadabf",
   "metadata": {},
   "outputs": [
    {
     "data": {
      "text/plain": [
       "array([[0.       ],\n",
       "       [0.       ],\n",
       "       [0.       ],\n",
       "       ...,\n",
       "       [3.9571733],\n",
       "       [3.9571733],\n",
       "       [3.9571733]], dtype=float32)"
      ]
     },
     "execution_count": 13,
     "metadata": {},
     "output_type": "execute_result"
    }
   ],
   "source": [
    "data_series['BaroAlt']"
   ]
  },
  {
   "cell_type": "code",
   "execution_count": 14,
   "id": "236f0a3e",
   "metadata": {},
   "outputs": [
    {
     "data": {
      "text/plain": [
       "array([[0.       ],\n",
       "       [0.       ],\n",
       "       [0.       ],\n",
       "       ...,\n",
       "       [3.9571733],\n",
       "       [3.9571733],\n",
       "       [3.9571733]], dtype=float32)"
      ]
     },
     "execution_count": 14,
     "metadata": {},
     "output_type": "execute_result"
    }
   ],
   "source": [
    "data_series[3]"
   ]
  },
  {
   "cell_type": "markdown",
   "id": "6d11ae97",
   "metadata": {},
   "source": [
    "При этом, в отличие от словарей, pd.Series поддерживают срезы"
   ]
  },
  {
   "cell_type": "code",
   "execution_count": 15,
   "id": "5cda8d0b",
   "metadata": {},
   "outputs": [
    {
     "data": {
      "text/plain": [
       "LE       [[0.0], [0.0], [0.0], [0.0], [0.0], [0.0], [0....\n",
       "Lang     [[0.0], [0.0], [0.0], [0.0], [0.0], [0.0], [0....\n",
       "Lat      [[0.0], [0.0], [0.0], [0.0], [0.0], [0.0], [0....\n",
       "MSL_A    [[0.0], [0.0], [0.0], [0.0], [0.0], [0.0], [0....\n",
       "Pitch    [[0.0], [0.0], [0.0], [0.0], [0.0], [0.0], [0....\n",
       "Press    [[0], [0], [0], [0], [0], [0], [0], [0], [0], ...\n",
       "RE       [[0.0], [0.0], [0.0], [0.0], [0.0], [0.0], [0....\n",
       "dtype: object"
      ]
     },
     "execution_count": 15,
     "metadata": {},
     "output_type": "execute_result"
    }
   ],
   "source": [
    "data_series['LE':'RE']"
   ]
  },
  {
   "cell_type": "code",
   "execution_count": 16,
   "id": "ee5a4845",
   "metadata": {},
   "outputs": [
    {
     "data": {
      "text/plain": [
       "Index(['__header__', '__version__', '__globals__', 'BaroAlt', 'CoG', 'LE',\n",
       "       'Lang', 'Lat', 'MSL_A', 'Pitch', 'Press', 'RE', 'Roll', 'SoG',\n",
       "       'Throttle', 'time'],\n",
       "      dtype='object')"
      ]
     },
     "execution_count": 16,
     "metadata": {},
     "output_type": "execute_result"
    }
   ],
   "source": [
    "data_series.index"
   ]
  },
  {
   "cell_type": "code",
   "execution_count": 64,
   "id": "39f8f5d1",
   "metadata": {},
   "outputs": [
    {
     "data": {
      "text/plain": [
       "LE    [[0.0], [0.0], [0.0], [0.0], [0.0], [0.0], [0....\n",
       "RE    [[0.0], [0.0], [0.0], [0.0], [0.0], [0.0], [0....\n",
       "dtype: object"
      ]
     },
     "execution_count": 64,
     "metadata": {},
     "output_type": "execute_result"
    }
   ],
   "source": [
    "data_series[['LE','RE']]"
   ]
  },
  {
   "cell_type": "markdown",
   "id": "64680b63",
   "metadata": {},
   "source": [
    "Явная индексация - чрезвычайно гибкая вещь. По умолчанию это целочисленная последовательность. Если хотим чего-то другого, просто указываем индексы в явном виде."
   ]
  },
  {
   "cell_type": "code",
   "execution_count": 17,
   "id": "f5c58bc2",
   "metadata": {},
   "outputs": [
    {
     "data": {
      "text/plain": [
       "100    5\n",
       "200    5\n",
       "300    5\n",
       "dtype: int64"
      ]
     },
     "execution_count": 17,
     "metadata": {},
     "output_type": "execute_result"
    }
   ],
   "source": [
    "pd.Series(5, index = [100,200,300])"
   ]
  },
  {
   "cell_type": "code",
   "execution_count": 18,
   "id": "3b5cb47a",
   "metadata": {},
   "outputs": [
    {
     "data": {
      "text/plain": [
       "Lang     [[0.0], [0.0], [0.0], [0.0], [0.0], [0.0], [0....\n",
       "Lat      [[0.0], [0.0], [0.0], [0.0], [0.0], [0.0], [0....\n",
       "MSL_A    [[0.0], [0.0], [0.0], [0.0], [0.0], [0.0], [0....\n",
       "dtype: object"
      ]
     },
     "execution_count": 18,
     "metadata": {},
     "output_type": "execute_result"
    }
   ],
   "source": [
    "gps_data = pd.Series(data_dict, index = ['Lang', 'Lat', 'MSL_A'])\n",
    "gps_data"
   ]
  },
  {
   "cell_type": "markdown",
   "id": "f8a85469",
   "metadata": {},
   "source": [
    "#### Самостоятельно\n",
    "\n",
    "- Создайте объект Series, который будет содержать данные только об атмосферном давлении и высоте полета\n",
    "- Постройте графики этих двух величин, зная, что атмосферное давление должно быть в пределах 76 - 77.5 кПа. \n"
   ]
  },
  {
   "cell_type": "code",
   "execution_count": 19,
   "id": "31219120",
   "metadata": {},
   "outputs": [],
   "source": [
    "height_data = pd.Series(data_dict, index = ['BaroAlt', 'Press'])"
   ]
  },
  {
   "cell_type": "code",
   "execution_count": 20,
   "id": "cf3447de",
   "metadata": {},
   "outputs": [
    {
     "data": {
      "text/plain": [
       "(76000.0, 77500.0)"
      ]
     },
     "execution_count": 20,
     "metadata": {},
     "output_type": "execute_result"
    },
    {
     "data": {
      "image/png": "[encoded data removed]",
      "text/plain": [
       "<Figure size 900x600 with 2 Axes>"
      ]
     },
     "metadata": {
      "needs_background": "light"
     },
     "output_type": "display_data"
    }
   ],
   "source": [
    "import matplotlib\n",
    "from matplotlib import pyplot as plt\n",
    "plt.figure(dpi=150)\n",
    "plt.subplot(2,1,1)\n",
    "plt.plot(height_data['BaroAlt'])\n",
    "plt.grid(True)\n",
    "plt.subplot(2,1,2)\n",
    "plt.plot(height_data['Press'])\n",
    "plt.grid(True)\n",
    "plt.ylim(76e3, 77.5e3)"
   ]
  },
  {
   "cell_type": "markdown",
   "id": "df376bd3",
   "metadata": {},
   "source": [
    "## 2. DataFrame"
   ]
  },
  {
   "cell_type": "markdown",
   "id": "d02f2499",
   "metadata": {},
   "source": [
    "Аналог двумерного массива с гибкими индексами строк и гибкими именами столбцов. Можно рассматривать как обобщенный массив NumPy, или как спецализированную версию словаря.\n",
    "\n",
    "Фактически, это упорядоченная последовательность выровненных объектов Series (\"выровненных\" в том смысле, что у них один и тот же индекс)"
   ]
  },
  {
   "cell_type": "code",
   "execution_count": 21,
   "id": "b6b5050f",
   "metadata": {},
   "outputs": [
    {
     "data": {
      "text/plain": [
       "[{'a': 0, 'b': 0}, {'a': 1, 'b': 2}, {'a': 2, 'b': 4}]"
      ]
     },
     "execution_count": 21,
     "metadata": {},
     "output_type": "execute_result"
    }
   ],
   "source": [
    "data = [{'a':i, 'b': 2*i} for i in range(3)]\n",
    "data"
   ]
  },
  {
   "cell_type": "code",
   "execution_count": 22,
   "id": "3ebe8c88",
   "metadata": {},
   "outputs": [
    {
     "data": {
      "text/html": [
       "<div>\n",
       "<style scoped>\n",
       "    .dataframe tbody tr th:only-of-type {\n",
       "        vertical-align: middle;\n",
       "    }\n",
       "\n",
       "    .dataframe tbody tr th {\n",
       "        vertical-align: top;\n",
       "    }\n",
       "\n",
       "    .dataframe thead th {\n",
       "        text-align: right;\n",
       "    }\n",
       "</style>\n",
       "<table border=\"1\" class=\"dataframe\">\n",
       "  <thead>\n",
       "    <tr style=\"text-align: right;\">\n",
       "      <th></th>\n",
       "      <th>a</th>\n",
       "      <th>b</th>\n",
       "    </tr>\n",
       "  </thead>\n",
       "  <tbody>\n",
       "    <tr>\n",
       "      <th>0</th>\n",
       "      <td>0</td>\n",
       "      <td>0</td>\n",
       "    </tr>\n",
       "    <tr>\n",
       "      <th>1</th>\n",
       "      <td>1</td>\n",
       "      <td>2</td>\n",
       "    </tr>\n",
       "    <tr>\n",
       "      <th>2</th>\n",
       "      <td>2</td>\n",
       "      <td>4</td>\n",
       "    </tr>\n",
       "  </tbody>\n",
       "</table>\n",
       "</div>"
      ],
      "text/plain": [
       "   a  b\n",
       "0  0  0\n",
       "1  1  2\n",
       "2  2  4"
      ]
     },
     "execution_count": 22,
     "metadata": {},
     "output_type": "execute_result"
    }
   ],
   "source": [
    "pd.DataFrame(data)"
   ]
  },
  {
   "cell_type": "code",
   "execution_count": 23,
   "id": "49cda204",
   "metadata": {},
   "outputs": [
    {
     "data": {
      "text/html": [
       "<div>\n",
       "<style scoped>\n",
       "    .dataframe tbody tr th:only-of-type {\n",
       "        vertical-align: middle;\n",
       "    }\n",
       "\n",
       "    .dataframe tbody tr th {\n",
       "        vertical-align: top;\n",
       "    }\n",
       "\n",
       "    .dataframe thead th {\n",
       "        text-align: right;\n",
       "    }\n",
       "</style>\n",
       "<table border=\"1\" class=\"dataframe\">\n",
       "  <thead>\n",
       "    <tr style=\"text-align: right;\">\n",
       "      <th></th>\n",
       "      <th>a</th>\n",
       "      <th>b</th>\n",
       "      <th>c</th>\n",
       "    </tr>\n",
       "  </thead>\n",
       "  <tbody>\n",
       "    <tr>\n",
       "      <th>0</th>\n",
       "      <td>1.0</td>\n",
       "      <td>2</td>\n",
       "      <td>NaN</td>\n",
       "    </tr>\n",
       "    <tr>\n",
       "      <th>1</th>\n",
       "      <td>NaN</td>\n",
       "      <td>4</td>\n",
       "      <td>3.0</td>\n",
       "    </tr>\n",
       "  </tbody>\n",
       "</table>\n",
       "</div>"
      ],
      "text/plain": [
       "     a  b    c\n",
       "0  1.0  2  NaN\n",
       "1  NaN  4  3.0"
      ]
     },
     "execution_count": 23,
     "metadata": {},
     "output_type": "execute_result"
    }
   ],
   "source": [
    "pd.DataFrame([{'a':1, 'b':2},{'c':3, 'b':4}])"
   ]
  },
  {
   "cell_type": "code",
   "execution_count": 24,
   "id": "2c1e27de",
   "metadata": {},
   "outputs": [
    {
     "data": {
      "text/html": [
       "<div>\n",
       "<style scoped>\n",
       "    .dataframe tbody tr th:only-of-type {\n",
       "        vertical-align: middle;\n",
       "    }\n",
       "\n",
       "    .dataframe tbody tr th {\n",
       "        vertical-align: top;\n",
       "    }\n",
       "\n",
       "    .dataframe thead th {\n",
       "        text-align: right;\n",
       "    }\n",
       "</style>\n",
       "<table border=\"1\" class=\"dataframe\">\n",
       "  <thead>\n",
       "    <tr style=\"text-align: right;\">\n",
       "      <th></th>\n",
       "      <th>col_1</th>\n",
       "      <th>col_2</th>\n",
       "    </tr>\n",
       "  </thead>\n",
       "  <tbody>\n",
       "    <tr>\n",
       "      <th>a</th>\n",
       "      <td>0.527797</td>\n",
       "      <td>0.158570</td>\n",
       "    </tr>\n",
       "    <tr>\n",
       "      <th>b</th>\n",
       "      <td>0.248443</td>\n",
       "      <td>0.672761</td>\n",
       "    </tr>\n",
       "    <tr>\n",
       "      <th>c</th>\n",
       "      <td>0.945588</td>\n",
       "      <td>0.631970</td>\n",
       "    </tr>\n",
       "  </tbody>\n",
       "</table>\n",
       "</div>"
      ],
      "text/plain": [
       "      col_1     col_2\n",
       "a  0.527797  0.158570\n",
       "b  0.248443  0.672761\n",
       "c  0.945588  0.631970"
      ]
     },
     "execution_count": 24,
     "metadata": {},
     "output_type": "execute_result"
    }
   ],
   "source": [
    "pd.DataFrame(np.random.rand(3,2), columns = ['col_1', 'col_2'], index = ['a','b','c'])"
   ]
  },
  {
   "cell_type": "code",
   "execution_count": 27,
   "id": "7950ba7d",
   "metadata": {},
   "outputs": [
    {
     "data": {
      "text/html": [
       "<div>\n",
       "<style scoped>\n",
       "    .dataframe tbody tr th:only-of-type {\n",
       "        vertical-align: middle;\n",
       "    }\n",
       "\n",
       "    .dataframe tbody tr th {\n",
       "        vertical-align: top;\n",
       "    }\n",
       "\n",
       "    .dataframe thead th {\n",
       "        text-align: right;\n",
       "    }\n",
       "</style>\n",
       "<table border=\"1\" class=\"dataframe\">\n",
       "  <thead>\n",
       "    <tr style=\"text-align: right;\">\n",
       "      <th></th>\n",
       "      <th>0</th>\n",
       "    </tr>\n",
       "  </thead>\n",
       "  <tbody>\n",
       "    <tr>\n",
       "      <th>Lang</th>\n",
       "      <td>[[0.0], [0.0], [0.0], [0.0], [0.0], [0.0], [0....</td>\n",
       "    </tr>\n",
       "    <tr>\n",
       "      <th>Lat</th>\n",
       "      <td>[[0.0], [0.0], [0.0], [0.0], [0.0], [0.0], [0....</td>\n",
       "    </tr>\n",
       "    <tr>\n",
       "      <th>MSL_A</th>\n",
       "      <td>[[0.0], [0.0], [0.0], [0.0], [0.0], [0.0], [0....</td>\n",
       "    </tr>\n",
       "  </tbody>\n",
       "</table>\n",
       "</div>"
      ],
      "text/plain": [
       "                                                       0\n",
       "Lang   [[0.0], [0.0], [0.0], [0.0], [0.0], [0.0], [0....\n",
       "Lat    [[0.0], [0.0], [0.0], [0.0], [0.0], [0.0], [0....\n",
       "MSL_A  [[0.0], [0.0], [0.0], [0.0], [0.0], [0.0], [0...."
      ]
     },
     "execution_count": 27,
     "metadata": {},
     "output_type": "execute_result"
    }
   ],
   "source": [
    "pd.DataFrame(gps_data)\n",
    "#pd.DataFrame(gps_data, columns = ['Log data'])\n"
   ]
  },
  {
   "cell_type": "markdown",
   "id": "789cb205",
   "metadata": {},
   "source": [
    "Не совсем то, что нам нужно: весь диапазон значений параметра в такой форме воспринимется интерпритатором как 1 объект. Давайте сформируем полноценную таблицу, где имена столбцов будут соответствовать названиям параметров, а строки будут индексироваться временными метками."
   ]
  },
  {
   "cell_type": "code",
   "execution_count": 68,
   "id": "0a73adfc",
   "metadata": {},
   "outputs": [],
   "source": [
    "#dataframe = pd.DataFrame(columns = data_series.index[3:14], index = data_series['time'][:,0])\n",
    "dataframe = pd.DataFrame(columns = data_series.index[3:14], index = data_series['time'][:,0].round(1))"
   ]
  },
  {
   "cell_type": "code",
   "execution_count": null,
   "id": "4bdfed43",
   "metadata": {},
   "outputs": [],
   "source": [
    "data_dict['time'].shape"
   ]
  },
  {
   "cell_type": "code",
   "execution_count": null,
   "id": "e7022897",
   "metadata": {},
   "outputs": [],
   "source": [
    "data_series.index[3:14]"
   ]
  },
  {
   "cell_type": "code",
   "execution_count": 69,
   "id": "af1ae867",
   "metadata": {},
   "outputs": [
    {
     "data": {
      "text/html": [
       "<div>\n",
       "<style scoped>\n",
       "    .dataframe tbody tr th:only-of-type {\n",
       "        vertical-align: middle;\n",
       "    }\n",
       "\n",
       "    .dataframe tbody tr th {\n",
       "        vertical-align: top;\n",
       "    }\n",
       "\n",
       "    .dataframe thead th {\n",
       "        text-align: right;\n",
       "    }\n",
       "</style>\n",
       "<table border=\"1\" class=\"dataframe\">\n",
       "  <thead>\n",
       "    <tr style=\"text-align: right;\">\n",
       "      <th></th>\n",
       "      <th>BaroAlt</th>\n",
       "      <th>CoG</th>\n",
       "      <th>LE</th>\n",
       "      <th>Lang</th>\n",
       "      <th>Lat</th>\n",
       "      <th>MSL_A</th>\n",
       "      <th>Pitch</th>\n",
       "      <th>Press</th>\n",
       "      <th>RE</th>\n",
       "      <th>Roll</th>\n",
       "      <th>SoG</th>\n",
       "    </tr>\n",
       "  </thead>\n",
       "  <tbody>\n",
       "    <tr>\n",
       "      <th>0.0</th>\n",
       "      <td>NaN</td>\n",
       "      <td>NaN</td>\n",
       "      <td>NaN</td>\n",
       "      <td>NaN</td>\n",
       "      <td>NaN</td>\n",
       "      <td>NaN</td>\n",
       "      <td>NaN</td>\n",
       "      <td>NaN</td>\n",
       "      <td>NaN</td>\n",
       "      <td>NaN</td>\n",
       "      <td>NaN</td>\n",
       "    </tr>\n",
       "    <tr>\n",
       "      <th>0.2</th>\n",
       "      <td>NaN</td>\n",
       "      <td>NaN</td>\n",
       "      <td>NaN</td>\n",
       "      <td>NaN</td>\n",
       "      <td>NaN</td>\n",
       "      <td>NaN</td>\n",
       "      <td>NaN</td>\n",
       "      <td>NaN</td>\n",
       "      <td>NaN</td>\n",
       "      <td>NaN</td>\n",
       "      <td>NaN</td>\n",
       "    </tr>\n",
       "    <tr>\n",
       "      <th>0.4</th>\n",
       "      <td>NaN</td>\n",
       "      <td>NaN</td>\n",
       "      <td>NaN</td>\n",
       "      <td>NaN</td>\n",
       "      <td>NaN</td>\n",
       "      <td>NaN</td>\n",
       "      <td>NaN</td>\n",
       "      <td>NaN</td>\n",
       "      <td>NaN</td>\n",
       "      <td>NaN</td>\n",
       "      <td>NaN</td>\n",
       "    </tr>\n",
       "    <tr>\n",
       "      <th>0.6</th>\n",
       "      <td>NaN</td>\n",
       "      <td>NaN</td>\n",
       "      <td>NaN</td>\n",
       "      <td>NaN</td>\n",
       "      <td>NaN</td>\n",
       "      <td>NaN</td>\n",
       "      <td>NaN</td>\n",
       "      <td>NaN</td>\n",
       "      <td>NaN</td>\n",
       "      <td>NaN</td>\n",
       "      <td>NaN</td>\n",
       "    </tr>\n",
       "    <tr>\n",
       "      <th>0.8</th>\n",
       "      <td>NaN</td>\n",
       "      <td>NaN</td>\n",
       "      <td>NaN</td>\n",
       "      <td>NaN</td>\n",
       "      <td>NaN</td>\n",
       "      <td>NaN</td>\n",
       "      <td>NaN</td>\n",
       "      <td>NaN</td>\n",
       "      <td>NaN</td>\n",
       "      <td>NaN</td>\n",
       "      <td>NaN</td>\n",
       "    </tr>\n",
       "    <tr>\n",
       "      <th>...</th>\n",
       "      <td>...</td>\n",
       "      <td>...</td>\n",
       "      <td>...</td>\n",
       "      <td>...</td>\n",
       "      <td>...</td>\n",
       "      <td>...</td>\n",
       "      <td>...</td>\n",
       "      <td>...</td>\n",
       "      <td>...</td>\n",
       "      <td>...</td>\n",
       "      <td>...</td>\n",
       "    </tr>\n",
       "    <tr>\n",
       "      <th>214668.4</th>\n",
       "      <td>NaN</td>\n",
       "      <td>NaN</td>\n",
       "      <td>NaN</td>\n",
       "      <td>NaN</td>\n",
       "      <td>NaN</td>\n",
       "      <td>NaN</td>\n",
       "      <td>NaN</td>\n",
       "      <td>NaN</td>\n",
       "      <td>NaN</td>\n",
       "      <td>NaN</td>\n",
       "      <td>NaN</td>\n",
       "    </tr>\n",
       "    <tr>\n",
       "      <th>214668.6</th>\n",
       "      <td>NaN</td>\n",
       "      <td>NaN</td>\n",
       "      <td>NaN</td>\n",
       "      <td>NaN</td>\n",
       "      <td>NaN</td>\n",
       "      <td>NaN</td>\n",
       "      <td>NaN</td>\n",
       "      <td>NaN</td>\n",
       "      <td>NaN</td>\n",
       "      <td>NaN</td>\n",
       "      <td>NaN</td>\n",
       "    </tr>\n",
       "    <tr>\n",
       "      <th>214668.8</th>\n",
       "      <td>NaN</td>\n",
       "      <td>NaN</td>\n",
       "      <td>NaN</td>\n",
       "      <td>NaN</td>\n",
       "      <td>NaN</td>\n",
       "      <td>NaN</td>\n",
       "      <td>NaN</td>\n",
       "      <td>NaN</td>\n",
       "      <td>NaN</td>\n",
       "      <td>NaN</td>\n",
       "      <td>NaN</td>\n",
       "    </tr>\n",
       "    <tr>\n",
       "      <th>214669.0</th>\n",
       "      <td>NaN</td>\n",
       "      <td>NaN</td>\n",
       "      <td>NaN</td>\n",
       "      <td>NaN</td>\n",
       "      <td>NaN</td>\n",
       "      <td>NaN</td>\n",
       "      <td>NaN</td>\n",
       "      <td>NaN</td>\n",
       "      <td>NaN</td>\n",
       "      <td>NaN</td>\n",
       "      <td>NaN</td>\n",
       "    </tr>\n",
       "    <tr>\n",
       "      <th>214669.2</th>\n",
       "      <td>NaN</td>\n",
       "      <td>NaN</td>\n",
       "      <td>NaN</td>\n",
       "      <td>NaN</td>\n",
       "      <td>NaN</td>\n",
       "      <td>NaN</td>\n",
       "      <td>NaN</td>\n",
       "      <td>NaN</td>\n",
       "      <td>NaN</td>\n",
       "      <td>NaN</td>\n",
       "      <td>NaN</td>\n",
       "    </tr>\n",
       "  </tbody>\n",
       "</table>\n",
       "<p>1073347 rows × 11 columns</p>\n",
       "</div>"
      ],
      "text/plain": [
       "         BaroAlt  CoG   LE Lang  Lat MSL_A Pitch Press   RE Roll  SoG\n",
       "0.0          NaN  NaN  NaN  NaN  NaN   NaN   NaN   NaN  NaN  NaN  NaN\n",
       "0.2          NaN  NaN  NaN  NaN  NaN   NaN   NaN   NaN  NaN  NaN  NaN\n",
       "0.4          NaN  NaN  NaN  NaN  NaN   NaN   NaN   NaN  NaN  NaN  NaN\n",
       "0.6          NaN  NaN  NaN  NaN  NaN   NaN   NaN   NaN  NaN  NaN  NaN\n",
       "0.8          NaN  NaN  NaN  NaN  NaN   NaN   NaN   NaN  NaN  NaN  NaN\n",
       "...          ...  ...  ...  ...  ...   ...   ...   ...  ...  ...  ...\n",
       "214668.4     NaN  NaN  NaN  NaN  NaN   NaN   NaN   NaN  NaN  NaN  NaN\n",
       "214668.6     NaN  NaN  NaN  NaN  NaN   NaN   NaN   NaN  NaN  NaN  NaN\n",
       "214668.8     NaN  NaN  NaN  NaN  NaN   NaN   NaN   NaN  NaN  NaN  NaN\n",
       "214669.0     NaN  NaN  NaN  NaN  NaN   NaN   NaN   NaN  NaN  NaN  NaN\n",
       "214669.2     NaN  NaN  NaN  NaN  NaN   NaN   NaN   NaN  NaN  NaN  NaN\n",
       "\n",
       "[1073347 rows x 11 columns]"
      ]
     },
     "execution_count": 69,
     "metadata": {},
     "output_type": "execute_result"
    }
   ],
   "source": [
    "dataframe"
   ]
  },
  {
   "cell_type": "code",
   "execution_count": 70,
   "id": "0476e460",
   "metadata": {},
   "outputs": [
    {
     "data": {
      "text/html": [
       "<div>\n",
       "<style scoped>\n",
       "    .dataframe tbody tr th:only-of-type {\n",
       "        vertical-align: middle;\n",
       "    }\n",
       "\n",
       "    .dataframe tbody tr th {\n",
       "        vertical-align: top;\n",
       "    }\n",
       "\n",
       "    .dataframe thead th {\n",
       "        text-align: right;\n",
       "    }\n",
       "</style>\n",
       "<table border=\"1\" class=\"dataframe\">\n",
       "  <thead>\n",
       "    <tr style=\"text-align: right;\">\n",
       "      <th></th>\n",
       "      <th>BaroAlt</th>\n",
       "      <th>CoG</th>\n",
       "      <th>LE</th>\n",
       "      <th>Lang</th>\n",
       "      <th>Lat</th>\n",
       "      <th>MSL_A</th>\n",
       "      <th>Pitch</th>\n",
       "      <th>Press</th>\n",
       "      <th>RE</th>\n",
       "      <th>Roll</th>\n",
       "      <th>SoG</th>\n",
       "    </tr>\n",
       "  </thead>\n",
       "  <tbody>\n",
       "    <tr>\n",
       "      <th>0.0</th>\n",
       "      <td>0.000000</td>\n",
       "      <td>NaN</td>\n",
       "      <td>NaN</td>\n",
       "      <td>NaN</td>\n",
       "      <td>NaN</td>\n",
       "      <td>NaN</td>\n",
       "      <td>NaN</td>\n",
       "      <td>NaN</td>\n",
       "      <td>NaN</td>\n",
       "      <td>NaN</td>\n",
       "      <td>NaN</td>\n",
       "    </tr>\n",
       "    <tr>\n",
       "      <th>0.2</th>\n",
       "      <td>0.000000</td>\n",
       "      <td>NaN</td>\n",
       "      <td>NaN</td>\n",
       "      <td>NaN</td>\n",
       "      <td>NaN</td>\n",
       "      <td>NaN</td>\n",
       "      <td>NaN</td>\n",
       "      <td>NaN</td>\n",
       "      <td>NaN</td>\n",
       "      <td>NaN</td>\n",
       "      <td>NaN</td>\n",
       "    </tr>\n",
       "    <tr>\n",
       "      <th>0.4</th>\n",
       "      <td>0.000000</td>\n",
       "      <td>NaN</td>\n",
       "      <td>NaN</td>\n",
       "      <td>NaN</td>\n",
       "      <td>NaN</td>\n",
       "      <td>NaN</td>\n",
       "      <td>NaN</td>\n",
       "      <td>NaN</td>\n",
       "      <td>NaN</td>\n",
       "      <td>NaN</td>\n",
       "      <td>NaN</td>\n",
       "    </tr>\n",
       "    <tr>\n",
       "      <th>0.6</th>\n",
       "      <td>0.000000</td>\n",
       "      <td>NaN</td>\n",
       "      <td>NaN</td>\n",
       "      <td>NaN</td>\n",
       "      <td>NaN</td>\n",
       "      <td>NaN</td>\n",
       "      <td>NaN</td>\n",
       "      <td>NaN</td>\n",
       "      <td>NaN</td>\n",
       "      <td>NaN</td>\n",
       "      <td>NaN</td>\n",
       "    </tr>\n",
       "    <tr>\n",
       "      <th>0.8</th>\n",
       "      <td>0.000000</td>\n",
       "      <td>NaN</td>\n",
       "      <td>NaN</td>\n",
       "      <td>NaN</td>\n",
       "      <td>NaN</td>\n",
       "      <td>NaN</td>\n",
       "      <td>NaN</td>\n",
       "      <td>NaN</td>\n",
       "      <td>NaN</td>\n",
       "      <td>NaN</td>\n",
       "      <td>NaN</td>\n",
       "    </tr>\n",
       "    <tr>\n",
       "      <th>...</th>\n",
       "      <td>...</td>\n",
       "      <td>...</td>\n",
       "      <td>...</td>\n",
       "      <td>...</td>\n",
       "      <td>...</td>\n",
       "      <td>...</td>\n",
       "      <td>...</td>\n",
       "      <td>...</td>\n",
       "      <td>...</td>\n",
       "      <td>...</td>\n",
       "      <td>...</td>\n",
       "    </tr>\n",
       "    <tr>\n",
       "      <th>214668.4</th>\n",
       "      <td>3.957173</td>\n",
       "      <td>NaN</td>\n",
       "      <td>NaN</td>\n",
       "      <td>NaN</td>\n",
       "      <td>NaN</td>\n",
       "      <td>NaN</td>\n",
       "      <td>NaN</td>\n",
       "      <td>NaN</td>\n",
       "      <td>NaN</td>\n",
       "      <td>NaN</td>\n",
       "      <td>NaN</td>\n",
       "    </tr>\n",
       "    <tr>\n",
       "      <th>214668.6</th>\n",
       "      <td>3.957173</td>\n",
       "      <td>NaN</td>\n",
       "      <td>NaN</td>\n",
       "      <td>NaN</td>\n",
       "      <td>NaN</td>\n",
       "      <td>NaN</td>\n",
       "      <td>NaN</td>\n",
       "      <td>NaN</td>\n",
       "      <td>NaN</td>\n",
       "      <td>NaN</td>\n",
       "      <td>NaN</td>\n",
       "    </tr>\n",
       "    <tr>\n",
       "      <th>214668.8</th>\n",
       "      <td>3.957173</td>\n",
       "      <td>NaN</td>\n",
       "      <td>NaN</td>\n",
       "      <td>NaN</td>\n",
       "      <td>NaN</td>\n",
       "      <td>NaN</td>\n",
       "      <td>NaN</td>\n",
       "      <td>NaN</td>\n",
       "      <td>NaN</td>\n",
       "      <td>NaN</td>\n",
       "      <td>NaN</td>\n",
       "    </tr>\n",
       "    <tr>\n",
       "      <th>214669.0</th>\n",
       "      <td>3.957173</td>\n",
       "      <td>NaN</td>\n",
       "      <td>NaN</td>\n",
       "      <td>NaN</td>\n",
       "      <td>NaN</td>\n",
       "      <td>NaN</td>\n",
       "      <td>NaN</td>\n",
       "      <td>NaN</td>\n",
       "      <td>NaN</td>\n",
       "      <td>NaN</td>\n",
       "      <td>NaN</td>\n",
       "    </tr>\n",
       "    <tr>\n",
       "      <th>214669.2</th>\n",
       "      <td>3.957173</td>\n",
       "      <td>NaN</td>\n",
       "      <td>NaN</td>\n",
       "      <td>NaN</td>\n",
       "      <td>NaN</td>\n",
       "      <td>NaN</td>\n",
       "      <td>NaN</td>\n",
       "      <td>NaN</td>\n",
       "      <td>NaN</td>\n",
       "      <td>NaN</td>\n",
       "      <td>NaN</td>\n",
       "    </tr>\n",
       "  </tbody>\n",
       "</table>\n",
       "<p>1073347 rows × 11 columns</p>\n",
       "</div>"
      ],
      "text/plain": [
       "           BaroAlt  CoG   LE Lang  Lat MSL_A Pitch Press   RE Roll  SoG\n",
       "0.0       0.000000  NaN  NaN  NaN  NaN   NaN   NaN   NaN  NaN  NaN  NaN\n",
       "0.2       0.000000  NaN  NaN  NaN  NaN   NaN   NaN   NaN  NaN  NaN  NaN\n",
       "0.4       0.000000  NaN  NaN  NaN  NaN   NaN   NaN   NaN  NaN  NaN  NaN\n",
       "0.6       0.000000  NaN  NaN  NaN  NaN   NaN   NaN   NaN  NaN  NaN  NaN\n",
       "0.8       0.000000  NaN  NaN  NaN  NaN   NaN   NaN   NaN  NaN  NaN  NaN\n",
       "...            ...  ...  ...  ...  ...   ...   ...   ...  ...  ...  ...\n",
       "214668.4  3.957173  NaN  NaN  NaN  NaN   NaN   NaN   NaN  NaN  NaN  NaN\n",
       "214668.6  3.957173  NaN  NaN  NaN  NaN   NaN   NaN   NaN  NaN  NaN  NaN\n",
       "214668.8  3.957173  NaN  NaN  NaN  NaN   NaN   NaN   NaN  NaN  NaN  NaN\n",
       "214669.0  3.957173  NaN  NaN  NaN  NaN   NaN   NaN   NaN  NaN  NaN  NaN\n",
       "214669.2  3.957173  NaN  NaN  NaN  NaN   NaN   NaN   NaN  NaN  NaN  NaN\n",
       "\n",
       "[1073347 rows x 11 columns]"
      ]
     },
     "execution_count": 70,
     "metadata": {},
     "output_type": "execute_result"
    }
   ],
   "source": [
    "dataframe['BaroAlt'] = data_series['BaroAlt']\n",
    "dataframe"
   ]
  },
  {
   "cell_type": "code",
   "execution_count": 71,
   "id": "c651d944",
   "metadata": {},
   "outputs": [],
   "source": [
    "# Заполнить самим\n",
    "for key in data_series.index[3:14]:\n",
    "    #print(key)\n",
    "    dataframe[key] = data_series[key]"
   ]
  },
  {
   "cell_type": "code",
   "execution_count": 80,
   "id": "b6a06935",
   "metadata": {},
   "outputs": [
    {
     "data": {
      "text/html": [
       "<div>\n",
       "<style scoped>\n",
       "    .dataframe tbody tr th:only-of-type {\n",
       "        vertical-align: middle;\n",
       "    }\n",
       "\n",
       "    .dataframe tbody tr th {\n",
       "        vertical-align: top;\n",
       "    }\n",
       "\n",
       "    .dataframe thead th {\n",
       "        text-align: right;\n",
       "    }\n",
       "</style>\n",
       "<table border=\"1\" class=\"dataframe\">\n",
       "  <thead>\n",
       "    <tr style=\"text-align: right;\">\n",
       "      <th></th>\n",
       "      <th>BaroAlt</th>\n",
       "      <th>CoG</th>\n",
       "      <th>LE</th>\n",
       "      <th>Lang</th>\n",
       "      <th>Lat</th>\n",
       "      <th>MSL_A</th>\n",
       "      <th>Pitch</th>\n",
       "      <th>Press</th>\n",
       "      <th>RE</th>\n",
       "      <th>Roll</th>\n",
       "      <th>SoG</th>\n",
       "      <th>Press, Pa</th>\n",
       "    </tr>\n",
       "  </thead>\n",
       "  <tbody>\n",
       "    <tr>\n",
       "      <th>0.0</th>\n",
       "      <td>0.000000</td>\n",
       "      <td>0.00</td>\n",
       "      <td>0.00000</td>\n",
       "      <td>0.000000</td>\n",
       "      <td>0.000000</td>\n",
       "      <td>0.000000</td>\n",
       "      <td>0.000000</td>\n",
       "      <td>0</td>\n",
       "      <td>0.000000</td>\n",
       "      <td>0.000000</td>\n",
       "      <td>0.0</td>\n",
       "      <td>0.000</td>\n",
       "    </tr>\n",
       "    <tr>\n",
       "      <th>0.2</th>\n",
       "      <td>0.000000</td>\n",
       "      <td>0.00</td>\n",
       "      <td>0.00000</td>\n",
       "      <td>0.000000</td>\n",
       "      <td>0.000000</td>\n",
       "      <td>0.000000</td>\n",
       "      <td>0.000000</td>\n",
       "      <td>0</td>\n",
       "      <td>0.000000</td>\n",
       "      <td>0.000000</td>\n",
       "      <td>0.0</td>\n",
       "      <td>0.000</td>\n",
       "    </tr>\n",
       "    <tr>\n",
       "      <th>0.4</th>\n",
       "      <td>0.000000</td>\n",
       "      <td>0.00</td>\n",
       "      <td>0.00000</td>\n",
       "      <td>0.000000</td>\n",
       "      <td>0.000000</td>\n",
       "      <td>0.000000</td>\n",
       "      <td>0.000000</td>\n",
       "      <td>0</td>\n",
       "      <td>0.000000</td>\n",
       "      <td>0.000000</td>\n",
       "      <td>0.0</td>\n",
       "      <td>0.000</td>\n",
       "    </tr>\n",
       "    <tr>\n",
       "      <th>0.6</th>\n",
       "      <td>0.000000</td>\n",
       "      <td>0.00</td>\n",
       "      <td>0.00000</td>\n",
       "      <td>0.000000</td>\n",
       "      <td>0.000000</td>\n",
       "      <td>0.000000</td>\n",
       "      <td>0.000000</td>\n",
       "      <td>0</td>\n",
       "      <td>0.000000</td>\n",
       "      <td>0.000000</td>\n",
       "      <td>0.0</td>\n",
       "      <td>0.000</td>\n",
       "    </tr>\n",
       "    <tr>\n",
       "      <th>0.8</th>\n",
       "      <td>0.000000</td>\n",
       "      <td>0.00</td>\n",
       "      <td>0.00000</td>\n",
       "      <td>0.000000</td>\n",
       "      <td>0.000000</td>\n",
       "      <td>0.000000</td>\n",
       "      <td>0.000000</td>\n",
       "      <td>0</td>\n",
       "      <td>0.000000</td>\n",
       "      <td>0.000000</td>\n",
       "      <td>0.0</td>\n",
       "      <td>0.000</td>\n",
       "    </tr>\n",
       "    <tr>\n",
       "      <th>...</th>\n",
       "      <td>...</td>\n",
       "      <td>...</td>\n",
       "      <td>...</td>\n",
       "      <td>...</td>\n",
       "      <td>...</td>\n",
       "      <td>...</td>\n",
       "      <td>...</td>\n",
       "      <td>...</td>\n",
       "      <td>...</td>\n",
       "      <td>...</td>\n",
       "      <td>...</td>\n",
       "      <td>...</td>\n",
       "    </tr>\n",
       "    <tr>\n",
       "      <th>214668.4</th>\n",
       "      <td>3.957173</td>\n",
       "      <td>4.59</td>\n",
       "      <td>7.26173</td>\n",
       "      <td>3854.499512</td>\n",
       "      <td>4714.021973</td>\n",
       "      <td>17.299999</td>\n",
       "      <td>7.914008</td>\n",
       "      <td>76955</td>\n",
       "      <td>7.758317</td>\n",
       "      <td>4.610163</td>\n",
       "      <td>0.0</td>\n",
       "      <td>76.955</td>\n",
       "    </tr>\n",
       "    <tr>\n",
       "      <th>214668.6</th>\n",
       "      <td>3.957173</td>\n",
       "      <td>4.59</td>\n",
       "      <td>7.26173</td>\n",
       "      <td>3854.499512</td>\n",
       "      <td>4714.021973</td>\n",
       "      <td>17.299999</td>\n",
       "      <td>7.914008</td>\n",
       "      <td>76955</td>\n",
       "      <td>7.758317</td>\n",
       "      <td>4.610163</td>\n",
       "      <td>0.0</td>\n",
       "      <td>76.955</td>\n",
       "    </tr>\n",
       "    <tr>\n",
       "      <th>214668.8</th>\n",
       "      <td>3.957173</td>\n",
       "      <td>4.59</td>\n",
       "      <td>7.26173</td>\n",
       "      <td>3854.499512</td>\n",
       "      <td>4714.021973</td>\n",
       "      <td>17.299999</td>\n",
       "      <td>7.914008</td>\n",
       "      <td>76955</td>\n",
       "      <td>7.758317</td>\n",
       "      <td>4.610163</td>\n",
       "      <td>0.0</td>\n",
       "      <td>76.955</td>\n",
       "    </tr>\n",
       "    <tr>\n",
       "      <th>214669.0</th>\n",
       "      <td>3.957173</td>\n",
       "      <td>4.59</td>\n",
       "      <td>7.26173</td>\n",
       "      <td>3854.499512</td>\n",
       "      <td>4714.021973</td>\n",
       "      <td>17.299999</td>\n",
       "      <td>7.914008</td>\n",
       "      <td>76955</td>\n",
       "      <td>7.758317</td>\n",
       "      <td>4.610163</td>\n",
       "      <td>0.0</td>\n",
       "      <td>76.955</td>\n",
       "    </tr>\n",
       "    <tr>\n",
       "      <th>214669.2</th>\n",
       "      <td>3.957173</td>\n",
       "      <td>4.59</td>\n",
       "      <td>7.26173</td>\n",
       "      <td>3854.499512</td>\n",
       "      <td>4714.021973</td>\n",
       "      <td>17.299999</td>\n",
       "      <td>7.914008</td>\n",
       "      <td>76955</td>\n",
       "      <td>7.758317</td>\n",
       "      <td>4.610163</td>\n",
       "      <td>0.0</td>\n",
       "      <td>76.955</td>\n",
       "    </tr>\n",
       "  </tbody>\n",
       "</table>\n",
       "<p>1073347 rows × 12 columns</p>\n",
       "</div>"
      ],
      "text/plain": [
       "           BaroAlt   CoG       LE         Lang          Lat      MSL_A  \\\n",
       "0.0       0.000000  0.00  0.00000     0.000000     0.000000   0.000000   \n",
       "0.2       0.000000  0.00  0.00000     0.000000     0.000000   0.000000   \n",
       "0.4       0.000000  0.00  0.00000     0.000000     0.000000   0.000000   \n",
       "0.6       0.000000  0.00  0.00000     0.000000     0.000000   0.000000   \n",
       "0.8       0.000000  0.00  0.00000     0.000000     0.000000   0.000000   \n",
       "...            ...   ...      ...          ...          ...        ...   \n",
       "214668.4  3.957173  4.59  7.26173  3854.499512  4714.021973  17.299999   \n",
       "214668.6  3.957173  4.59  7.26173  3854.499512  4714.021973  17.299999   \n",
       "214668.8  3.957173  4.59  7.26173  3854.499512  4714.021973  17.299999   \n",
       "214669.0  3.957173  4.59  7.26173  3854.499512  4714.021973  17.299999   \n",
       "214669.2  3.957173  4.59  7.26173  3854.499512  4714.021973  17.299999   \n",
       "\n",
       "             Pitch  Press        RE      Roll  SoG  Press, Pa  \n",
       "0.0       0.000000      0  0.000000  0.000000  0.0      0.000  \n",
       "0.2       0.000000      0  0.000000  0.000000  0.0      0.000  \n",
       "0.4       0.000000      0  0.000000  0.000000  0.0      0.000  \n",
       "0.6       0.000000      0  0.000000  0.000000  0.0      0.000  \n",
       "0.8       0.000000      0  0.000000  0.000000  0.0      0.000  \n",
       "...            ...    ...       ...       ...  ...        ...  \n",
       "214668.4  7.914008  76955  7.758317  4.610163  0.0     76.955  \n",
       "214668.6  7.914008  76955  7.758317  4.610163  0.0     76.955  \n",
       "214668.8  7.914008  76955  7.758317  4.610163  0.0     76.955  \n",
       "214669.0  7.914008  76955  7.758317  4.610163  0.0     76.955  \n",
       "214669.2  7.914008  76955  7.758317  4.610163  0.0     76.955  \n",
       "\n",
       "[1073347 rows x 12 columns]"
      ]
     },
     "execution_count": 80,
     "metadata": {},
     "output_type": "execute_result"
    }
   ],
   "source": [
    "dataframe"
   ]
  },
  {
   "cell_type": "markdown",
   "id": "a4782273",
   "metadata": {},
   "source": [
    "Индексаторы\n",
    "\n",
    "loc\n",
    "iloc"
   ]
  },
  {
   "cell_type": "code",
   "execution_count": 83,
   "id": "993e7074",
   "metadata": {},
   "outputs": [
    {
     "data": {
      "text/plain": [
       "BaroAlt          3.957173\n",
       "CoG              4.590000\n",
       "LE               7.261730\n",
       "Lang          3854.499512\n",
       "Lat           4714.021973\n",
       "MSL_A           17.299999\n",
       "Pitch            7.914008\n",
       "Press        76955.000000\n",
       "RE               7.758317\n",
       "Roll             4.610163\n",
       "SoG              0.000000\n",
       "Press, Pa       76.955000\n",
       "Name: 214668.6, dtype: float64"
      ]
     },
     "execution_count": 83,
     "metadata": {},
     "output_type": "execute_result"
    }
   ],
   "source": [
    "dataframe.loc[214668.6]"
   ]
  },
  {
   "cell_type": "code",
   "execution_count": 82,
   "id": "9b5bc689",
   "metadata": {},
   "outputs": [
    {
     "data": {
      "text/plain": [
       "BaroAlt          6.376184\n",
       "CoG            128.500000\n",
       "LE               7.612786\n",
       "Lang          3854.501709\n",
       "Lat           4714.018066\n",
       "MSL_A           12.200000\n",
       "Pitch           15.861842\n",
       "Press        76933.000000\n",
       "RE               7.661412\n",
       "Roll             0.731837\n",
       "SoG              9.460000\n",
       "Press, Pa       76.933000\n",
       "Name: 20000.0, dtype: float64"
      ]
     },
     "execution_count": 82,
     "metadata": {},
     "output_type": "execute_result"
    }
   ],
   "source": [
    "dataframe.iloc[100000]"
   ]
  },
  {
   "cell_type": "code",
   "execution_count": null,
   "id": "c9492107",
   "metadata": {},
   "outputs": [],
   "source": [
    "dataframe.drop('CoG', axis = 'columns')"
   ]
  },
  {
   "cell_type": "code",
   "execution_count": null,
   "id": "c4b6b524",
   "metadata": {},
   "outputs": [],
   "source": [
    "dataframe[0:10]"
   ]
  },
  {
   "cell_type": "code",
   "execution_count": null,
   "id": "8c1cf346",
   "metadata": {},
   "outputs": [],
   "source": [
    "dataframe.drop(0, axis = 'index')"
   ]
  },
  {
   "cell_type": "code",
   "execution_count": null,
   "id": "41d92a90",
   "metadata": {},
   "outputs": [],
   "source": [
    "dataframe.drop(index = np.arange(0.0,10.0,0.2))"
   ]
  },
  {
   "cell_type": "code",
   "execution_count": null,
   "id": "a495179d",
   "metadata": {},
   "outputs": [],
   "source": [
    "dataframe.shape"
   ]
  },
  {
   "cell_type": "code",
   "execution_count": 76,
   "id": "b793ce7d",
   "metadata": {},
   "outputs": [],
   "source": [
    "dataframe['Press, Pa'] = dataframe['Press'] / 1e3"
   ]
  },
  {
   "cell_type": "code",
   "execution_count": 77,
   "id": "b00d36ff",
   "metadata": {},
   "outputs": [
    {
     "data": {
      "text/html": [
       "<div>\n",
       "<style scoped>\n",
       "    .dataframe tbody tr th:only-of-type {\n",
       "        vertical-align: middle;\n",
       "    }\n",
       "\n",
       "    .dataframe tbody tr th {\n",
       "        vertical-align: top;\n",
       "    }\n",
       "\n",
       "    .dataframe thead th {\n",
       "        text-align: right;\n",
       "    }\n",
       "</style>\n",
       "<table border=\"1\" class=\"dataframe\">\n",
       "  <thead>\n",
       "    <tr style=\"text-align: right;\">\n",
       "      <th></th>\n",
       "      <th>BaroAlt</th>\n",
       "      <th>CoG</th>\n",
       "      <th>LE</th>\n",
       "      <th>Lang</th>\n",
       "      <th>Lat</th>\n",
       "      <th>MSL_A</th>\n",
       "      <th>Pitch</th>\n",
       "      <th>Press</th>\n",
       "      <th>RE</th>\n",
       "      <th>Roll</th>\n",
       "      <th>SoG</th>\n",
       "      <th>Press, Pa</th>\n",
       "    </tr>\n",
       "  </thead>\n",
       "  <tbody>\n",
       "    <tr>\n",
       "      <th>0.0</th>\n",
       "      <td>0.000000</td>\n",
       "      <td>0.00</td>\n",
       "      <td>0.00000</td>\n",
       "      <td>0.000000</td>\n",
       "      <td>0.000000</td>\n",
       "      <td>0.000000</td>\n",
       "      <td>0.000000</td>\n",
       "      <td>0</td>\n",
       "      <td>0.000000</td>\n",
       "      <td>0.000000</td>\n",
       "      <td>0.0</td>\n",
       "      <td>0.000</td>\n",
       "    </tr>\n",
       "    <tr>\n",
       "      <th>0.2</th>\n",
       "      <td>0.000000</td>\n",
       "      <td>0.00</td>\n",
       "      <td>0.00000</td>\n",
       "      <td>0.000000</td>\n",
       "      <td>0.000000</td>\n",
       "      <td>0.000000</td>\n",
       "      <td>0.000000</td>\n",
       "      <td>0</td>\n",
       "      <td>0.000000</td>\n",
       "      <td>0.000000</td>\n",
       "      <td>0.0</td>\n",
       "      <td>0.000</td>\n",
       "    </tr>\n",
       "    <tr>\n",
       "      <th>0.4</th>\n",
       "      <td>0.000000</td>\n",
       "      <td>0.00</td>\n",
       "      <td>0.00000</td>\n",
       "      <td>0.000000</td>\n",
       "      <td>0.000000</td>\n",
       "      <td>0.000000</td>\n",
       "      <td>0.000000</td>\n",
       "      <td>0</td>\n",
       "      <td>0.000000</td>\n",
       "      <td>0.000000</td>\n",
       "      <td>0.0</td>\n",
       "      <td>0.000</td>\n",
       "    </tr>\n",
       "    <tr>\n",
       "      <th>0.6</th>\n",
       "      <td>0.000000</td>\n",
       "      <td>0.00</td>\n",
       "      <td>0.00000</td>\n",
       "      <td>0.000000</td>\n",
       "      <td>0.000000</td>\n",
       "      <td>0.000000</td>\n",
       "      <td>0.000000</td>\n",
       "      <td>0</td>\n",
       "      <td>0.000000</td>\n",
       "      <td>0.000000</td>\n",
       "      <td>0.0</td>\n",
       "      <td>0.000</td>\n",
       "    </tr>\n",
       "    <tr>\n",
       "      <th>0.8</th>\n",
       "      <td>0.000000</td>\n",
       "      <td>0.00</td>\n",
       "      <td>0.00000</td>\n",
       "      <td>0.000000</td>\n",
       "      <td>0.000000</td>\n",
       "      <td>0.000000</td>\n",
       "      <td>0.000000</td>\n",
       "      <td>0</td>\n",
       "      <td>0.000000</td>\n",
       "      <td>0.000000</td>\n",
       "      <td>0.0</td>\n",
       "      <td>0.000</td>\n",
       "    </tr>\n",
       "    <tr>\n",
       "      <th>...</th>\n",
       "      <td>...</td>\n",
       "      <td>...</td>\n",
       "      <td>...</td>\n",
       "      <td>...</td>\n",
       "      <td>...</td>\n",
       "      <td>...</td>\n",
       "      <td>...</td>\n",
       "      <td>...</td>\n",
       "      <td>...</td>\n",
       "      <td>...</td>\n",
       "      <td>...</td>\n",
       "      <td>...</td>\n",
       "    </tr>\n",
       "    <tr>\n",
       "      <th>214668.4</th>\n",
       "      <td>3.957173</td>\n",
       "      <td>4.59</td>\n",
       "      <td>7.26173</td>\n",
       "      <td>3854.499512</td>\n",
       "      <td>4714.021973</td>\n",
       "      <td>17.299999</td>\n",
       "      <td>7.914008</td>\n",
       "      <td>76955</td>\n",
       "      <td>7.758317</td>\n",
       "      <td>4.610163</td>\n",
       "      <td>0.0</td>\n",
       "      <td>76.955</td>\n",
       "    </tr>\n",
       "    <tr>\n",
       "      <th>214668.6</th>\n",
       "      <td>3.957173</td>\n",
       "      <td>4.59</td>\n",
       "      <td>7.26173</td>\n",
       "      <td>3854.499512</td>\n",
       "      <td>4714.021973</td>\n",
       "      <td>17.299999</td>\n",
       "      <td>7.914008</td>\n",
       "      <td>76955</td>\n",
       "      <td>7.758317</td>\n",
       "      <td>4.610163</td>\n",
       "      <td>0.0</td>\n",
       "      <td>76.955</td>\n",
       "    </tr>\n",
       "    <tr>\n",
       "      <th>214668.8</th>\n",
       "      <td>3.957173</td>\n",
       "      <td>4.59</td>\n",
       "      <td>7.26173</td>\n",
       "      <td>3854.499512</td>\n",
       "      <td>4714.021973</td>\n",
       "      <td>17.299999</td>\n",
       "      <td>7.914008</td>\n",
       "      <td>76955</td>\n",
       "      <td>7.758317</td>\n",
       "      <td>4.610163</td>\n",
       "      <td>0.0</td>\n",
       "      <td>76.955</td>\n",
       "    </tr>\n",
       "    <tr>\n",
       "      <th>214669.0</th>\n",
       "      <td>3.957173</td>\n",
       "      <td>4.59</td>\n",
       "      <td>7.26173</td>\n",
       "      <td>3854.499512</td>\n",
       "      <td>4714.021973</td>\n",
       "      <td>17.299999</td>\n",
       "      <td>7.914008</td>\n",
       "      <td>76955</td>\n",
       "      <td>7.758317</td>\n",
       "      <td>4.610163</td>\n",
       "      <td>0.0</td>\n",
       "      <td>76.955</td>\n",
       "    </tr>\n",
       "    <tr>\n",
       "      <th>214669.2</th>\n",
       "      <td>3.957173</td>\n",
       "      <td>4.59</td>\n",
       "      <td>7.26173</td>\n",
       "      <td>3854.499512</td>\n",
       "      <td>4714.021973</td>\n",
       "      <td>17.299999</td>\n",
       "      <td>7.914008</td>\n",
       "      <td>76955</td>\n",
       "      <td>7.758317</td>\n",
       "      <td>4.610163</td>\n",
       "      <td>0.0</td>\n",
       "      <td>76.955</td>\n",
       "    </tr>\n",
       "  </tbody>\n",
       "</table>\n",
       "<p>1073347 rows × 12 columns</p>\n",
       "</div>"
      ],
      "text/plain": [
       "           BaroAlt   CoG       LE         Lang          Lat      MSL_A  \\\n",
       "0.0       0.000000  0.00  0.00000     0.000000     0.000000   0.000000   \n",
       "0.2       0.000000  0.00  0.00000     0.000000     0.000000   0.000000   \n",
       "0.4       0.000000  0.00  0.00000     0.000000     0.000000   0.000000   \n",
       "0.6       0.000000  0.00  0.00000     0.000000     0.000000   0.000000   \n",
       "0.8       0.000000  0.00  0.00000     0.000000     0.000000   0.000000   \n",
       "...            ...   ...      ...          ...          ...        ...   \n",
       "214668.4  3.957173  4.59  7.26173  3854.499512  4714.021973  17.299999   \n",
       "214668.6  3.957173  4.59  7.26173  3854.499512  4714.021973  17.299999   \n",
       "214668.8  3.957173  4.59  7.26173  3854.499512  4714.021973  17.299999   \n",
       "214669.0  3.957173  4.59  7.26173  3854.499512  4714.021973  17.299999   \n",
       "214669.2  3.957173  4.59  7.26173  3854.499512  4714.021973  17.299999   \n",
       "\n",
       "             Pitch  Press        RE      Roll  SoG  Press, Pa  \n",
       "0.0       0.000000      0  0.000000  0.000000  0.0      0.000  \n",
       "0.2       0.000000      0  0.000000  0.000000  0.0      0.000  \n",
       "0.4       0.000000      0  0.000000  0.000000  0.0      0.000  \n",
       "0.6       0.000000      0  0.000000  0.000000  0.0      0.000  \n",
       "0.8       0.000000      0  0.000000  0.000000  0.0      0.000  \n",
       "...            ...    ...       ...       ...  ...        ...  \n",
       "214668.4  7.914008  76955  7.758317  4.610163  0.0     76.955  \n",
       "214668.6  7.914008  76955  7.758317  4.610163  0.0     76.955  \n",
       "214668.8  7.914008  76955  7.758317  4.610163  0.0     76.955  \n",
       "214669.0  7.914008  76955  7.758317  4.610163  0.0     76.955  \n",
       "214669.2  7.914008  76955  7.758317  4.610163  0.0     76.955  \n",
       "\n",
       "[1073347 rows x 12 columns]"
      ]
     },
     "execution_count": 77,
     "metadata": {},
     "output_type": "execute_result"
    }
   ],
   "source": [
    "dataframe"
   ]
  },
  {
   "cell_type": "code",
   "execution_count": 78,
   "id": "72419173",
   "metadata": {},
   "outputs": [
    {
     "data": {
      "text/html": [
       "<div>\n",
       "<style scoped>\n",
       "    .dataframe tbody tr th:only-of-type {\n",
       "        vertical-align: middle;\n",
       "    }\n",
       "\n",
       "    .dataframe tbody tr th {\n",
       "        vertical-align: top;\n",
       "    }\n",
       "\n",
       "    .dataframe thead th {\n",
       "        text-align: right;\n",
       "    }\n",
       "</style>\n",
       "<table border=\"1\" class=\"dataframe\">\n",
       "  <thead>\n",
       "    <tr style=\"text-align: right;\">\n",
       "      <th></th>\n",
       "      <th>BaroAlt</th>\n",
       "      <th>CoG</th>\n",
       "      <th>LE</th>\n",
       "      <th>Lang</th>\n",
       "      <th>Lat</th>\n",
       "      <th>MSL_A</th>\n",
       "      <th>Pitch</th>\n",
       "      <th>Press</th>\n",
       "      <th>RE</th>\n",
       "      <th>Roll</th>\n",
       "      <th>SoG</th>\n",
       "      <th>Press, Pa</th>\n",
       "    </tr>\n",
       "  </thead>\n",
       "  <tbody>\n",
       "    <tr>\n",
       "      <th>count</th>\n",
       "      <td>1.073347e+06</td>\n",
       "      <td>1.073347e+06</td>\n",
       "      <td>1.073347e+06</td>\n",
       "      <td>1.073347e+06</td>\n",
       "      <td>1.073347e+06</td>\n",
       "      <td>1.073347e+06</td>\n",
       "      <td>1.073347e+06</td>\n",
       "      <td>1.073347e+06</td>\n",
       "      <td>1.072680e+06</td>\n",
       "      <td>1.073347e+06</td>\n",
       "      <td>1.071699e+06</td>\n",
       "      <td>1.073347e+06</td>\n",
       "    </tr>\n",
       "    <tr>\n",
       "      <th>mean</th>\n",
       "      <td>3.418909e+01</td>\n",
       "      <td>inf</td>\n",
       "      <td>-3.090407e+25</td>\n",
       "      <td>NaN</td>\n",
       "      <td>2.197488e+08</td>\n",
       "      <td>3.279359e+01</td>\n",
       "      <td>8.963252e+68</td>\n",
       "      <td>1.474590e+07</td>\n",
       "      <td>NaN</td>\n",
       "      <td>2.595071e+40</td>\n",
       "      <td>-6.670438e+31</td>\n",
       "      <td>1.474590e+04</td>\n",
       "    </tr>\n",
       "    <tr>\n",
       "      <th>std</th>\n",
       "      <td>2.443696e+01</td>\n",
       "      <td>inf</td>\n",
       "      <td>inf</td>\n",
       "      <td>inf</td>\n",
       "      <td>7.694171e+08</td>\n",
       "      <td>1.878608e+01</td>\n",
       "      <td>1.547666e+71</td>\n",
       "      <td>3.254981e+08</td>\n",
       "      <td>inf</td>\n",
       "      <td>2.424053e+42</td>\n",
       "      <td>inf</td>\n",
       "      <td>3.254981e+05</td>\n",
       "    </tr>\n",
       "    <tr>\n",
       "      <th>min</th>\n",
       "      <td>-4.398597e+00</td>\n",
       "      <td>-2.897797e+00</td>\n",
       "      <td>-2.907151e+28</td>\n",
       "      <td>-1.555576e+38</td>\n",
       "      <td>-2.079942e+00</td>\n",
       "      <td>-2.881681e+00</td>\n",
       "      <td>-4.574219e+01</td>\n",
       "      <td>-2.117285e+09</td>\n",
       "      <td>-3.569926e+37</td>\n",
       "      <td>-4.613330e+01</td>\n",
       "      <td>-4.984605e+35</td>\n",
       "      <td>-2.117285e+06</td>\n",
       "    </tr>\n",
       "    <tr>\n",
       "      <th>25%</th>\n",
       "      <td>1.242616e+01</td>\n",
       "      <td>6.574000e+01</td>\n",
       "      <td>7.159248e+00</td>\n",
       "      <td>3.854499e+03</td>\n",
       "      <td>4.714009e+03</td>\n",
       "      <td>1.730000e+01</td>\n",
       "      <td>7.952008e+00</td>\n",
       "      <td>7.649800e+04</td>\n",
       "      <td>7.537115e+00</td>\n",
       "      <td>-5.399553e+00</td>\n",
       "      <td>6.840000e+00</td>\n",
       "      <td>7.649800e+01</td>\n",
       "    </tr>\n",
       "    <tr>\n",
       "      <th>50%</th>\n",
       "      <td>3.544810e+01</td>\n",
       "      <td>1.622700e+02</td>\n",
       "      <td>7.245830e+00</td>\n",
       "      <td>3.854508e+03</td>\n",
       "      <td>4.714017e+03</td>\n",
       "      <td>3.170000e+01</td>\n",
       "      <td>1.396760e+01</td>\n",
       "      <td>7.664700e+04</td>\n",
       "      <td>7.758421e+00</td>\n",
       "      <td>2.783454e+00</td>\n",
       "      <td>1.064000e+01</td>\n",
       "      <td>7.664700e+01</td>\n",
       "    </tr>\n",
       "    <tr>\n",
       "      <th>75%</th>\n",
       "      <td>4.990405e+01</td>\n",
       "      <td>2.436500e+02</td>\n",
       "      <td>7.401949e+00</td>\n",
       "      <td>3.854517e+03</td>\n",
       "      <td>4.714021e+03</td>\n",
       "      <td>4.550000e+01</td>\n",
       "      <td>2.002255e+01</td>\n",
       "      <td>7.683500e+04</td>\n",
       "      <td>7.802367e+00</td>\n",
       "      <td>9.943656e+00</td>\n",
       "      <td>1.335000e+01</td>\n",
       "      <td>7.683500e+01</td>\n",
       "    </tr>\n",
       "    <tr>\n",
       "      <th>max</th>\n",
       "      <td>8.639694e+01</td>\n",
       "      <td>3.460621e+37</td>\n",
       "      <td>2.923433e+09</td>\n",
       "      <td>1.446200e+38</td>\n",
       "      <td>2.931833e+09</td>\n",
       "      <td>7.670000e+01</td>\n",
       "      <td>2.672437e+73</td>\n",
       "      <td>2.074862e+09</td>\n",
       "      <td>2.187529e+38</td>\n",
       "      <td>2.264563e+44</td>\n",
       "      <td>1.364832e+35</td>\n",
       "      <td>2.074862e+06</td>\n",
       "    </tr>\n",
       "  </tbody>\n",
       "</table>\n",
       "</div>"
      ],
      "text/plain": [
       "            BaroAlt           CoG            LE          Lang           Lat  \\\n",
       "count  1.073347e+06  1.073347e+06  1.073347e+06  1.073347e+06  1.073347e+06   \n",
       "mean   3.418909e+01           inf -3.090407e+25           NaN  2.197488e+08   \n",
       "std    2.443696e+01           inf           inf           inf  7.694171e+08   \n",
       "min   -4.398597e+00 -2.897797e+00 -2.907151e+28 -1.555576e+38 -2.079942e+00   \n",
       "25%    1.242616e+01  6.574000e+01  7.159248e+00  3.854499e+03  4.714009e+03   \n",
       "50%    3.544810e+01  1.622700e+02  7.245830e+00  3.854508e+03  4.714017e+03   \n",
       "75%    4.990405e+01  2.436500e+02  7.401949e+00  3.854517e+03  4.714021e+03   \n",
       "max    8.639694e+01  3.460621e+37  2.923433e+09  1.446200e+38  2.931833e+09   \n",
       "\n",
       "              MSL_A         Pitch         Press            RE          Roll  \\\n",
       "count  1.073347e+06  1.073347e+06  1.073347e+06  1.072680e+06  1.073347e+06   \n",
       "mean   3.279359e+01  8.963252e+68  1.474590e+07           NaN  2.595071e+40   \n",
       "std    1.878608e+01  1.547666e+71  3.254981e+08           inf  2.424053e+42   \n",
       "min   -2.881681e+00 -4.574219e+01 -2.117285e+09 -3.569926e+37 -4.613330e+01   \n",
       "25%    1.730000e+01  7.952008e+00  7.649800e+04  7.537115e+00 -5.399553e+00   \n",
       "50%    3.170000e+01  1.396760e+01  7.664700e+04  7.758421e+00  2.783454e+00   \n",
       "75%    4.550000e+01  2.002255e+01  7.683500e+04  7.802367e+00  9.943656e+00   \n",
       "max    7.670000e+01  2.672437e+73  2.074862e+09  2.187529e+38  2.264563e+44   \n",
       "\n",
       "                SoG     Press, Pa  \n",
       "count  1.071699e+06  1.073347e+06  \n",
       "mean  -6.670438e+31  1.474590e+04  \n",
       "std             inf  3.254981e+05  \n",
       "min   -4.984605e+35 -2.117285e+06  \n",
       "25%    6.840000e+00  7.649800e+01  \n",
       "50%    1.064000e+01  7.664700e+01  \n",
       "75%    1.335000e+01  7.683500e+01  \n",
       "max    1.364832e+35  2.074862e+06  "
      ]
     },
     "execution_count": 78,
     "metadata": {},
     "output_type": "execute_result"
    }
   ],
   "source": [
    "dataframe.describe()"
   ]
  },
  {
   "cell_type": "code",
   "execution_count": 79,
   "id": "cea872a1",
   "metadata": {},
   "outputs": [
    {
     "data": {
      "text/html": [
       "<div>\n",
       "<style scoped>\n",
       "    .dataframe tbody tr th:only-of-type {\n",
       "        vertical-align: middle;\n",
       "    }\n",
       "\n",
       "    .dataframe tbody tr th {\n",
       "        vertical-align: top;\n",
       "    }\n",
       "\n",
       "    .dataframe thead th {\n",
       "        text-align: right;\n",
       "    }\n",
       "</style>\n",
       "<table border=\"1\" class=\"dataframe\">\n",
       "  <thead>\n",
       "    <tr style=\"text-align: right;\">\n",
       "      <th></th>\n",
       "      <th>0.0</th>\n",
       "      <th>0.2</th>\n",
       "      <th>0.4</th>\n",
       "      <th>0.6</th>\n",
       "      <th>0.8</th>\n",
       "      <th>1.0</th>\n",
       "      <th>1.2</th>\n",
       "      <th>1.4</th>\n",
       "      <th>1.6</th>\n",
       "      <th>1.8</th>\n",
       "      <th>...</th>\n",
       "      <th>214667.4</th>\n",
       "      <th>214667.6</th>\n",
       "      <th>214667.8</th>\n",
       "      <th>214668.0</th>\n",
       "      <th>214668.2</th>\n",
       "      <th>214668.4</th>\n",
       "      <th>214668.6</th>\n",
       "      <th>214668.8</th>\n",
       "      <th>214669.0</th>\n",
       "      <th>214669.2</th>\n",
       "    </tr>\n",
       "  </thead>\n",
       "  <tbody>\n",
       "    <tr>\n",
       "      <th>BaroAlt</th>\n",
       "      <td>0.0</td>\n",
       "      <td>0.0</td>\n",
       "      <td>0.0</td>\n",
       "      <td>0.0</td>\n",
       "      <td>0.0</td>\n",
       "      <td>0.0</td>\n",
       "      <td>0.0</td>\n",
       "      <td>0.0</td>\n",
       "      <td>0.0</td>\n",
       "      <td>0.0</td>\n",
       "      <td>...</td>\n",
       "      <td>3.957173</td>\n",
       "      <td>3.957173</td>\n",
       "      <td>3.957173</td>\n",
       "      <td>3.957173</td>\n",
       "      <td>3.957173</td>\n",
       "      <td>3.957173</td>\n",
       "      <td>3.957173</td>\n",
       "      <td>3.957173</td>\n",
       "      <td>3.957173</td>\n",
       "      <td>3.957173</td>\n",
       "    </tr>\n",
       "    <tr>\n",
       "      <th>CoG</th>\n",
       "      <td>0.0</td>\n",
       "      <td>0.0</td>\n",
       "      <td>0.0</td>\n",
       "      <td>0.0</td>\n",
       "      <td>0.0</td>\n",
       "      <td>0.0</td>\n",
       "      <td>0.0</td>\n",
       "      <td>0.0</td>\n",
       "      <td>0.0</td>\n",
       "      <td>0.0</td>\n",
       "      <td>...</td>\n",
       "      <td>4.590000</td>\n",
       "      <td>4.590000</td>\n",
       "      <td>4.590000</td>\n",
       "      <td>4.590000</td>\n",
       "      <td>4.590000</td>\n",
       "      <td>4.590000</td>\n",
       "      <td>4.590000</td>\n",
       "      <td>4.590000</td>\n",
       "      <td>4.590000</td>\n",
       "      <td>4.590000</td>\n",
       "    </tr>\n",
       "    <tr>\n",
       "      <th>LE</th>\n",
       "      <td>0.0</td>\n",
       "      <td>0.0</td>\n",
       "      <td>0.0</td>\n",
       "      <td>0.0</td>\n",
       "      <td>0.0</td>\n",
       "      <td>0.0</td>\n",
       "      <td>0.0</td>\n",
       "      <td>0.0</td>\n",
       "      <td>0.0</td>\n",
       "      <td>0.0</td>\n",
       "      <td>...</td>\n",
       "      <td>7.261730</td>\n",
       "      <td>7.261730</td>\n",
       "      <td>7.261730</td>\n",
       "      <td>7.261730</td>\n",
       "      <td>7.261730</td>\n",
       "      <td>7.261730</td>\n",
       "      <td>7.261730</td>\n",
       "      <td>7.261730</td>\n",
       "      <td>7.261730</td>\n",
       "      <td>7.261730</td>\n",
       "    </tr>\n",
       "    <tr>\n",
       "      <th>Lang</th>\n",
       "      <td>0.0</td>\n",
       "      <td>0.0</td>\n",
       "      <td>0.0</td>\n",
       "      <td>0.0</td>\n",
       "      <td>0.0</td>\n",
       "      <td>0.0</td>\n",
       "      <td>0.0</td>\n",
       "      <td>0.0</td>\n",
       "      <td>0.0</td>\n",
       "      <td>0.0</td>\n",
       "      <td>...</td>\n",
       "      <td>3854.499512</td>\n",
       "      <td>3854.499512</td>\n",
       "      <td>3854.499512</td>\n",
       "      <td>3854.499512</td>\n",
       "      <td>3854.499512</td>\n",
       "      <td>3854.499512</td>\n",
       "      <td>3854.499512</td>\n",
       "      <td>3854.499512</td>\n",
       "      <td>3854.499512</td>\n",
       "      <td>3854.499512</td>\n",
       "    </tr>\n",
       "    <tr>\n",
       "      <th>Lat</th>\n",
       "      <td>0.0</td>\n",
       "      <td>0.0</td>\n",
       "      <td>0.0</td>\n",
       "      <td>0.0</td>\n",
       "      <td>0.0</td>\n",
       "      <td>0.0</td>\n",
       "      <td>0.0</td>\n",
       "      <td>0.0</td>\n",
       "      <td>0.0</td>\n",
       "      <td>0.0</td>\n",
       "      <td>...</td>\n",
       "      <td>4714.021973</td>\n",
       "      <td>4714.021973</td>\n",
       "      <td>4714.021973</td>\n",
       "      <td>4714.021973</td>\n",
       "      <td>4714.021973</td>\n",
       "      <td>4714.021973</td>\n",
       "      <td>4714.021973</td>\n",
       "      <td>4714.021973</td>\n",
       "      <td>4714.021973</td>\n",
       "      <td>4714.021973</td>\n",
       "    </tr>\n",
       "    <tr>\n",
       "      <th>MSL_A</th>\n",
       "      <td>0.0</td>\n",
       "      <td>0.0</td>\n",
       "      <td>0.0</td>\n",
       "      <td>0.0</td>\n",
       "      <td>0.0</td>\n",
       "      <td>0.0</td>\n",
       "      <td>0.0</td>\n",
       "      <td>0.0</td>\n",
       "      <td>0.0</td>\n",
       "      <td>0.0</td>\n",
       "      <td>...</td>\n",
       "      <td>17.299999</td>\n",
       "      <td>17.299999</td>\n",
       "      <td>17.299999</td>\n",
       "      <td>17.299999</td>\n",
       "      <td>17.299999</td>\n",
       "      <td>17.299999</td>\n",
       "      <td>17.299999</td>\n",
       "      <td>17.299999</td>\n",
       "      <td>17.299999</td>\n",
       "      <td>17.299999</td>\n",
       "    </tr>\n",
       "    <tr>\n",
       "      <th>Pitch</th>\n",
       "      <td>0.0</td>\n",
       "      <td>0.0</td>\n",
       "      <td>0.0</td>\n",
       "      <td>0.0</td>\n",
       "      <td>0.0</td>\n",
       "      <td>0.0</td>\n",
       "      <td>0.0</td>\n",
       "      <td>0.0</td>\n",
       "      <td>0.0</td>\n",
       "      <td>0.0</td>\n",
       "      <td>...</td>\n",
       "      <td>7.914008</td>\n",
       "      <td>7.914008</td>\n",
       "      <td>7.914008</td>\n",
       "      <td>7.914008</td>\n",
       "      <td>7.914008</td>\n",
       "      <td>7.914008</td>\n",
       "      <td>7.914008</td>\n",
       "      <td>7.914008</td>\n",
       "      <td>7.914008</td>\n",
       "      <td>7.914008</td>\n",
       "    </tr>\n",
       "    <tr>\n",
       "      <th>Press</th>\n",
       "      <td>0.0</td>\n",
       "      <td>0.0</td>\n",
       "      <td>0.0</td>\n",
       "      <td>0.0</td>\n",
       "      <td>0.0</td>\n",
       "      <td>0.0</td>\n",
       "      <td>0.0</td>\n",
       "      <td>0.0</td>\n",
       "      <td>0.0</td>\n",
       "      <td>0.0</td>\n",
       "      <td>...</td>\n",
       "      <td>76955.000000</td>\n",
       "      <td>76955.000000</td>\n",
       "      <td>76955.000000</td>\n",
       "      <td>76955.000000</td>\n",
       "      <td>76955.000000</td>\n",
       "      <td>76955.000000</td>\n",
       "      <td>76955.000000</td>\n",
       "      <td>76955.000000</td>\n",
       "      <td>76955.000000</td>\n",
       "      <td>76955.000000</td>\n",
       "    </tr>\n",
       "    <tr>\n",
       "      <th>RE</th>\n",
       "      <td>0.0</td>\n",
       "      <td>0.0</td>\n",
       "      <td>0.0</td>\n",
       "      <td>0.0</td>\n",
       "      <td>0.0</td>\n",
       "      <td>0.0</td>\n",
       "      <td>0.0</td>\n",
       "      <td>0.0</td>\n",
       "      <td>0.0</td>\n",
       "      <td>0.0</td>\n",
       "      <td>...</td>\n",
       "      <td>7.758317</td>\n",
       "      <td>7.758317</td>\n",
       "      <td>7.758317</td>\n",
       "      <td>7.758317</td>\n",
       "      <td>7.758317</td>\n",
       "      <td>7.758317</td>\n",
       "      <td>7.758317</td>\n",
       "      <td>7.758317</td>\n",
       "      <td>7.758317</td>\n",
       "      <td>7.758317</td>\n",
       "    </tr>\n",
       "    <tr>\n",
       "      <th>Roll</th>\n",
       "      <td>0.0</td>\n",
       "      <td>0.0</td>\n",
       "      <td>0.0</td>\n",
       "      <td>0.0</td>\n",
       "      <td>0.0</td>\n",
       "      <td>0.0</td>\n",
       "      <td>0.0</td>\n",
       "      <td>0.0</td>\n",
       "      <td>0.0</td>\n",
       "      <td>0.0</td>\n",
       "      <td>...</td>\n",
       "      <td>4.610163</td>\n",
       "      <td>4.610163</td>\n",
       "      <td>4.610163</td>\n",
       "      <td>4.610163</td>\n",
       "      <td>4.610163</td>\n",
       "      <td>4.610163</td>\n",
       "      <td>4.610163</td>\n",
       "      <td>4.610163</td>\n",
       "      <td>4.610163</td>\n",
       "      <td>4.610163</td>\n",
       "    </tr>\n",
       "    <tr>\n",
       "      <th>SoG</th>\n",
       "      <td>0.0</td>\n",
       "      <td>0.0</td>\n",
       "      <td>0.0</td>\n",
       "      <td>0.0</td>\n",
       "      <td>0.0</td>\n",
       "      <td>0.0</td>\n",
       "      <td>0.0</td>\n",
       "      <td>0.0</td>\n",
       "      <td>0.0</td>\n",
       "      <td>0.0</td>\n",
       "      <td>...</td>\n",
       "      <td>0.000000</td>\n",
       "      <td>0.000000</td>\n",
       "      <td>0.000000</td>\n",
       "      <td>0.000000</td>\n",
       "      <td>0.000000</td>\n",
       "      <td>0.000000</td>\n",
       "      <td>0.000000</td>\n",
       "      <td>0.000000</td>\n",
       "      <td>0.000000</td>\n",
       "      <td>0.000000</td>\n",
       "    </tr>\n",
       "    <tr>\n",
       "      <th>Press, Pa</th>\n",
       "      <td>0.0</td>\n",
       "      <td>0.0</td>\n",
       "      <td>0.0</td>\n",
       "      <td>0.0</td>\n",
       "      <td>0.0</td>\n",
       "      <td>0.0</td>\n",
       "      <td>0.0</td>\n",
       "      <td>0.0</td>\n",
       "      <td>0.0</td>\n",
       "      <td>0.0</td>\n",
       "      <td>...</td>\n",
       "      <td>76.955000</td>\n",
       "      <td>76.955000</td>\n",
       "      <td>76.955000</td>\n",
       "      <td>76.955000</td>\n",
       "      <td>76.955000</td>\n",
       "      <td>76.955000</td>\n",
       "      <td>76.955000</td>\n",
       "      <td>76.955000</td>\n",
       "      <td>76.955000</td>\n",
       "      <td>76.955000</td>\n",
       "    </tr>\n",
       "  </tbody>\n",
       "</table>\n",
       "<p>12 rows × 1073347 columns</p>\n",
       "</div>"
      ],
      "text/plain": [
       "           0.0       0.2       0.4       0.6       0.8       1.0       \\\n",
       "BaroAlt         0.0       0.0       0.0       0.0       0.0       0.0   \n",
       "CoG             0.0       0.0       0.0       0.0       0.0       0.0   \n",
       "LE              0.0       0.0       0.0       0.0       0.0       0.0   \n",
       "Lang            0.0       0.0       0.0       0.0       0.0       0.0   \n",
       "Lat             0.0       0.0       0.0       0.0       0.0       0.0   \n",
       "MSL_A           0.0       0.0       0.0       0.0       0.0       0.0   \n",
       "Pitch           0.0       0.0       0.0       0.0       0.0       0.0   \n",
       "Press           0.0       0.0       0.0       0.0       0.0       0.0   \n",
       "RE              0.0       0.0       0.0       0.0       0.0       0.0   \n",
       "Roll            0.0       0.0       0.0       0.0       0.0       0.0   \n",
       "SoG             0.0       0.0       0.0       0.0       0.0       0.0   \n",
       "Press, Pa       0.0       0.0       0.0       0.0       0.0       0.0   \n",
       "\n",
       "           1.2       1.4       1.6       1.8       ...      214667.4  \\\n",
       "BaroAlt         0.0       0.0       0.0       0.0  ...      3.957173   \n",
       "CoG             0.0       0.0       0.0       0.0  ...      4.590000   \n",
       "LE              0.0       0.0       0.0       0.0  ...      7.261730   \n",
       "Lang            0.0       0.0       0.0       0.0  ...   3854.499512   \n",
       "Lat             0.0       0.0       0.0       0.0  ...   4714.021973   \n",
       "MSL_A           0.0       0.0       0.0       0.0  ...     17.299999   \n",
       "Pitch           0.0       0.0       0.0       0.0  ...      7.914008   \n",
       "Press           0.0       0.0       0.0       0.0  ...  76955.000000   \n",
       "RE              0.0       0.0       0.0       0.0  ...      7.758317   \n",
       "Roll            0.0       0.0       0.0       0.0  ...      4.610163   \n",
       "SoG             0.0       0.0       0.0       0.0  ...      0.000000   \n",
       "Press, Pa       0.0       0.0       0.0       0.0  ...     76.955000   \n",
       "\n",
       "               214667.6      214667.8      214668.0      214668.2  \\\n",
       "BaroAlt        3.957173      3.957173      3.957173      3.957173   \n",
       "CoG            4.590000      4.590000      4.590000      4.590000   \n",
       "LE             7.261730      7.261730      7.261730      7.261730   \n",
       "Lang        3854.499512   3854.499512   3854.499512   3854.499512   \n",
       "Lat         4714.021973   4714.021973   4714.021973   4714.021973   \n",
       "MSL_A         17.299999     17.299999     17.299999     17.299999   \n",
       "Pitch          7.914008      7.914008      7.914008      7.914008   \n",
       "Press      76955.000000  76955.000000  76955.000000  76955.000000   \n",
       "RE             7.758317      7.758317      7.758317      7.758317   \n",
       "Roll           4.610163      4.610163      4.610163      4.610163   \n",
       "SoG            0.000000      0.000000      0.000000      0.000000   \n",
       "Press, Pa     76.955000     76.955000     76.955000     76.955000   \n",
       "\n",
       "               214668.4      214668.6      214668.8      214669.0  \\\n",
       "BaroAlt        3.957173      3.957173      3.957173      3.957173   \n",
       "CoG            4.590000      4.590000      4.590000      4.590000   \n",
       "LE             7.261730      7.261730      7.261730      7.261730   \n",
       "Lang        3854.499512   3854.499512   3854.499512   3854.499512   \n",
       "Lat         4714.021973   4714.021973   4714.021973   4714.021973   \n",
       "MSL_A         17.299999     17.299999     17.299999     17.299999   \n",
       "Pitch          7.914008      7.914008      7.914008      7.914008   \n",
       "Press      76955.000000  76955.000000  76955.000000  76955.000000   \n",
       "RE             7.758317      7.758317      7.758317      7.758317   \n",
       "Roll           4.610163      4.610163      4.610163      4.610163   \n",
       "SoG            0.000000      0.000000      0.000000      0.000000   \n",
       "Press, Pa     76.955000     76.955000     76.955000     76.955000   \n",
       "\n",
       "               214669.2  \n",
       "BaroAlt        3.957173  \n",
       "CoG            4.590000  \n",
       "LE             7.261730  \n",
       "Lang        3854.499512  \n",
       "Lat         4714.021973  \n",
       "MSL_A         17.299999  \n",
       "Pitch          7.914008  \n",
       "Press      76955.000000  \n",
       "RE             7.758317  \n",
       "Roll           4.610163  \n",
       "SoG            0.000000  \n",
       "Press, Pa     76.955000  \n",
       "\n",
       "[12 rows x 1073347 columns]"
      ]
     },
     "execution_count": 79,
     "metadata": {},
     "output_type": "execute_result"
    }
   ],
   "source": [
    "dataframe.T"
   ]
  },
  {
   "cell_type": "markdown",
   "id": "eca11e60",
   "metadata": {},
   "source": [
    "### 3. Index"
   ]
  },
  {
   "cell_type": "markdown",
   "id": "eb27e89a",
   "metadata": {},
   "source": [
    "Объект Index в Pandas обеспечивает возможность в явном виде ссылаться на данные и модифицировать их. Его можно рассматривать или как неизменяемый массив, или как упорядоченное множество, из чего следуют некоторые любопытные возможности операций над ним."
   ]
  },
  {
   "cell_type": "code",
   "execution_count": 40,
   "id": "aad1d240",
   "metadata": {},
   "outputs": [
    {
     "data": {
      "text/plain": [
       "Int64Index([2, 3, 5, 7, 11], dtype='int64')"
      ]
     },
     "execution_count": 40,
     "metadata": {},
     "output_type": "execute_result"
    }
   ],
   "source": [
    "ind = pd.Index([2,3,5,7,11])\n",
    "ind"
   ]
  },
  {
   "cell_type": "code",
   "execution_count": 41,
   "id": "e0209a33",
   "metadata": {},
   "outputs": [
    {
     "data": {
      "text/plain": [
       "3"
      ]
     },
     "execution_count": 41,
     "metadata": {},
     "output_type": "execute_result"
    }
   ],
   "source": [
    "ind[1]"
   ]
  },
  {
   "cell_type": "code",
   "execution_count": 42,
   "id": "123ae23c",
   "metadata": {},
   "outputs": [
    {
     "data": {
      "text/plain": [
       "Int64Index([2, 5, 11], dtype='int64')"
      ]
     },
     "execution_count": 42,
     "metadata": {},
     "output_type": "execute_result"
    }
   ],
   "source": [
    "ind[::2]"
   ]
  },
  {
   "cell_type": "code",
   "execution_count": 43,
   "id": "5fbffdce",
   "metadata": {},
   "outputs": [
    {
     "ename": "TypeError",
     "evalue": "Index does not support mutable operations",
     "output_type": "error",
     "traceback": [
      "\u001b[1;31m---------------------------------------------------------------------------\u001b[0m",
      "\u001b[1;31mTypeError\u001b[0m                                 Traceback (most recent call last)",
      "Input \u001b[1;32mIn [43]\u001b[0m, in \u001b[0;36m<cell line: 1>\u001b[1;34m()\u001b[0m\n\u001b[1;32m----> 1\u001b[0m ind[\u001b[38;5;241m1\u001b[39m]\u001b[38;5;241m=\u001b[39m\u001b[38;5;241m0\u001b[39m\n",
      "File \u001b[1;32m~\\anaconda3\\lib\\site-packages\\pandas\\core\\indexes\\base.py:5021\u001b[0m, in \u001b[0;36mIndex.__setitem__\u001b[1;34m(self, key, value)\u001b[0m\n\u001b[0;32m   5019\u001b[0m \u001b[38;5;129m@final\u001b[39m\n\u001b[0;32m   5020\u001b[0m \u001b[38;5;28;01mdef\u001b[39;00m \u001b[38;5;21m__setitem__\u001b[39m(\u001b[38;5;28mself\u001b[39m, key, value):\n\u001b[1;32m-> 5021\u001b[0m     \u001b[38;5;28;01mraise\u001b[39;00m \u001b[38;5;167;01mTypeError\u001b[39;00m(\u001b[38;5;124m\"\u001b[39m\u001b[38;5;124mIndex does not support mutable operations\u001b[39m\u001b[38;5;124m\"\u001b[39m)\n",
      "\u001b[1;31mTypeError\u001b[0m: Index does not support mutable operations"
     ]
    }
   ],
   "source": [
    "ind[1]=0"
   ]
  },
  {
   "cell_type": "markdown",
   "id": "8e6b5911",
   "metadata": {},
   "source": [
    "Объекты Pandas проектировались с прицелом на упрощение таких операций, как соединение наборов данных, зависящее от многих аспектов метрики множеств. Index поддерживает большинство операций, свойственных для типа set"
   ]
  },
  {
   "cell_type": "code",
   "execution_count": 46,
   "id": "5f63d212",
   "metadata": {},
   "outputs": [],
   "source": [
    "indA = pd.Index([1,3,5,7,9])\n",
    "indB = pd.Index([2,3,5,7,11])"
   ]
  },
  {
   "cell_type": "code",
   "execution_count": 45,
   "id": "ee21c2bc",
   "metadata": {},
   "outputs": [
    {
     "name": "stderr",
     "output_type": "stream",
     "text": [
      "C:\\Users\\Catring\\AppData\\Local\\Temp\\ipykernel_15348\\144964795.py:1: FutureWarning: Index.__and__ operating as a set operation is deprecated, in the future this will be a logical operation matching Series.__and__.  Use index.intersection(other) instead.\n",
      "  indA & indB\n"
     ]
    },
    {
     "data": {
      "text/plain": [
       "Int64Index([3, 5, 7], dtype='int64')"
      ]
     },
     "execution_count": 45,
     "metadata": {},
     "output_type": "execute_result"
    }
   ],
   "source": [
    "indA & indB"
   ]
  },
  {
   "cell_type": "code",
   "execution_count": 48,
   "id": "5c6ca20c",
   "metadata": {},
   "outputs": [
    {
     "data": {
      "text/plain": [
       "Int64Index([3, 5, 7], dtype='int64')"
      ]
     },
     "execution_count": 48,
     "metadata": {},
     "output_type": "execute_result"
    }
   ],
   "source": [
    "indA.intersection(indB)"
   ]
  },
  {
   "cell_type": "code",
   "execution_count": 47,
   "id": "a729aad5",
   "metadata": {},
   "outputs": [
    {
     "name": "stderr",
     "output_type": "stream",
     "text": [
      "C:\\Users\\Catring\\AppData\\Local\\Temp\\ipykernel_15348\\3251124211.py:1: FutureWarning: Index.__or__ operating as a set operation is deprecated, in the future this will be a logical operation matching Series.__or__.  Use index.union(other) instead.\n",
      "  indA | indB\n"
     ]
    },
    {
     "data": {
      "text/plain": [
       "Int64Index([1, 2, 3, 5, 7, 9, 11], dtype='int64')"
      ]
     },
     "execution_count": 47,
     "metadata": {},
     "output_type": "execute_result"
    }
   ],
   "source": [
    "indA | indB"
   ]
  },
  {
   "cell_type": "code",
   "execution_count": 49,
   "id": "06910b89",
   "metadata": {},
   "outputs": [
    {
     "data": {
      "text/plain": [
       "Int64Index([1, 2, 3, 5, 7, 9, 11], dtype='int64')"
      ]
     },
     "execution_count": 49,
     "metadata": {},
     "output_type": "execute_result"
    }
   ],
   "source": [
    "indA.union(indB)"
   ]
  },
  {
   "cell_type": "code",
   "execution_count": 50,
   "id": "234dd88a",
   "metadata": {},
   "outputs": [
    {
     "name": "stderr",
     "output_type": "stream",
     "text": [
      "C:\\Users\\Catring\\AppData\\Local\\Temp\\ipykernel_15348\\4257225582.py:1: FutureWarning: Index.__xor__ operating as a set operation is deprecated, in the future this will be a logical operation matching Series.__xor__.  Use index.symmetric_difference(other) instead.\n",
      "  indA ^ indB #симмтричная разность\n"
     ]
    },
    {
     "data": {
      "text/plain": [
       "Int64Index([1, 2, 9, 11], dtype='int64')"
      ]
     },
     "execution_count": 50,
     "metadata": {},
     "output_type": "execute_result"
    }
   ],
   "source": [
    "indA ^ indB #симмтричная разность"
   ]
  },
  {
   "cell_type": "code",
   "execution_count": 51,
   "id": "4dfe68fe",
   "metadata": {},
   "outputs": [
    {
     "data": {
      "text/plain": [
       "Int64Index([1, 2, 9, 11], dtype='int64')"
      ]
     },
     "execution_count": 51,
     "metadata": {},
     "output_type": "execute_result"
    }
   ],
   "source": [
    "indA.symmetric_difference(indB)"
   ]
  },
  {
   "cell_type": "markdown",
   "id": "aeb3f7d1",
   "metadata": {},
   "source": [
    "### Самостоятельно\n",
    "\n",
    "Создайте DataFrame, который будет содержать автора, название и жанр нескольких ваших любимых книг.\n"
   ]
  },
  {
   "cell_type": "markdown",
   "id": "d57c5a01",
   "metadata": {},
   "source": [
    "## Выводы"
   ]
  },
  {
   "cell_type": "code",
   "execution_count": null,
   "id": "fa7abfc4",
   "metadata": {},
   "outputs": [],
   "source": []
  }
 ],
 "metadata": {
  "kernelspec": {
   "display_name": "Python 3 (ipykernel)",
   "language": "python",
   "name": "python3"
  },
  "language_info": {
   "codemirror_mode": {
    "name": "ipython",
    "version": 3
   },
   "file_extension": ".py",
   "mimetype": "text/x-python",
   "name": "python",
   "nbconvert_exporter": "python",
   "pygments_lexer": "ipython3",
   "version": "3.9.12"
  }
 },
 "nbformat": 4,
 "nbformat_minor": 5
}
