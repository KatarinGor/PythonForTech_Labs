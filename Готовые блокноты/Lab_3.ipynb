{
 "cells": [
  {
   "cell_type": "markdown",
   "id": "b8dd3231",
   "metadata": {},
   "source": [
    "# Практическая работа № 3\n",
    "## Коллекции\n"
   ]
  },
  {
   "cell_type": "markdown",
   "id": "362ad25a",
   "metadata": {},
   "source": [
    "### 1. Списки\n",
    "Изменяемы упорядоченные наборы элементов, могут быть разных типов"
   ]
  },
  {
   "cell_type": "code",
   "execution_count": 1,
   "id": "6de0169a",
   "metadata": {},
   "outputs": [],
   "source": [
    "empty_list = [] \n",
    "empty_list = list() \n",
    "none_list = [None] * 10 \n",
    "collections = ['list', 'tuple', 'dict', 'set'] \n",
    "user_data = [ ['Elena', 4.4], ['Andrey', 4.2] ]\n"
   ]
  },
  {
   "cell_type": "markdown",
   "id": "ab4acff7",
   "metadata": {},
   "source": [
    "Длина списка"
   ]
  },
  {
   "cell_type": "code",
   "execution_count": 2,
   "id": "e7dd70fc",
   "metadata": {},
   "outputs": [
    {
     "data": {
      "text/plain": [
       "4"
      ]
     },
     "execution_count": 2,
     "metadata": {},
     "output_type": "execute_result"
    }
   ],
   "source": [
    "len(collections)"
   ]
  },
  {
   "cell_type": "code",
   "execution_count": 3,
   "id": "fb9a66fb",
   "metadata": {},
   "outputs": [
    {
     "name": "stdout",
     "output_type": "stream",
     "text": [
      "['list', 'tuple', 'dict', 'set']\n",
      "list\n",
      "set\n"
     ]
    }
   ],
   "source": [
    "print(collections)\n",
    "print(collections[0])\n",
    "print(collections[-1])\n"
   ]
  },
  {
   "cell_type": "markdown",
   "id": "3c475e93",
   "metadata": {},
   "source": [
    "Присваиваниt (изменения элементов):"
   ]
  },
  {
   "cell_type": "code",
   "execution_count": 4,
   "id": "da905a0f",
   "metadata": {},
   "outputs": [
    {
     "name": "stdout",
     "output_type": "stream",
     "text": [
      "['list', 'tuple', 'dict', 'frozenset']\n"
     ]
    }
   ],
   "source": [
    "collections[3] = 'frozenset' \n",
    "print(collections)"
   ]
  },
  {
   "cell_type": "markdown",
   "id": "cd72a97c",
   "metadata": {},
   "source": [
    "Проверить, существует ли элемент в списке:"
   ]
  },
  {
   "cell_type": "code",
   "execution_count": 5,
   "id": "9c8877a5",
   "metadata": {},
   "outputs": [
    {
     "data": {
      "text/plain": [
       "True"
      ]
     },
     "execution_count": 5,
     "metadata": {},
     "output_type": "execute_result"
    }
   ],
   "source": [
    "'tuple' in collections"
   ]
  },
  {
   "cell_type": "markdown",
   "id": "24d42241",
   "metadata": {},
   "source": [
    "Срезы в списках работают точно так же, как и в строках. Создадим список из 10 элементов с помощью встроенной функции range и поэкспериментируем на нём со срезам"
   ]
  },
  {
   "cell_type": "code",
   "execution_count": 7,
   "id": "f1caf148",
   "metadata": {},
   "outputs": [
    {
     "name": "stdout",
     "output_type": "stream",
     "text": [
      "[0, 1, 2, 3, 4, 5, 6, 7, 8, 9]\n",
      "[1, 2]\n",
      "[0, 2, 4, 6, 8]\n",
      "[9, 8, 7, 6, 5, 4, 3, 2, 1, 0]\n",
      "[5, 4, 3, 2]\n"
     ]
    }
   ],
   "source": [
    "range_list = list(range(10))\n",
    "print(range_list)\n",
    "\n",
    "print(range_list[1:3])\n",
    "\n",
    "print(range_list[::2])\n",
    "\n",
    "print(range_list[::-1])\n",
    "\n",
    "print(range_list[5:1:-1])"
   ]
  },
  {
   "cell_type": "markdown",
   "id": "430c3ec8",
   "metadata": {},
   "source": [
    "Все коллекции (списки в том числе) поддерживают протокол итерации"
   ]
  },
  {
   "cell_type": "code",
   "execution_count": 10,
   "id": "f2d48a83",
   "metadata": {},
   "outputs": [
    {
     "name": "stdout",
     "output_type": "stream",
     "text": [
      "Изучим list!\n",
      "Изучим tuple!\n",
      "Изучим dict!\n",
      "Изучим set!\n"
     ]
    }
   ],
   "source": [
    "collections = ['list', 'tuple', 'dict', 'set']\n",
    "for collection in collections:\n",
    " \tprint('Изучим {}!'.format(collection))"
   ]
  },
  {
   "cell_type": "markdown",
   "id": "bb331c02",
   "metadata": {},
   "source": [
    "Итерация по элементам (а не по индексам). А что, если нужен индекс?"
   ]
  },
  {
   "cell_type": "code",
   "execution_count": 11,
   "id": "887e22a0",
   "metadata": {},
   "outputs": [
    {
     "name": "stdout",
     "output_type": "stream",
     "text": [
      "#0 list\n",
      "#1 tuple\n",
      "#2 dict\n",
      "#3 set\n"
     ]
    }
   ],
   "source": [
    "for idx, collection in enumerate(collections):\n",
    " \t\tprint('#{} {}'.format(idx, collection))\n"
   ]
  },
  {
   "cell_type": "markdown",
   "id": "094bd4b6",
   "metadata": {},
   "source": [
    "Можно добавлять и уделять элементы"
   ]
  },
  {
   "cell_type": "code",
   "execution_count": 15,
   "id": "7a194b8e",
   "metadata": {},
   "outputs": [
    {
     "name": "stdout",
     "output_type": "stream",
     "text": [
      "['list', 'tuple', 'dict', 'set', 'OrderedDict', 'OrderedDict', 'OrderedDict', 'OrderedDict']\n"
     ]
    }
   ],
   "source": [
    "collections.append('OrderedDict')\n",
    "print(collections)"
   ]
  },
  {
   "cell_type": "markdown",
   "id": "e5a93ef0",
   "metadata": {},
   "source": [
    "Если нужно расширить список другим списком:"
   ]
  },
  {
   "cell_type": "code",
   "execution_count": 17,
   "id": "c22e5e86",
   "metadata": {},
   "outputs": [
    {
     "name": "stdout",
     "output_type": "stream",
     "text": [
      "['list', 'tuple', 'dict', 'set', 'OrderedDict', 'OrderedDict', 'OrderedDict', 'OrderedDict', 'ponyset', 'unicorndict', 'ponyset', 'unicorndict']\n"
     ]
    }
   ],
   "source": [
    "collections.extend(['ponyset', 'unicorndict'])\n",
    "print(collections)"
   ]
  },
  {
   "cell_type": "code",
   "execution_count": 20,
   "id": "a49d5258",
   "metadata": {},
   "outputs": [
    {
     "name": "stdout",
     "output_type": "stream",
     "text": [
      "['list', 'tuple', 'dict', 'set', 'OrderedDict', 'OrderedDict', 'OrderedDict', 'OrderedDict', 'ponyset', 'unicorndict', 'ponyset', 'unicorndict', None, None, None]\n"
     ]
    }
   ],
   "source": [
    "collections += [None, None]\n",
    "print(collections)"
   ]
  },
  {
   "cell_type": "markdown",
   "id": "6cb1bfdb",
   "metadata": {},
   "source": [
    "Удаление элемента из списка"
   ]
  },
  {
   "cell_type": "code",
   "execution_count": 22,
   "id": "3e1abcf9",
   "metadata": {},
   "outputs": [
    {
     "name": "stdout",
     "output_type": "stream",
     "text": [
      "['list', 'tuple', 'dict', 'set', 'OrderedDict', 'OrderedDict', 'ponyset', 'unicorndict', 'ponyset', 'unicorndict', None, None, None]\n"
     ]
    }
   ],
   "source": [
    "del collections[4]\n",
    "print(collections)"
   ]
  },
  {
   "cell_type": "markdown",
   "id": "241b13c5",
   "metadata": {},
   "source": [
    "Преобразовать список в строку и обратно :\n",
    "*прим. работает только для строк*"
   ]
  },
  {
   "cell_type": "code",
   "execution_count": 40,
   "id": "1e0cd33c",
   "metadata": {},
   "outputs": [
    {
     "name": "stdout",
     "output_type": "stream",
     "text": [
      "строка:  RTF, FAVT, EGF, FIB\n",
      "<class 'str'>\n",
      "['RTF', 'FAVT', 'EGF', 'FIB']\n",
      "<class 'list'>\n",
      "[1, 2, 3, 4]\n",
      "<class 'list'>\n"
     ]
    }
   ],
   "source": [
    "fac_list = ['RTF', 'FAVT', 'EGF','FIB']\n",
    "delimeter = ', '\n",
    "fac_str = delimeter.join(fac_list)\n",
    "print('строка: ', fac_str)\n",
    "print(type(fac_str))\n",
    "faclist_back = fac_str.split(delimeter)\n",
    "print(faclist_back)\n",
    "print(type(faclist_back))\n"
   ]
  },
  {
   "cell_type": "markdown",
   "id": "9edadb93",
   "metadata": {},
   "source": [
    "Сортировка. Сначала создадим список из случайных чисел"
   ]
  },
  {
   "cell_type": "code",
   "execution_count": 41,
   "id": "c7814a29",
   "metadata": {},
   "outputs": [
    {
     "name": "stdout",
     "output_type": "stream",
     "text": [
      "[16, 3, 13, 8, 16, 15, 20, 19, 11, 17]\n"
     ]
    }
   ],
   "source": [
    "import random\n",
    "numbers = []\n",
    "for _ in range(10): # переменную для итерации называли _, т.к. сама по себе она нам не интересна(дада, так тоже можно)\n",
    "    numbers.append(random.randint(1, 20))\n",
    "print(numbers)"
   ]
  },
  {
   "cell_type": "markdown",
   "id": "e81a9f15",
   "metadata": {},
   "source": [
    "Для сортировки списка в Python есть два способа: стандартная функция sorted, которая возвращает новый список, полученный сортировкой исходного, и метод списка .sort(), который сортирует in-place."
   ]
  },
  {
   "cell_type": "code",
   "execution_count": 42,
   "id": "b6a872ad",
   "metadata": {},
   "outputs": [
    {
     "name": "stdout",
     "output_type": "stream",
     "text": [
      "[3, 8, 11, 13, 15, 16, 16, 17, 19, 20]\n",
      "[16, 3, 13, 8, 16, 15, 20, 19, 11, 17]\n"
     ]
    }
   ],
   "source": [
    "print(sorted(numbers))\n",
    "print(numbers)"
   ]
  },
  {
   "cell_type": "code",
   "execution_count": 43,
   "id": "0595aab5",
   "metadata": {},
   "outputs": [
    {
     "name": "stdout",
     "output_type": "stream",
     "text": [
      "[3, 8, 11, 13, 15, 16, 16, 17, 19, 20]\n"
     ]
    }
   ],
   "source": [
    "numbers.sort()\n",
    "print(numbers)"
   ]
  },
  {
   "cell_type": "markdown",
   "id": "b5048976",
   "metadata": {},
   "source": [
    "Если нужно в обратном порядке:"
   ]
  },
  {
   "cell_type": "code",
   "execution_count": 44,
   "id": "9e7b9b73",
   "metadata": {},
   "outputs": [
    {
     "name": "stdout",
     "output_type": "stream",
     "text": [
      "[20, 19, 17, 16, 16, 15, 13, 11, 8, 3]\n"
     ]
    }
   ],
   "source": [
    "numbers.sort(reverse=True)\n",
    "print(numbers)"
   ]
  },
  {
   "cell_type": "markdown",
   "id": "bf7b971f",
   "metadata": {},
   "source": [
    "### 2. Кортежи (tuple)\n",
    " Кортежи - это неизменяемые списки. Кортежи определяются с помощью круглых скобок\n",
    "или литерала tuple."
   ]
  },
  {
   "cell_type": "code",
   "execution_count": 32,
   "id": "71e282be",
   "metadata": {},
   "outputs": [],
   "source": [
    "empty_tuple = ()\n",
    "empty_tuple = tuple()"
   ]
  },
  {
   "cell_type": "code",
   "execution_count": 50,
   "id": "e0d16e11",
   "metadata": {},
   "outputs": [],
   "source": [
    "immutables = (int, str, tuple)"
   ]
  },
  {
   "cell_type": "markdown",
   "id": "6b3b86a0",
   "metadata": {},
   "source": [
    "Попробуем изменить какой-нибудь элемент:"
   ]
  },
  {
   "cell_type": "code",
   "execution_count": 47,
   "id": "fe4b6362",
   "metadata": {},
   "outputs": [
    {
     "ename": "TypeError",
     "evalue": "'tuple' object does not support item assignment",
     "output_type": "error",
     "traceback": [
      "\u001b[1;31m---------------------------------------------------------------------------\u001b[0m",
      "\u001b[1;31mTypeError\u001b[0m                                 Traceback (most recent call last)",
      "\u001b[1;32m~\\AppData\\Local\\Temp\\ipykernel_12640\\3783869503.py\u001b[0m in \u001b[0;36m<cell line: 1>\u001b[1;34m()\u001b[0m\n\u001b[1;32m----> 1\u001b[1;33m \u001b[0mimmutables\u001b[0m\u001b[1;33m[\u001b[0m\u001b[1;36m0\u001b[0m\u001b[1;33m]\u001b[0m \u001b[1;33m=\u001b[0m \u001b[0mfloat\u001b[0m\u001b[1;33m\u001b[0m\u001b[1;33m\u001b[0m\u001b[0m\n\u001b[0m",
      "\u001b[1;31mTypeError\u001b[0m: 'tuple' object does not support item assignment"
     ]
    }
   ],
   "source": [
    "immutables[0] = float"
   ]
  },
  {
   "cell_type": "markdown",
   "id": "6638af30",
   "metadata": {},
   "source": [
    "Кортежи неизменяемые, объекты внутри них могут быть\n",
    "изменяемыми. Парадоксально, правда?"
   ]
  },
  {
   "cell_type": "code",
   "execution_count": 53,
   "id": "e25ad990",
   "metadata": {},
   "outputs": [
    {
     "name": "stdout",
     "output_type": "stream",
     "text": [
      "(['RTF', 'FAVT', 'EGF', 'FIB', 'FUES'], [])\n",
      "(['RTF', 'FAVT', 'EGF', 'FIB', 'FUES', 'FUES'], [])\n"
     ]
    }
   ],
   "source": [
    "fac_tuple = (fac_list,[])\n",
    "print(fac_tuple)\n",
    "fac_tuple[0].append('FUES')\n",
    "print(fac_tuple)"
   ]
  },
  {
   "cell_type": "markdown",
   "id": "0c5bcca3",
   "metadata": {},
   "source": [
    "#### Давайте чуть подробнее разберемся, чем опасно не учитывать изменяемость и неизменяемость типа данных\n",
    "\n",
    "Неизменяемые (immutable):\n",
    "- None\n",
    "- bool\n",
    "- int\n",
    "- float\n",
    "- str\n",
    "- tuple\n",
    "\n",
    "Изменяемые (muttable)\n",
    "- list\n",
    "- dict\n",
    "- set\n"
   ]
  },
  {
   "cell_type": "code",
   "execution_count": 73,
   "id": "8094b429",
   "metadata": {},
   "outputs": [
    {
     "data": {
      "text/plain": [
       "2026854875376"
      ]
     },
     "execution_count": 73,
     "metadata": {},
     "output_type": "execute_result"
    }
   ],
   "source": [
    "num=1\n",
    "id(num)"
   ]
  },
  {
   "cell_type": "code",
   "execution_count": 80,
   "id": "8f520fd1",
   "metadata": {},
   "outputs": [
    {
     "data": {
      "text/plain": [
       "2026854875600"
      ]
     },
     "execution_count": 80,
     "metadata": {},
     "output_type": "execute_result"
    }
   ],
   "source": [
    "num += 1\n",
    "id(num)"
   ]
  },
  {
   "cell_type": "markdown",
   "id": "f36d2338",
   "metadata": {},
   "source": [
    "*прим. Функция id() возвращает уникальный идентификатор для указанного объекта.*\n",
    "*Все объекты в Python имеют свой уникальный идентификатор. Идентификатор присваивается объекту при его создании. Идентификатор является адресом памяти объекта и будет отличаться при каждом запуске программы.*"
   ]
  },
  {
   "cell_type": "code",
   "execution_count": 81,
   "id": "1aa9fe4c",
   "metadata": {},
   "outputs": [],
   "source": [
    "ex_str = 'Кот'"
   ]
  },
  {
   "cell_type": "code",
   "execution_count": 82,
   "id": "8953f706",
   "metadata": {},
   "outputs": [
    {
     "ename": "TypeError",
     "evalue": "'str' object does not support item assignment",
     "output_type": "error",
     "traceback": [
      "\u001b[1;31m---------------------------------------------------------------------------\u001b[0m",
      "\u001b[1;31mTypeError\u001b[0m                                 Traceback (most recent call last)",
      "\u001b[1;32m~\\AppData\\Local\\Temp\\ipykernel_12640\\3313243715.py\u001b[0m in \u001b[0;36m<cell line: 1>\u001b[1;34m()\u001b[0m\n\u001b[1;32m----> 1\u001b[1;33m \u001b[0mex_str\u001b[0m\u001b[1;33m[\u001b[0m\u001b[1;33m-\u001b[0m\u001b[1;36m1\u001b[0m\u001b[1;33m]\u001b[0m \u001b[1;33m=\u001b[0m \u001b[1;34m'д'\u001b[0m\u001b[1;33m\u001b[0m\u001b[1;33m\u001b[0m\u001b[0m\n\u001b[0m",
      "\u001b[1;31mTypeError\u001b[0m: 'str' object does not support item assignment"
     ]
    }
   ],
   "source": [
    "ex_str[-1] = 'д'"
   ]
  },
  {
   "cell_type": "code",
   "execution_count": 84,
   "id": "78866e1e",
   "metadata": {},
   "outputs": [
    {
     "name": "stdout",
     "output_type": "stream",
     "text": [
      "2026935441360\n",
      "2026935441360\n"
     ]
    }
   ],
   "source": [
    "ex_str_2 = ex_str\n",
    "print(id(ex_str))\n",
    "print(id(ex_str_2))"
   ]
  },
  {
   "cell_type": "code",
   "execution_count": 86,
   "id": "784caa1f",
   "metadata": {},
   "outputs": [
    {
     "name": "stdout",
     "output_type": "stream",
     "text": [
      "Котанан\n",
      "2026935436752\n"
     ]
    }
   ],
   "source": [
    "ex_str += 'ан' # На самом деле создали новую переменную с тем же именем\n",
    "print(ex_str)\n",
    "print(id(ex_str))"
   ]
  },
  {
   "cell_type": "markdown",
   "id": "64e9efd4",
   "metadata": {},
   "source": [
    "Так работает неизменяемость. А что с изменяемостью?"
   ]
  },
  {
   "cell_type": "code",
   "execution_count": 91,
   "id": "ea311225",
   "metadata": {},
   "outputs": [
    {
     "name": "stdout",
     "output_type": "stream",
     "text": [
      "['RTF', 'FAVT', 'EGF', 'FIB', 'FUES', 'FUES']\n"
     ]
    },
    {
     "data": {
      "text/plain": [
       "2026934518912"
      ]
     },
     "execution_count": 91,
     "metadata": {},
     "output_type": "execute_result"
    }
   ],
   "source": [
    "print(fac_list)\n",
    "id(fac_list)"
   ]
  },
  {
   "cell_type": "code",
   "execution_count": 92,
   "id": "f2ffb5f6",
   "metadata": {},
   "outputs": [
    {
     "data": {
      "text/plain": [
       "['RTF', 'FAVT', 'EGF', 'FIB', 'FUES', 'MECHMAT']"
      ]
     },
     "execution_count": 92,
     "metadata": {},
     "output_type": "execute_result"
    }
   ],
   "source": [
    "fac_list[-1] = 'MECHMAT'\n",
    "fac_list"
   ]
  },
  {
   "cell_type": "code",
   "execution_count": 93,
   "id": "c7cf4ba8",
   "metadata": {},
   "outputs": [
    {
     "data": {
      "text/plain": [
       "2026934518912"
      ]
     },
     "execution_count": 93,
     "metadata": {},
     "output_type": "execute_result"
    }
   ],
   "source": [
    "id(fac_list)"
   ]
  },
  {
   "cell_type": "code",
   "execution_count": 110,
   "id": "0630c397",
   "metadata": {},
   "outputs": [
    {
     "data": {
      "text/plain": [
       "['__add__',\n",
       " '__class__',\n",
       " '__class_getitem__',\n",
       " '__contains__',\n",
       " '__delattr__',\n",
       " '__delitem__',\n",
       " '__dir__',\n",
       " '__doc__',\n",
       " '__eq__',\n",
       " '__format__',\n",
       " '__ge__',\n",
       " '__getattribute__',\n",
       " '__getitem__',\n",
       " '__gt__',\n",
       " '__hash__',\n",
       " '__iadd__',\n",
       " '__imul__',\n",
       " '__init__',\n",
       " '__init_subclass__',\n",
       " '__iter__',\n",
       " '__le__',\n",
       " '__len__',\n",
       " '__lt__',\n",
       " '__mul__',\n",
       " '__ne__',\n",
       " '__new__',\n",
       " '__reduce__',\n",
       " '__reduce_ex__',\n",
       " '__repr__',\n",
       " '__reversed__',\n",
       " '__rmul__',\n",
       " '__setattr__',\n",
       " '__setitem__',\n",
       " '__sizeof__',\n",
       " '__str__',\n",
       " '__subclasshook__',\n",
       " 'append',\n",
       " 'clear',\n",
       " 'copy',\n",
       " 'count',\n",
       " 'extend',\n",
       " 'index',\n",
       " 'insert',\n",
       " 'pop',\n",
       " 'remove',\n",
       " 'reverse',\n",
       " 'sort']"
      ]
     },
     "execution_count": 110,
     "metadata": {},
     "output_type": "execute_result"
    }
   ],
   "source": [
    "dir(list)"
   ]
  },
  {
   "cell_type": "markdown",
   "id": "97d7b993",
   "metadata": {},
   "source": [
    "id не изменился, т.е. это та же переменная."
   ]
  },
  {
   "cell_type": "markdown",
   "id": "ea1c6cc1",
   "metadata": {},
   "source": [
    "Теперь посмотрим, какие неявные ошибки могут возникнуть, если это не учитывать."
   ]
  },
  {
   "cell_type": "code",
   "execution_count": 105,
   "id": "e9d3e826",
   "metadata": {},
   "outputs": [],
   "source": [
    "num = 1\n",
    "def add(var):\n",
    "    var += 1\n",
    "    print(var)"
   ]
  },
  {
   "cell_type": "code",
   "execution_count": 106,
   "id": "73b69d82",
   "metadata": {},
   "outputs": [
    {
     "data": {
      "text/plain": [
       "2026854875376"
      ]
     },
     "execution_count": 106,
     "metadata": {},
     "output_type": "execute_result"
    }
   ],
   "source": [
    "id(num)"
   ]
  },
  {
   "cell_type": "code",
   "execution_count": 107,
   "id": "48dafb4b",
   "metadata": {
    "scrolled": true
   },
   "outputs": [
    {
     "name": "stdout",
     "output_type": "stream",
     "text": [
      "2\n"
     ]
    }
   ],
   "source": [
    "add(num)"
   ]
  },
  {
   "cell_type": "code",
   "execution_count": 109,
   "id": "9644bd9e",
   "metadata": {},
   "outputs": [
    {
     "data": {
      "text/plain": [
       "1"
      ]
     },
     "execution_count": 109,
     "metadata": {},
     "output_type": "execute_result"
    }
   ],
   "source": [
    "num"
   ]
  },
  {
   "cell_type": "code",
   "execution_count": 108,
   "id": "d5e4a73a",
   "metadata": {},
   "outputs": [
    {
     "data": {
      "text/plain": [
       "2026854875376"
      ]
     },
     "execution_count": 108,
     "metadata": {},
     "output_type": "execute_result"
    }
   ],
   "source": [
    "id(num)"
   ]
  },
  {
   "cell_type": "code",
   "execution_count": 100,
   "id": "1327d758",
   "metadata": {},
   "outputs": [],
   "source": [
    "y = [1,2,3]\n",
    "def change(var):\n",
    "    var[0] += 1\n",
    "    print(var)"
   ]
  },
  {
   "cell_type": "code",
   "execution_count": 101,
   "id": "1e5ac995",
   "metadata": {},
   "outputs": [
    {
     "data": {
      "text/plain": [
       "2026935473344"
      ]
     },
     "execution_count": 101,
     "metadata": {},
     "output_type": "execute_result"
    }
   ],
   "source": [
    "id(y)"
   ]
  },
  {
   "cell_type": "code",
   "execution_count": 102,
   "id": "dddaebc5",
   "metadata": {},
   "outputs": [
    {
     "name": "stdout",
     "output_type": "stream",
     "text": [
      "[2, 2, 3]\n"
     ]
    }
   ],
   "source": [
    "change(y)"
   ]
  },
  {
   "cell_type": "code",
   "execution_count": 103,
   "id": "c003ccc5",
   "metadata": {},
   "outputs": [
    {
     "data": {
      "text/plain": [
       "[2, 2, 3]"
      ]
     },
     "execution_count": 103,
     "metadata": {},
     "output_type": "execute_result"
    }
   ],
   "source": [
    "y"
   ]
  },
  {
   "cell_type": "code",
   "execution_count": 104,
   "id": "8f8ca100",
   "metadata": {},
   "outputs": [
    {
     "data": {
      "text/plain": [
       "2026935473344"
      ]
     },
     "execution_count": 104,
     "metadata": {},
     "output_type": "execute_result"
    }
   ],
   "source": [
    "id(y)"
   ]
  },
  {
   "cell_type": "markdown",
   "id": "54391cc5",
   "metadata": {},
   "source": [
    "Получается, что произошло неявное изменение глобальной переменной. Как лучше: добавить return var, и переопределить переменную "
   ]
  },
  {
   "cell_type": "markdown",
   "id": "671e3a40",
   "metadata": {},
   "source": [
    "### 3. Словари\n",
    "\n",
    "Позволяют хранить данные в формате ключ-значение. Изменяемые; неупорядоченные"
   ]
  },
  {
   "cell_type": "code",
   "execution_count": 111,
   "id": "188373d7",
   "metadata": {},
   "outputs": [],
   "source": [
    "empty_dict = {}\n",
    "empty_dict = dict()\n",
    "collections_map = {\n",
    "'mutable': ['list', 'set', 'dict'],\n",
    "'immutable': ['tuple', 'frozenset']\n",
    "}\n"
   ]
  },
  {
   "cell_type": "code",
   "execution_count": 112,
   "id": "6a415383",
   "metadata": {},
   "outputs": [
    {
     "name": "stdout",
     "output_type": "stream",
     "text": [
      "['tuple', 'frozenset']\n"
     ]
    }
   ],
   "source": [
    "print(collections_map['immutable'])"
   ]
  },
  {
   "cell_type": "code",
   "execution_count": 113,
   "id": "69b89148",
   "metadata": {},
   "outputs": [
    {
     "ename": "KeyError",
     "evalue": "'irresistible'",
     "output_type": "error",
     "traceback": [
      "\u001b[1;31m---------------------------------------------------------------------------\u001b[0m",
      "\u001b[1;31mKeyError\u001b[0m                                  Traceback (most recent call last)",
      "\u001b[1;32m~\\AppData\\Local\\Temp\\ipykernel_12640\\100508803.py\u001b[0m in \u001b[0;36m<cell line: 1>\u001b[1;34m()\u001b[0m\n\u001b[1;32m----> 1\u001b[1;33m \u001b[0mprint\u001b[0m\u001b[1;33m(\u001b[0m\u001b[0mcollections_map\u001b[0m\u001b[1;33m[\u001b[0m\u001b[1;34m'irresistible'\u001b[0m\u001b[1;33m]\u001b[0m\u001b[1;33m)\u001b[0m\u001b[1;33m\u001b[0m\u001b[1;33m\u001b[0m\u001b[0m\n\u001b[0m",
      "\u001b[1;31mKeyError\u001b[0m: 'irresistible'"
     ]
    }
   ],
   "source": [
    "print(collections_map['irresistible'])"
   ]
  },
  {
   "cell_type": "markdown",
   "id": "37ff4a03",
   "metadata": {},
   "source": [
    "часто бывает полезно попытаться достать значение по ключу из\n",
    "словаря, а в случае отсутствия ключа вернуть какое-то стандартное значение. Для этого\n",
    "есть встроенный метод get"
   ]
  },
  {
   "cell_type": "code",
   "execution_count": 114,
   "id": "5eafff7e",
   "metadata": {},
   "outputs": [
    {
     "name": "stdout",
     "output_type": "stream",
     "text": [
      "not found\n"
     ]
    }
   ],
   "source": [
    "print(collections_map.get('irresistible', 'not found'))"
   ]
  },
  {
   "cell_type": "markdown",
   "id": "936f5665",
   "metadata": {},
   "source": [
    "Проверка на вхождения ключа в словарь так же осуществляется за константное время\n",
    "и выполняется с помощью ключевого слова in:"
   ]
  },
  {
   "cell_type": "code",
   "execution_count": 115,
   "id": "c580f95a",
   "metadata": {},
   "outputs": [
    {
     "data": {
      "text/plain": [
       "True"
      ]
     },
     "execution_count": 115,
     "metadata": {},
     "output_type": "execute_result"
    }
   ],
   "source": [
    "'mutable' in collections_map"
   ]
  },
  {
   "cell_type": "markdown",
   "id": "7e953a6a",
   "metadata": {},
   "source": [
    "Словари, как и все коллекции, поддерживают протокол итерации. С помощью цикла\n",
    "for можно итерироваться по ключам словаря:\n"
   ]
  },
  {
   "cell_type": "code",
   "execution_count": 121,
   "id": "1f45dc03",
   "metadata": {},
   "outputs": [
    {
     "name": "stdout",
     "output_type": "stream",
     "text": [
      "{'mutable': ['list', 'set', 'dict'], 'immutable': ['tuple', 'frozenset']}\n",
      "mutable\n",
      "immutable\n"
     ]
    }
   ],
   "source": [
    "print(collections_map)\n",
    "for key in collections_map:\n",
    "    print(key)"
   ]
  },
  {
   "cell_type": "markdown",
   "id": "a5c907db",
   "metadata": {},
   "source": [
    "Если нам нужно итерироваться не по ключам, а по ключам и значениям сразу, можно\n",
    "использовать метод словаря items, который возвращает ключи и значения."
   ]
  },
  {
   "cell_type": "code",
   "execution_count": 122,
   "id": "c6979068",
   "metadata": {},
   "outputs": [
    {
     "name": "stdout",
     "output_type": "stream",
     "text": [
      "mutable — ['list', 'set', 'dict']\n",
      "immutable — ['tuple', 'frozenset']\n"
     ]
    }
   ],
   "source": [
    "for key, value in collections_map.items():\n",
    "    print('{} — {}'.format(key, value))\n"
   ]
  },
  {
   "cell_type": "markdown",
   "id": "ec4baf80",
   "metadata": {},
   "source": [
    "Если нужно итерироваться по значениям, используйте логично метод values, который\n",
    "возвращает именно значения. Также существует симметричный метод keys, который воз\u0002вращает итератор ключей.\n"
   ]
  },
  {
   "cell_type": "code",
   "execution_count": 124,
   "id": "57ed03ae",
   "metadata": {},
   "outputs": [
    {
     "name": "stdout",
     "output_type": "stream",
     "text": [
      "['list', 'set', 'dict']\n",
      "['tuple', 'frozenset']\n"
     ]
    }
   ],
   "source": [
    "for value in collections_map.values():\n",
    "    print(value)\n"
   ]
  },
  {
   "cell_type": "markdown",
   "id": "05ec78b1",
   "metadata": {},
   "source": [
    "**Упражнение**"
   ]
  },
  {
   "cell_type": "code",
   "execution_count": 15,
   "id": "aea5da6b",
   "metadata": {},
   "outputs": [
    {
     "data": {
      "text/plain": [
       "{'Россия': 'ru',\n",
       " 'Германия': 'de',\n",
       " 'Узбекистан': 'uz',\n",
       " 'Зимбабве': 'zw',\n",
       " 'Турция': 'tr'}"
      ]
     },
     "execution_count": 15,
     "metadata": {},
     "output_type": "execute_result"
    }
   ],
   "source": [
    "states = {'Россия': 'ru', 'Германия': 'de', 'Узбекистан': 'uz', 'Зимбабве': 'zw','Турция': 'tr'}\n",
    "states"
   ]
  },
  {
   "cell_type": "code",
   "execution_count": 16,
   "id": "e9d55f8a",
   "metadata": {},
   "outputs": [
    {
     "data": {
      "text/plain": [
       "{'uz': 'Ташкент', 'de': 'Мюнхен', 'zw': 'Harare', 'tr': 'Мармарис'}"
      ]
     },
     "execution_count": 16,
     "metadata": {},
     "output_type": "execute_result"
    }
   ],
   "source": [
    "cities = {'uz':'Ташкент', 'de':'Мюнхен', 'zw':'Harare','tr':'Мармарис'}\n",
    "cities"
   ]
  },
  {
   "cell_type": "code",
   "execution_count": 17,
   "id": "158c000e",
   "metadata": {},
   "outputs": [
    {
     "data": {
      "text/plain": [
       "{'uz': 'Ташкент',\n",
       " 'de': 'Мюнхен',\n",
       " 'zw': 'Harare',\n",
       " 'tr': 'Мармарис',\n",
       " 'ru': 'Таганрог'}"
      ]
     },
     "execution_count": 17,
     "metadata": {},
     "output_type": "execute_result"
    }
   ],
   "source": [
    "cities['ru'] = 'Таганрог'\n",
    "cities"
   ]
  },
  {
   "cell_type": "markdown",
   "id": "dc639a11",
   "metadata": {},
   "source": [
    "А теперь посмотрим, сколько есть различных способов обращаться к данным в словаре\n",
    "Вывод некоторых городов:"
   ]
  },
  {
   "cell_type": "code",
   "execution_count": 18,
   "id": "f0f3e281",
   "metadata": {},
   "outputs": [
    {
     "name": "stdout",
     "output_type": "stream",
     "text": [
      "В стране zw есть город  Harare\n",
      "В стране ru есть город  Таганрог\n"
     ]
    }
   ],
   "source": [
    "print('В стране zw есть город ', cities['zw'])\n",
    "print('В стране ru есть город ', cities['ru'])"
   ]
  },
  {
   "cell_type": "markdown",
   "id": "4107d5b5",
   "metadata": {},
   "source": [
    "Вывод некоторых стран:"
   ]
  },
  {
   "cell_type": "code",
   "execution_count": 19,
   "id": "f4bde0e6",
   "metadata": {},
   "outputs": [
    {
     "name": "stdout",
     "output_type": "stream",
     "text": [
      "Аббревиатура Турции  tr\n",
      "Аббревиатура Германии  de\n"
     ]
    }
   ],
   "source": [
    "print('Аббревиатура Турции ', states['Турция'])\n",
    "print('Аббревиатура Германии ', states['Германия'])"
   ]
  },
  {
   "cell_type": "markdown",
   "id": "e74aa627",
   "metadata": {},
   "source": [
    "Совместное использование двух словарей:"
   ]
  },
  {
   "cell_type": "code",
   "execution_count": 20,
   "id": "3127c367",
   "metadata": {},
   "outputs": [
    {
     "name": "stdout",
     "output_type": "stream",
     "text": [
      "В России есть город  Таганрог\n"
     ]
    }
   ],
   "source": [
    "print('В России есть город ', cities[states['Россия']])"
   ]
  },
  {
   "cell_type": "markdown",
   "id": "e656ab32",
   "metadata": {},
   "source": [
    "Вывести аббревиатуры все стран:"
   ]
  },
  {
   "cell_type": "code",
   "execution_count": 21,
   "id": "37e6cc1b",
   "metadata": {},
   "outputs": [
    {
     "name": "stdout",
     "output_type": "stream",
     "text": [
      "Россия имеет аббревиатуру ru\n",
      "Германия имеет аббревиатуру de\n",
      "Узбекистан имеет аббревиатуру uz\n",
      "Зимбабве имеет аббревиатуру zw\n",
      "Турция имеет аббревиатуру tr\n"
     ]
    }
   ],
   "source": [
    "for state, abbrev in list(states.items()):\n",
    "    print(f'{state} имеет аббревиатуру {abbrev}')\n"
   ]
  },
  {
   "cell_type": "markdown",
   "id": "510fe1df",
   "metadata": {},
   "source": [
    "Вывод всех городов в странах"
   ]
  },
  {
   "cell_type": "code",
   "execution_count": 23,
   "id": "570a4c15",
   "metadata": {},
   "outputs": [
    {
     "name": "stdout",
     "output_type": "stream",
     "text": [
      "В стране uz есть городу Ташкент\n",
      "И есть город Ташкент\n",
      "В стране de есть городу Мюнхен\n",
      "И есть город Мюнхен\n",
      "В стране zw есть городу Harare\n",
      "И есть город Harare\n",
      "В стране tr есть городу Мармарис\n",
      "И есть город Мармарис\n",
      "В стране ru есть городу Таганрог\n",
      "И есть город Таганрог\n"
     ]
    }
   ],
   "source": [
    "for abbrev, city in list(cities.items()):\n",
    "    print(f'В стране {abbrev} есть городу {city}')"
   ]
  },
  {
   "cell_type": "code",
   "execution_count": 24,
   "id": "b800f84a",
   "metadata": {},
   "outputs": [
    {
     "name": "stdout",
     "output_type": "stream",
     "text": [
      "В стране Россия используется аббревиатура ru\n",
      "И есть город Таганрог\n",
      "В стране Германия используется аббревиатура de\n",
      "И есть город Мюнхен\n",
      "В стране Узбекистан используется аббревиатура uz\n",
      "И есть город Ташкент\n",
      "В стране Зимбабве используется аббревиатура zw\n",
      "И есть город Harare\n",
      "В стране Турция используется аббревиатура tr\n",
      "И есть город Мармарис\n"
     ]
    }
   ],
   "source": [
    "for state, abbrev in list(states.items()):\n",
    "    print(f'В стране {state} используется аббревиатура {abbrev}')\n",
    "    print(f'И есть город {cities[abbrev]}')"
   ]
  },
  {
   "cell_type": "markdown",
   "id": "645ccb96",
   "metadata": {},
   "source": [
    "Безопасное получение аббревиатуры страны, даже если ее нет в словаре"
   ]
  },
  {
   "cell_type": "code",
   "execution_count": 27,
   "id": "f70e0fbe",
   "metadata": {},
   "outputs": [
    {
     "name": "stdout",
     "output_type": "stream",
     "text": [
      "None\n"
     ]
    }
   ],
   "source": [
    "var = 'США'\n",
    "state = states.get(var)\n",
    "print(state)\n"
   ]
  },
  {
   "cell_type": "code",
   "execution_count": 28,
   "id": "8bd19000",
   "metadata": {},
   "outputs": [
    {
     "name": "stdout",
     "output_type": "stream",
     "text": [
      "Простите, но США не существует...\n"
     ]
    }
   ],
   "source": [
    "if not state:\n",
    "    print(f'Простите, но {var} не существует...')"
   ]
  },
  {
   "cell_type": "markdown",
   "id": "eaf34020",
   "metadata": {},
   "source": [
    "Получение города со значением по умолчанию"
   ]
  },
  {
   "cell_type": "code",
   "execution_count": 31,
   "id": "2b8372a2",
   "metadata": {},
   "outputs": [
    {
     "name": "stdout",
     "output_type": "stream",
     "text": [
      "В стране \"US\" есть город не существует\n"
     ]
    }
   ],
   "source": [
    "city = cities.get('US','не существует')\n",
    "print(f'В стране \"US\" есть город {city}')"
   ]
  },
  {
   "cell_type": "markdown",
   "id": "79951776",
   "metadata": {},
   "source": [
    "Словари - неупорядоченный тип данных. Однако есть специальный тип OrderedDict ( содержится в модуле\n",
    "collections), который гарантирует вам, что ключи хранятся именно в том порядке, в каком вы их добавили в словарь."
   ]
  },
  {
   "cell_type": "code",
   "execution_count": 125,
   "id": "dd902419",
   "metadata": {},
   "outputs": [
    {
     "name": "stdout",
     "output_type": "stream",
     "text": [
      "0\n",
      "1\n",
      "2\n",
      "3\n",
      "4\n",
      "5\n",
      "6\n",
      "7\n",
      "8\n",
      "9\n"
     ]
    }
   ],
   "source": [
    "from collections import OrderedDict\n",
    "\n",
    "ordered = OrderedDict()\n",
    "\n",
    "for number in range(10):\n",
    "    ordered[number] = str(number)\n",
    "for key in ordered:\n",
    "    print(key)\n"
   ]
  },
  {
   "cell_type": "markdown",
   "id": "164aa4ae",
   "metadata": {},
   "source": [
    "## 4. Множества\n",
    "Множество в питоне — это неупорядоченный набор уникальных объектов. Множества изменяемы и чаще всего используются для удаления дубликатов и всевозможных проверок\n",
    "на вхождение.\n",
    "Чтобы объявить пустое множество, можно воспользоваться литералом set или использовать фигурные скобки, чтобы объявить множество и одновременно добавить туда\n",
    "какие-то элементы."
   ]
  },
  {
   "cell_type": "code",
   "execution_count": 126,
   "id": "0dac4685",
   "metadata": {},
   "outputs": [
    {
     "name": "stdout",
     "output_type": "stream",
     "text": [
      "{1, 2, 3, 4, 5}\n"
     ]
    }
   ],
   "source": [
    "empty_set = set()\n",
    "number_set = {1, 2, 3, 3, 4, 5}\n",
    "print(number_set)"
   ]
  },
  {
   "cell_type": "markdown",
   "id": "ce5753f5",
   "metadata": {},
   "source": [
    "Чтобы добавить элемент в множество, используется метод add. Также множества в\n",
    "Python поддерживают стандартные операции над множествами --- такие как объедине\u0002ние, разность, пересечение и симметрическая разность."
   ]
  },
  {
   "cell_type": "code",
   "execution_count": 127,
   "id": "628cf538",
   "metadata": {},
   "outputs": [
    {
     "name": "stdout",
     "output_type": "stream",
     "text": [
      "{1, 3, 5, 7, 9}\n",
      "{0, 2, 4, 6, 8}\n"
     ]
    }
   ],
   "source": [
    "odd_set = set()\n",
    "even_set = set()\n",
    "for number in range(10):\n",
    "    if number % 2:\n",
    "        odd_set.add(number)\n",
    "    else:\n",
    "        even_set.add(number)\n",
    "print(odd_set)\n",
    "print(even_set)"
   ]
  },
  {
   "cell_type": "markdown",
   "id": "35b643d2",
   "metadata": {},
   "source": [
    "Теперь найдём объединение и пересечение этих множеств:"
   ]
  },
  {
   "cell_type": "code",
   "execution_count": 130,
   "id": "c94ffe01",
   "metadata": {},
   "outputs": [
    {
     "name": "stdout",
     "output_type": "stream",
     "text": [
      "{0, 1, 2, 3, 4, 5, 6, 7, 8, 9}\n"
     ]
    }
   ],
   "source": [
    "union_set = odd_set | even_set\n",
    "print(union_set)"
   ]
  },
  {
   "cell_type": "code",
   "execution_count": 132,
   "id": "7a997f0c",
   "metadata": {},
   "outputs": [
    {
     "data": {
      "text/plain": [
       "set()"
      ]
     },
     "execution_count": 132,
     "metadata": {},
     "output_type": "execute_result"
    }
   ],
   "source": [
    "general_set = odd_set & even_set\n",
    "general_set"
   ]
  },
  {
   "cell_type": "code",
   "execution_count": 133,
   "id": "a35d4ae4",
   "metadata": {},
   "outputs": [
    {
     "data": {
      "text/plain": [
       "{1, 3, 5, 7, 9}"
      ]
     },
     "execution_count": 133,
     "metadata": {},
     "output_type": "execute_result"
    }
   ],
   "source": [
    "difference_set = odd_set - even_set\n",
    "difference_set"
   ]
  },
  {
   "cell_type": "code",
   "execution_count": 134,
   "id": "1343048e",
   "metadata": {},
   "outputs": [
    {
     "name": "stdout",
     "output_type": "stream",
     "text": [
      "{0, 4, 6, 8}\n"
     ]
    }
   ],
   "source": [
    "even_set.remove(2)\n",
    "print(even_set)"
   ]
  },
  {
   "cell_type": "code",
   "execution_count": 135,
   "id": "1e184939",
   "metadata": {},
   "outputs": [
    {
     "data": {
      "text/plain": [
       "['__and__',\n",
       " '__class__',\n",
       " '__class_getitem__',\n",
       " '__contains__',\n",
       " '__delattr__',\n",
       " '__dir__',\n",
       " '__doc__',\n",
       " '__eq__',\n",
       " '__format__',\n",
       " '__ge__',\n",
       " '__getattribute__',\n",
       " '__gt__',\n",
       " '__hash__',\n",
       " '__iand__',\n",
       " '__init__',\n",
       " '__init_subclass__',\n",
       " '__ior__',\n",
       " '__isub__',\n",
       " '__iter__',\n",
       " '__ixor__',\n",
       " '__le__',\n",
       " '__len__',\n",
       " '__lt__',\n",
       " '__ne__',\n",
       " '__new__',\n",
       " '__or__',\n",
       " '__rand__',\n",
       " '__reduce__',\n",
       " '__reduce_ex__',\n",
       " '__repr__',\n",
       " '__ror__',\n",
       " '__rsub__',\n",
       " '__rxor__',\n",
       " '__setattr__',\n",
       " '__sizeof__',\n",
       " '__str__',\n",
       " '__sub__',\n",
       " '__subclasshook__',\n",
       " '__xor__',\n",
       " 'add',\n",
       " 'clear',\n",
       " 'copy',\n",
       " 'difference',\n",
       " 'difference_update',\n",
       " 'discard',\n",
       " 'intersection',\n",
       " 'intersection_update',\n",
       " 'isdisjoint',\n",
       " 'issubset',\n",
       " 'issuperset',\n",
       " 'pop',\n",
       " 'remove',\n",
       " 'symmetric_difference',\n",
       " 'symmetric_difference_update',\n",
       " 'union',\n",
       " 'update']"
      ]
     },
     "execution_count": 135,
     "metadata": {},
     "output_type": "execute_result"
    }
   ],
   "source": [
    "dir(set)"
   ]
  },
  {
   "cell_type": "code",
   "execution_count": 138,
   "id": "9fb7e541",
   "metadata": {},
   "outputs": [
    {
     "data": {
      "text/plain": [
       "{0, 2, 4, 6, 8}"
      ]
     },
     "execution_count": 138,
     "metadata": {},
     "output_type": "execute_result"
    }
   ],
   "source": [
    "even_set.add(2)\n",
    "even_set"
   ]
  },
  {
   "cell_type": "markdown",
   "id": "68763b59",
   "metadata": {},
   "source": [
    "Также в питоне существует неизменяемый аналог типа set --- тип frozenset."
   ]
  },
  {
   "cell_type": "code",
   "execution_count": 139,
   "id": "545d25ec",
   "metadata": {},
   "outputs": [
    {
     "data": {
      "text/plain": [
       "['__and__',\n",
       " '__class__',\n",
       " '__class_getitem__',\n",
       " '__contains__',\n",
       " '__delattr__',\n",
       " '__dir__',\n",
       " '__doc__',\n",
       " '__eq__',\n",
       " '__format__',\n",
       " '__ge__',\n",
       " '__getattribute__',\n",
       " '__gt__',\n",
       " '__hash__',\n",
       " '__init__',\n",
       " '__init_subclass__',\n",
       " '__iter__',\n",
       " '__le__',\n",
       " '__len__',\n",
       " '__lt__',\n",
       " '__ne__',\n",
       " '__new__',\n",
       " '__or__',\n",
       " '__rand__',\n",
       " '__reduce__',\n",
       " '__reduce_ex__',\n",
       " '__repr__',\n",
       " '__ror__',\n",
       " '__rsub__',\n",
       " '__rxor__',\n",
       " '__setattr__',\n",
       " '__sizeof__',\n",
       " '__str__',\n",
       " '__sub__',\n",
       " '__subclasshook__',\n",
       " '__xor__',\n",
       " 'copy',\n",
       " 'difference',\n",
       " 'intersection',\n",
       " 'isdisjoint',\n",
       " 'issubset',\n",
       " 'issuperset',\n",
       " 'symmetric_difference',\n",
       " 'union']"
      ]
     },
     "execution_count": 139,
     "metadata": {},
     "output_type": "execute_result"
    }
   ],
   "source": [
    "dir(frozenset)"
   ]
  },
  {
   "cell_type": "markdown",
   "id": "5f5a2e08",
   "metadata": {},
   "source": [
    "## Самостоятельно"
   ]
  },
  {
   "cell_type": "markdown",
   "id": "cd0daca3",
   "metadata": {},
   "source": [
    "Дана строка с некоторым текстом. \n",
    "\n",
    "Требуется создать словарь, который в качестве ключей будет принимать буквы, а в качестве значений – количество этих букв в тексте. Для построения словаря создайте функцию count_it(sequence), принимающую строку с текстом. Функция должна возвратить словарь из 3-х самых часто встречаемых букв."
   ]
  },
  {
   "cell_type": "code",
   "execution_count": 35,
   "id": "629fad72",
   "metadata": {
    "scrolled": true
   },
   "outputs": [
    {
     "name": "stdout",
     "output_type": "stream",
     "text": [
      "{'р': 5, 'в': 6, 'а': 7}\n",
      "{'п': 5, 'р': 7, 'а': 8}\n",
      "{'f': 4, 'j': 4, 'g': 5}\n"
     ]
    }
   ],
   "source": [
    "# Решение\n",
    "def count_it(sequence):\n",
    "    # При помощи генератора создаем словарь, где ключом выступает уникальный элемент строки, а значением - его частота (вычисляется методом count()) \t\n",
    "    num_frequency = {item: sequence.count(item) for item in sequence}\n",
    "\n",
    "    # Сортируем словарь по значениям в порядке возрастания. Для этого методом items() формируем пары “(ключ, значение)” в виде кортежей по всем элементам словаря. Т. к. нужно сортировать по значениям, берем второй элемент кортежей. В результате получим список из кортежей “(ключ, значение)”\n",
    "    sorted_num_frequency = sorted(num_frequency.items(), key=lambda element: element[1])\n",
    "\n",
    "    # Возвращаем последние 3 элемента списка, т. е. кортежи с самыми большими значениями второй компоненты, которые преобразовываем в словарь \n",
    "    return dict(sorted_num_frequency[-3:])\n",
    "\n",
    "# Тесты\n",
    "print(count_it('фывралвралофравврапыорпаоывпаовпа'))\n",
    "print(count_it('ывфравдыарыолрафдлваылвпаврпарпаорпаорп'))\n",
    "print(count_it('dfgjgjhgdjfgjfgfsd'))"
   ]
  },
  {
   "cell_type": "markdown",
   "id": "18faa9b1",
   "metadata": {},
   "source": [
    "## Выводы\n",
    "\n",
    "\n"
   ]
  },
  {
   "cell_type": "markdown",
   "id": "917fd5e2",
   "metadata": {},
   "source": [
    "Справка по рассмотренным темам: https://docs.python.org/3/tutorial/datastructures.html"
   ]
  }
 ],
 "metadata": {
  "kernelspec": {
   "display_name": "Python 3 (ipykernel)",
   "language": "python",
   "name": "python3"
  },
  "language_info": {
   "codemirror_mode": {
    "name": "ipython",
    "version": 3
   },
   "file_extension": ".py",
   "mimetype": "text/x-python",
   "name": "python",
   "nbconvert_exporter": "python",
   "pygments_lexer": "ipython3",
   "version": "3.10.7"
  }
 },
 "nbformat": 4,
 "nbformat_minor": 5
}
