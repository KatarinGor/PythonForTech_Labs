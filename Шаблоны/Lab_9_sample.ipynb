{
 "cells": [
  {
   "cell_type": "markdown",
   "id": "e7a96167",
   "metadata": {},
   "source": [
    "# Практическая работа № 9\n",
    "## Структуры данных библиотеки Pandas"
   ]
  },
  {
   "cell_type": "markdown",
   "id": "3e198cd6",
   "metadata": {},
   "source": [
    "Pandas - надстройка над библиотекой NumPy, обеспечивающая эффективныу реализацию класса DataFrame. Это многомерные массивы с метками для строк и столбцов, а также зачастую с неоднородными данными и/или пропусками в данных. Помимо интерфейса для хранения маркированных данных, эта библиотека реализует еще целый ряд полезных для работы с данными операций \n",
    "\n",
    "Если вы (как я) пользуетесь дистрибутивом Anaconda, Pandas у вас уже есть и готова к работе. Если вы из любителей напрягаться и все делать руками,\n",
    "\n",
    "pip install pandas\n",
    "\n",
    "вам в помощь."
   ]
  },
  {
   "cell_type": "code",
   "execution_count": null,
   "id": "07b4e7ed",
   "metadata": {},
   "outputs": [],
   "source": []
  },
  {
   "cell_type": "markdown",
   "id": "5a397887",
   "metadata": {},
   "source": [
    "Существует 3 фундаментальных структуры данных библиотеки Pandas:\n",
    "- Series\n",
    "- DataFrame\n",
    "- Index"
   ]
  },
  {
   "cell_type": "markdown",
   "id": "ecdbfb17",
   "metadata": {},
   "source": [
    "### 1. Series"
   ]
  },
  {
   "cell_type": "markdown",
   "id": "6bbba9bd",
   "metadata": {},
   "source": [
    "Объект Series - одномерный массив индексированных данных"
   ]
  },
  {
   "cell_type": "code",
   "execution_count": null,
   "id": "6a5f714d",
   "metadata": {},
   "outputs": [],
   "source": []
  },
  {
   "cell_type": "markdown",
   "id": "55adcc39",
   "metadata": {},
   "source": [
    "У него есть два атрибута: values и index"
   ]
  },
  {
   "cell_type": "code",
   "execution_count": null,
   "id": "82994ea8",
   "metadata": {},
   "outputs": [],
   "source": []
  },
  {
   "cell_type": "code",
   "execution_count": null,
   "id": "edec502b",
   "metadata": {},
   "outputs": [],
   "source": []
  },
  {
   "cell_type": "code",
   "execution_count": null,
   "id": "d9a91a3b",
   "metadata": {},
   "outputs": [],
   "source": []
  },
  {
   "cell_type": "code",
   "execution_count": null,
   "id": "9581ac07",
   "metadata": {},
   "outputs": [],
   "source": []
  },
  {
   "cell_type": "code",
   "execution_count": null,
   "id": "121c4b93",
   "metadata": {},
   "outputs": [],
   "source": []
  },
  {
   "cell_type": "markdown",
   "id": "e594b9c2",
   "metadata": {},
   "source": [
    "Обращение по индексу работает, так же, как для списков или np-массивов"
   ]
  },
  {
   "cell_type": "code",
   "execution_count": null,
   "id": "cb4aace5",
   "metadata": {},
   "outputs": [],
   "source": []
  },
  {
   "cell_type": "code",
   "execution_count": null,
   "id": "4525111d",
   "metadata": {},
   "outputs": [],
   "source": []
  },
  {
   "cell_type": "markdown",
   "id": "c7e8d94f",
   "metadata": {},
   "source": [
    "В чем тогда отличие Series от одномерного массива NumPy? В индексе. Здась он *описывается явно* и связывается со значением. Это значит, что индекс необязательно должен быть целым числом. Или вообще числом."
   ]
  },
  {
   "cell_type": "code",
   "execution_count": null,
   "id": "e830cf2c",
   "metadata": {},
   "outputs": [],
   "source": []
  },
  {
   "cell_type": "code",
   "execution_count": null,
   "id": "f1c13c80",
   "metadata": {},
   "outputs": [],
   "source": []
  },
  {
   "cell_type": "code",
   "execution_count": null,
   "id": "c0beb8da",
   "metadata": {},
   "outputs": [],
   "source": []
  },
  {
   "cell_type": "markdown",
   "id": "31d599c4",
   "metadata": {},
   "source": [
    "Больше похоже на словарь, правда?"
   ]
  },
  {
   "cell_type": "code",
   "execution_count": null,
   "id": "3cd6c9cb",
   "metadata": {},
   "outputs": [],
   "source": []
  },
  {
   "cell_type": "code",
   "execution_count": null,
   "id": "9d6fc8c5",
   "metadata": {},
   "outputs": [],
   "source": []
  },
  {
   "cell_type": "markdown",
   "id": "5f2bb82c",
   "metadata": {},
   "source": [
    "Словарь - структура, задающая соответствие произвольных ключей набору произвольных значений. Series - структура, задающая соответствие типизированных ключей набору типизированных значений.\n",
    "\n",
    "Несоответствие типов не приведет к выбросу исключения, но сделает код менее эффективным (как думаете, почему?)"
   ]
  },
  {
   "cell_type": "markdown",
   "id": "cba6fc04",
   "metadata": {},
   "source": [
    "При том, что интерфейс Series похож на словарь, он предоставляет возможность выборки элементов при помощи тех же базовых механизмов, что и массивы Numpy "
   ]
  },
  {
   "cell_type": "code",
   "execution_count": null,
   "id": "7d1173d9",
   "metadata": {},
   "outputs": [],
   "source": []
  },
  {
   "cell_type": "code",
   "execution_count": null,
   "id": "f606f9dd",
   "metadata": {},
   "outputs": [],
   "source": []
  },
  {
   "cell_type": "code",
   "execution_count": null,
   "id": "f636d7aa",
   "metadata": {},
   "outputs": [],
   "source": []
  },
  {
   "cell_type": "code",
   "execution_count": null,
   "id": "f3fadabf",
   "metadata": {},
   "outputs": [],
   "source": []
  },
  {
   "cell_type": "code",
   "execution_count": null,
   "id": "236f0a3e",
   "metadata": {},
   "outputs": [],
   "source": []
  },
  {
   "cell_type": "markdown",
   "id": "6d11ae97",
   "metadata": {},
   "source": [
    "При этом, в отличие от словарей, pd.Series поддерживают срезы"
   ]
  },
  {
   "cell_type": "code",
   "execution_count": null,
   "id": "5cda8d0b",
   "metadata": {},
   "outputs": [],
   "source": []
  },
  {
   "cell_type": "code",
   "execution_count": null,
   "id": "ee5a4845",
   "metadata": {},
   "outputs": [],
   "source": []
  },
  {
   "cell_type": "code",
   "execution_count": null,
   "id": "d075bc1b",
   "metadata": {},
   "outputs": [],
   "source": []
  },
  {
   "cell_type": "markdown",
   "id": "64680b63",
   "metadata": {},
   "source": [
    "Явная индексация - чрезвычайно гибкая вещь. По умолчанию это целочисленная последовательность. Если хотим чего-то другого, просто указываем индексы в явном виде."
   ]
  },
  {
   "cell_type": "code",
   "execution_count": null,
   "id": "f5c58bc2",
   "metadata": {},
   "outputs": [],
   "source": []
  },
  {
   "cell_type": "code",
   "execution_count": null,
   "id": "3b5cb47a",
   "metadata": {},
   "outputs": [],
   "source": []
  },
  {
   "cell_type": "markdown",
   "id": "f8a85469",
   "metadata": {},
   "source": [
    "#### Самостоятельно\n",
    "\n",
    "- Создайте объект Series, который будет содержать данные только об атмосферном давлении и высоте полета\n",
    "- Постройте графики этих двух величин, зная, что атмосферное давление должно быть в пределах 76 - 77.5 кПа. \n"
   ]
  },
  {
   "cell_type": "code",
   "execution_count": null,
   "id": "31219120",
   "metadata": {},
   "outputs": [],
   "source": []
  },
  {
   "cell_type": "code",
   "execution_count": null,
   "id": "cf3447de",
   "metadata": {},
   "outputs": [],
   "source": []
  },
  {
   "cell_type": "markdown",
   "id": "df376bd3",
   "metadata": {},
   "source": [
    "## 2. DataFrame"
   ]
  },
  {
   "cell_type": "markdown",
   "id": "d02f2499",
   "metadata": {},
   "source": [
    "Аналог двумерного массива с гибкими индексами строк и гибкими именами столбцов. Можно рассматривать как обобщенный массив NumPy, или как спецализированную версию словаря.\n",
    "\n",
    "Фактически, это упорядоченная последовательность выровненных объектов Series (\"выровненных\" в том смысле, что у них один и тот же индекс)"
   ]
  },
  {
   "cell_type": "code",
   "execution_count": null,
   "id": "b6b5050f",
   "metadata": {},
   "outputs": [],
   "source": []
  },
  {
   "cell_type": "code",
   "execution_count": null,
   "id": "3ebe8c88",
   "metadata": {},
   "outputs": [],
   "source": []
  },
  {
   "cell_type": "code",
   "execution_count": null,
   "id": "49cda204",
   "metadata": {},
   "outputs": [],
   "source": []
  },
  {
   "cell_type": "code",
   "execution_count": null,
   "id": "2c1e27de",
   "metadata": {},
   "outputs": [],
   "source": []
  },
  {
   "cell_type": "code",
   "execution_count": null,
   "id": "7950ba7d",
   "metadata": {},
   "outputs": [],
   "source": []
  },
  {
   "cell_type": "code",
   "execution_count": null,
   "id": "0a73adfc",
   "metadata": {},
   "outputs": [],
   "source": []
  },
  {
   "cell_type": "code",
   "execution_count": null,
   "id": "2a27d559",
   "metadata": {},
   "outputs": [],
   "source": []
  },
  {
   "cell_type": "code",
   "execution_count": null,
   "id": "4bdfed43",
   "metadata": {},
   "outputs": [],
   "source": []
  },
  {
   "cell_type": "code",
   "execution_count": null,
   "id": "e7022897",
   "metadata": {},
   "outputs": [],
   "source": []
  },
  {
   "cell_type": "code",
   "execution_count": null,
   "id": "af1ae867",
   "metadata": {},
   "outputs": [],
   "source": []
  },
  {
   "cell_type": "code",
   "execution_count": null,
   "id": "0476e460",
   "metadata": {},
   "outputs": [],
   "source": []
  },
  {
   "cell_type": "code",
   "execution_count": null,
   "id": "c651d944",
   "metadata": {},
   "outputs": [],
   "source": []
  },
  {
   "cell_type": "code",
   "execution_count": null,
   "id": "b6a06935",
   "metadata": {},
   "outputs": [],
   "source": []
  },
  {
   "cell_type": "markdown",
   "id": "66820418",
   "metadata": {},
   "source": [
    "Индексаторы\n",
    "\n",
    "loc\n",
    "iloc"
   ]
  },
  {
   "cell_type": "code",
   "execution_count": null,
   "id": "993e7074",
   "metadata": {},
   "outputs": [],
   "source": []
  },
  {
   "cell_type": "code",
   "execution_count": null,
   "id": "92b9e463",
   "metadata": {},
   "outputs": [],
   "source": []
  },
  {
   "cell_type": "code",
   "execution_count": null,
   "id": "c9492107",
   "metadata": {},
   "outputs": [],
   "source": []
  },
  {
   "cell_type": "code",
   "execution_count": null,
   "id": "c4b6b524",
   "metadata": {},
   "outputs": [],
   "source": []
  },
  {
   "cell_type": "code",
   "execution_count": null,
   "id": "8c1cf346",
   "metadata": {},
   "outputs": [],
   "source": []
  },
  {
   "cell_type": "code",
   "execution_count": null,
   "id": "41d92a90",
   "metadata": {},
   "outputs": [],
   "source": []
  },
  {
   "cell_type": "code",
   "execution_count": null,
   "id": "a495179d",
   "metadata": {},
   "outputs": [],
   "source": []
  },
  {
   "cell_type": "code",
   "execution_count": null,
   "id": "d8f8ec6c",
   "metadata": {},
   "outputs": [],
   "source": []
  },
  {
   "cell_type": "code",
   "execution_count": null,
   "id": "64aa5213",
   "metadata": {},
   "outputs": [],
   "source": []
  },
  {
   "cell_type": "code",
   "execution_count": null,
   "id": "72419173",
   "metadata": {},
   "outputs": [],
   "source": []
  },
  {
   "cell_type": "code",
   "execution_count": null,
   "id": "6659271a",
   "metadata": {},
   "outputs": [],
   "source": []
  },
  {
   "cell_type": "markdown",
   "id": "eca11e60",
   "metadata": {},
   "source": [
    "### 3. Index"
   ]
  },
  {
   "cell_type": "markdown",
   "id": "eb27e89a",
   "metadata": {},
   "source": [
    "Объект Index в Pandas обеспечивает возможность в явном виде ссылаться на данные и модифицировать их. Его можно рассматривать или как неизменяемый массив, или как упорядоченное множество, из чего следуют некоторые любопытные возможности операций над ним."
   ]
  },
  {
   "cell_type": "code",
   "execution_count": null,
   "id": "aad1d240",
   "metadata": {},
   "outputs": [],
   "source": []
  },
  {
   "cell_type": "code",
   "execution_count": null,
   "id": "e0209a33",
   "metadata": {},
   "outputs": [],
   "source": []
  },
  {
   "cell_type": "code",
   "execution_count": null,
   "id": "123ae23c",
   "metadata": {},
   "outputs": [],
   "source": []
  },
  {
   "cell_type": "code",
   "execution_count": null,
   "id": "5fbffdce",
   "metadata": {},
   "outputs": [],
   "source": []
  },
  {
   "cell_type": "markdown",
   "id": "8e6b5911",
   "metadata": {},
   "source": [
    "Объекты Pandas проектировались с прицелом на упрощение таких операций, как соединение наборов данных, зависящее от многих аспектов метрики множеств. Index поддерживает большинство операций, свойственных для типа set"
   ]
  },
  {
   "cell_type": "code",
   "execution_count": null,
   "id": "5f63d212",
   "metadata": {},
   "outputs": [],
   "source": []
  },
  {
   "cell_type": "code",
   "execution_count": null,
   "id": "ee21c2bc",
   "metadata": {},
   "outputs": [],
   "source": []
  },
  {
   "cell_type": "code",
   "execution_count": null,
   "id": "fe79a7cd",
   "metadata": {},
   "outputs": [],
   "source": []
  },
  {
   "cell_type": "code",
   "execution_count": null,
   "id": "a729aad5",
   "metadata": {},
   "outputs": [],
   "source": []
  },
  {
   "cell_type": "code",
   "execution_count": null,
   "id": "7eef8492",
   "metadata": {},
   "outputs": [],
   "source": []
  },
  {
   "cell_type": "code",
   "execution_count": null,
   "id": "234dd88a",
   "metadata": {},
   "outputs": [],
   "source": []
  },
  {
   "cell_type": "code",
   "execution_count": null,
   "id": "a601e58a",
   "metadata": {},
   "outputs": [],
   "source": []
  },
  {
   "cell_type": "markdown",
   "id": "aeb3f7d1",
   "metadata": {},
   "source": [
    "### Самостоятельно\n",
    "\n",
    "Создайте DataFrame, который будет содержать автора, название и жанр нескольких ваших любимых книг.\n"
   ]
  },
  {
   "cell_type": "markdown",
   "id": "d57c5a01",
   "metadata": {},
   "source": [
    "## Выводы"
   ]
  },
  {
   "cell_type": "code",
   "execution_count": null,
   "id": "fa7abfc4",
   "metadata": {},
   "outputs": [],
   "source": []
  }
 ],
 "metadata": {
  "kernelspec": {
   "display_name": "Python 3 (ipykernel)",
   "language": "python",
   "name": "python3"
  },
  "language_info": {
   "codemirror_mode": {
    "name": "ipython",
    "version": 3
   },
   "file_extension": ".py",
   "mimetype": "text/x-python",
   "name": "python",
   "nbconvert_exporter": "python",
   "pygments_lexer": "ipython3",
   "version": "3.9.12"
  }
 },
 "nbformat": 4,
 "nbformat_minor": 5
}
