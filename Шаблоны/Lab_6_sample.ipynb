{
 "cells": [
  {
   "cell_type": "markdown",
   "id": "b8dd3231",
   "metadata": {},
   "source": [
    "# Практическая работа № 6\n",
    "\n"
   ]
  },
  {
   "cell_type": "markdown",
   "id": "f2b5404f",
   "metadata": {},
   "source": [
    "# Знакомство с NumPy"
   ]
  },
  {
   "cell_type": "markdown",
   "id": "80ff82b7",
   "metadata": {},
   "source": [
    "Сокр. Numerical Python - специализированный инструмент языка Python для обработки больших числовых массивов. Массивы NumPy походжи на тип list, но обеспечивают более эффективное хранение и операции с данными. Разница тем ощутимее, чем больше массив."
   ]
  },
  {
   "cell_type": "markdown",
   "id": "43d61752",
   "metadata": {},
   "source": [
    "За счет чего это происходит? Мы знаем, что стандартная реализация Python написана на C, то есть каждый объект Python - это ловко замаскированная конструкция на языке C, содержащая не только значение, но и другую информацию. Например, целое число в Python, это не только само значение, а указатель на структуру с несколькими полями. Т.е. если на C целое число - это ярлык для места в памяти, байты которого кодируют целочисленное значение, то в Python - это указатель на место в памяти, где хранится не только само целочисленное значение, но и информация об объекте int языка Python. Это плата за динамическую типизацию. Если собрать данные в список, каждый элемент будет, помимо значения, содержать еще некоторое количество метаданных о типе, счетчик ссылок и др. Если список однороден, эта информация избыточна. Т.е. главное отличие массива NumPy от списка в том, что он содержит один указатель на непрерывный блок данных."
   ]
  },
  {
   "cell_type": "markdown",
   "id": "450c82fe",
   "metadata": {},
   "source": [
    "### Массивы"
   ]
  },
  {
   "cell_type": "code",
   "execution_count": null,
   "id": "91b64486",
   "metadata": {},
   "outputs": [],
   "source": []
  },
  {
   "cell_type": "code",
   "execution_count": null,
   "id": "1bc57ff4",
   "metadata": {},
   "outputs": [],
   "source": []
  },
  {
   "cell_type": "code",
   "execution_count": null,
   "id": "a05d08c5",
   "metadata": {},
   "outputs": [],
   "source": []
  },
  {
   "cell_type": "markdown",
   "id": "bbb76d82",
   "metadata": {},
   "source": [
    "Можно задать тип данных явно:"
   ]
  },
  {
   "cell_type": "code",
   "execution_count": null,
   "id": "c7a2f757",
   "metadata": {},
   "outputs": [],
   "source": []
  },
  {
   "cell_type": "markdown",
   "id": "9551f405",
   "metadata": {},
   "source": [
    "Массивы NumPy могут быть многомерными:"
   ]
  },
  {
   "cell_type": "code",
   "execution_count": null,
   "id": "72ef336d",
   "metadata": {},
   "outputs": [],
   "source": []
  },
  {
   "cell_type": "markdown",
   "id": "e9a7fdf5",
   "metadata": {},
   "source": [
    "Вложенные списки тут рассматриваются как строки"
   ]
  },
  {
   "cell_type": "markdown",
   "id": "16d79e81",
   "metadata": {},
   "source": [
    "Сгенерируем еще несколько массивов"
   ]
  },
  {
   "cell_type": "code",
   "execution_count": null,
   "id": "4ed30025",
   "metadata": {},
   "outputs": [],
   "source": []
  },
  {
   "cell_type": "code",
   "execution_count": null,
   "id": "a43cc5b1",
   "metadata": {},
   "outputs": [],
   "source": []
  },
  {
   "cell_type": "code",
   "execution_count": null,
   "id": "540e46ae",
   "metadata": {},
   "outputs": [],
   "source": []
  },
  {
   "cell_type": "code",
   "execution_count": null,
   "id": "9fd84ad8",
   "metadata": {},
   "outputs": [],
   "source": []
  },
  {
   "cell_type": "code",
   "execution_count": null,
   "id": "c87bf12d",
   "metadata": {},
   "outputs": [],
   "source": []
  },
  {
   "cell_type": "code",
   "execution_count": null,
   "id": "a2f62907",
   "metadata": {},
   "outputs": [],
   "source": []
  },
  {
   "cell_type": "code",
   "execution_count": null,
   "id": "28584a9a",
   "metadata": {},
   "outputs": [],
   "source": []
  },
  {
   "cell_type": "code",
   "execution_count": null,
   "id": "c59cd5ab",
   "metadata": {},
   "outputs": [],
   "source": []
  },
  {
   "cell_type": "code",
   "execution_count": null,
   "id": "cd237b4c",
   "metadata": {},
   "outputs": [],
   "source": []
  },
  {
   "cell_type": "code",
   "execution_count": null,
   "id": "679362df",
   "metadata": {},
   "outputs": [],
   "source": []
  },
  {
   "cell_type": "markdown",
   "id": "f2a04b23",
   "metadata": {},
   "source": [
    "Еще можно создать неинициированный массив, просто для выделения памяти. Значения в нем будут произвольные, случайно оказавшиеся в соответствующих ячейках памяти"
   ]
  },
  {
   "cell_type": "code",
   "execution_count": null,
   "id": "74c744dd",
   "metadata": {
    "scrolled": true
   },
   "outputs": [],
   "source": []
  },
  {
   "cell_type": "markdown",
   "id": "22d794b0",
   "metadata": {},
   "source": [
    "Рассмотрим несколько категорий простых операций с массивами:\n",
    "\n",
    "- атрибуты массивов\n",
    "- индексация массивов\n",
    "- срезы массивов\n",
    "- изменение формы массивов\n",
    "- слияние и разбиение массивов"
   ]
  },
  {
   "cell_type": "markdown",
   "id": "7d0e1c71",
   "metadata": {},
   "source": [
    "### Атрибуты"
   ]
  },
  {
   "cell_type": "code",
   "execution_count": null,
   "id": "b739dda7",
   "metadata": {},
   "outputs": [],
   "source": []
  },
  {
   "cell_type": "code",
   "execution_count": null,
   "id": "72e99d91",
   "metadata": {},
   "outputs": [],
   "source": []
  },
  {
   "cell_type": "code",
   "execution_count": null,
   "id": "280add33",
   "metadata": {},
   "outputs": [],
   "source": []
  },
  {
   "cell_type": "code",
   "execution_count": null,
   "id": "74a01db8",
   "metadata": {},
   "outputs": [],
   "source": []
  },
  {
   "cell_type": "code",
   "execution_count": null,
   "id": "341c14e8",
   "metadata": {},
   "outputs": [],
   "source": []
  },
  {
   "cell_type": "code",
   "execution_count": null,
   "id": "fcde5546",
   "metadata": {},
   "outputs": [],
   "source": []
  },
  {
   "cell_type": "code",
   "execution_count": null,
   "id": "ec5cf929",
   "metadata": {},
   "outputs": [],
   "source": []
  },
  {
   "cell_type": "markdown",
   "id": "3e2c72ed",
   "metadata": {},
   "source": [
    "### Индексация"
   ]
  },
  {
   "cell_type": "code",
   "execution_count": null,
   "id": "cac57359",
   "metadata": {},
   "outputs": [],
   "source": []
  },
  {
   "cell_type": "code",
   "execution_count": null,
   "id": "a51c35fa",
   "metadata": {},
   "outputs": [],
   "source": []
  },
  {
   "cell_type": "markdown",
   "id": "ec12f1ea",
   "metadata": {},
   "source": [
    "### Срезы"
   ]
  },
  {
   "cell_type": "code",
   "execution_count": null,
   "id": "f1d74355",
   "metadata": {},
   "outputs": [],
   "source": []
  },
  {
   "cell_type": "markdown",
   "id": "bb0e647d",
   "metadata": {},
   "source": [
    "Для одномерных массивов срезы работают так же, как для списков.\n",
    "\n",
    "**Самостоятельно**\n",
    "- первые 5 элементов\n",
    "- элементы после индекса 5\n",
    "- каждый второй элемент\n",
    "- каждый второй элемент, начиная с индекса 2\n",
    "- все элементы в обратном порядке\n",
    "- каждый второй элемент в обратном порядке"
   ]
  },
  {
   "cell_type": "code",
   "execution_count": null,
   "id": "905b1273",
   "metadata": {},
   "outputs": [],
   "source": []
  },
  {
   "cell_type": "code",
   "execution_count": null,
   "id": "48d1f097",
   "metadata": {},
   "outputs": [],
   "source": []
  },
  {
   "cell_type": "code",
   "execution_count": null,
   "id": "8d83eca9",
   "metadata": {},
   "outputs": [],
   "source": []
  },
  {
   "cell_type": "code",
   "execution_count": null,
   "id": "86a67d4e",
   "metadata": {},
   "outputs": [],
   "source": []
  },
  {
   "cell_type": "code",
   "execution_count": null,
   "id": "d449f3d4",
   "metadata": {},
   "outputs": [],
   "source": []
  },
  {
   "cell_type": "code",
   "execution_count": null,
   "id": "92e5f938",
   "metadata": {},
   "outputs": [],
   "source": []
  },
  {
   "cell_type": "markdown",
   "id": "fd906c81",
   "metadata": {},
   "source": [
    "Для многомерных массивов все работает похожим образом, срезы разделяются запятыми"
   ]
  },
  {
   "cell_type": "code",
   "execution_count": null,
   "id": "280c774a",
   "metadata": {},
   "outputs": [],
   "source": []
  },
  {
   "cell_type": "code",
   "execution_count": null,
   "id": "71b053a4",
   "metadata": {},
   "outputs": [],
   "source": []
  },
  {
   "cell_type": "code",
   "execution_count": null,
   "id": "7320a4af",
   "metadata": {},
   "outputs": [],
   "source": []
  },
  {
   "cell_type": "code",
   "execution_count": null,
   "id": "a1cd009a",
   "metadata": {},
   "outputs": [],
   "source": []
  },
  {
   "cell_type": "code",
   "execution_count": null,
   "id": "1a39cef7",
   "metadata": {},
   "outputs": [],
   "source": [
    "\n"
   ]
  },
  {
   "cell_type": "code",
   "execution_count": null,
   "id": "13df330a",
   "metadata": {},
   "outputs": [],
   "source": []
  },
  {
   "cell_type": "code",
   "execution_count": null,
   "id": "e1983b2a",
   "metadata": {},
   "outputs": [],
   "source": []
  },
  {
   "cell_type": "markdown",
   "id": "cc910f7f",
   "metadata": {},
   "source": [
    "Срезы массивов возвращают представления, а не копии (!)"
   ]
  },
  {
   "cell_type": "code",
   "execution_count": null,
   "id": "3f801aaa",
   "metadata": {},
   "outputs": [],
   "source": []
  },
  {
   "cell_type": "code",
   "execution_count": null,
   "id": "09903b73",
   "metadata": {},
   "outputs": [],
   "source": []
  },
  {
   "cell_type": "code",
   "execution_count": null,
   "id": "8d561363",
   "metadata": {},
   "outputs": [],
   "source": []
  },
  {
   "cell_type": "code",
   "execution_count": null,
   "id": "a063b0c6",
   "metadata": {},
   "outputs": [],
   "source": []
  },
  {
   "cell_type": "markdown",
   "id": "bc3a4824",
   "metadata": {},
   "source": [
    "Если нужно создать копию:"
   ]
  },
  {
   "cell_type": "code",
   "execution_count": null,
   "id": "be9ca2c2",
   "metadata": {},
   "outputs": [],
   "source": []
  },
  {
   "cell_type": "markdown",
   "id": "bc9f6678",
   "metadata": {},
   "source": [
    "### Изменение формы"
   ]
  },
  {
   "cell_type": "code",
   "execution_count": null,
   "id": "c3f9ff6f",
   "metadata": {},
   "outputs": [],
   "source": []
  },
  {
   "cell_type": "code",
   "execution_count": null,
   "id": "7cd4b7c9",
   "metadata": {},
   "outputs": [],
   "source": []
  },
  {
   "cell_type": "code",
   "execution_count": null,
   "id": "3e071646",
   "metadata": {},
   "outputs": [],
   "source": []
  },
  {
   "cell_type": "code",
   "execution_count": null,
   "id": "e8d9e4a7",
   "metadata": {},
   "outputs": [],
   "source": []
  },
  {
   "cell_type": "markdown",
   "id": "adb520c9",
   "metadata": {},
   "source": [
    "### Слияние и разбиение массивов"
   ]
  },
  {
   "cell_type": "markdown",
   "id": "34cf0e50",
   "metadata": {},
   "source": [
    "В NumPy есть следующие функции для объединения массивов:\n",
    "\n",
    "- concatenate\n",
    "- vstack\n",
    "- hstack"
   ]
  },
  {
   "cell_type": "code",
   "execution_count": null,
   "id": "3fe6e771",
   "metadata": {},
   "outputs": [],
   "source": []
  },
  {
   "cell_type": "code",
   "execution_count": null,
   "id": "3e0c61e1",
   "metadata": {},
   "outputs": [],
   "source": []
  },
  {
   "cell_type": "code",
   "execution_count": null,
   "id": "2a1d1965",
   "metadata": {},
   "outputs": [],
   "source": []
  },
  {
   "cell_type": "code",
   "execution_count": null,
   "id": "4e1f1cf1",
   "metadata": {},
   "outputs": [],
   "source": []
  },
  {
   "cell_type": "code",
   "execution_count": null,
   "id": "17c46d22",
   "metadata": {},
   "outputs": [],
   "source": []
  },
  {
   "cell_type": "code",
   "execution_count": null,
   "id": "03bc5599",
   "metadata": {},
   "outputs": [],
   "source": []
  },
  {
   "cell_type": "code",
   "execution_count": null,
   "id": "da4599a2",
   "metadata": {},
   "outputs": [],
   "source": []
  },
  {
   "cell_type": "code",
   "execution_count": null,
   "id": "b2261023",
   "metadata": {},
   "outputs": [],
   "source": []
  },
  {
   "cell_type": "code",
   "execution_count": null,
   "id": "9b45805e",
   "metadata": {},
   "outputs": [],
   "source": []
  },
  {
   "cell_type": "markdown",
   "id": "cc9fe16f",
   "metadata": {},
   "source": [
    "Есть еще аналогичная функция np.dstack для объединения массивов по третье оси"
   ]
  },
  {
   "cell_type": "markdown",
   "id": "3173bccd",
   "metadata": {},
   "source": [
    "Функции для разбиения массивов:\n",
    "\n",
    "- split\n",
    "- hsplit\n",
    "- vsplit\n",
    "\n",
    "Этим функциям необходимо передать список идексов, задающих точки раздела"
   ]
  },
  {
   "cell_type": "code",
   "execution_count": null,
   "id": "1e6b7d34",
   "metadata": {},
   "outputs": [],
   "source": []
  },
  {
   "cell_type": "code",
   "execution_count": null,
   "id": "48c6cbb5",
   "metadata": {},
   "outputs": [],
   "source": []
  },
  {
   "cell_type": "code",
   "execution_count": null,
   "id": "b72d86c0",
   "metadata": {},
   "outputs": [],
   "source": []
  },
  {
   "cell_type": "code",
   "execution_count": null,
   "id": "92aa6756",
   "metadata": {},
   "outputs": [],
   "source": []
  },
  {
   "cell_type": "code",
   "execution_count": null,
   "id": "a8a3a0b9",
   "metadata": {},
   "outputs": [],
   "source": []
  },
  {
   "cell_type": "code",
   "execution_count": null,
   "id": "6ab1b498",
   "metadata": {},
   "outputs": [],
   "source": []
  },
  {
   "cell_type": "code",
   "execution_count": null,
   "id": "4cb5d92a",
   "metadata": {},
   "outputs": [],
   "source": []
  },
  {
   "cell_type": "code",
   "execution_count": null,
   "id": "d1aaaffa",
   "metadata": {},
   "outputs": [],
   "source": []
  },
  {
   "cell_type": "code",
   "execution_count": null,
   "id": "03addf91",
   "metadata": {},
   "outputs": [],
   "source": []
  },
  {
   "cell_type": "code",
   "execution_count": null,
   "id": "7abb46dd",
   "metadata": {},
   "outputs": [],
   "source": []
  },
  {
   "cell_type": "markdown",
   "id": "8d9fc850",
   "metadata": {},
   "source": [
    "для трехмерных массивов аналогично есть функция dsplit"
   ]
  },
  {
   "cell_type": "code",
   "execution_count": null,
   "id": "e0ded694",
   "metadata": {},
   "outputs": [],
   "source": []
  },
  {
   "cell_type": "code",
   "execution_count": null,
   "id": "67fd1f58",
   "metadata": {},
   "outputs": [],
   "source": []
  },
  {
   "cell_type": "markdown",
   "id": "7b1b777c",
   "metadata": {},
   "source": [
    "**Самостоятельно**\n",
    "\n",
    "- Создать массивы случайных чисел размерностью 20 на 10 и 20 на 40\n",
    "- Объединить эти массивы по первому измерению\n",
    "- Разбить полученный массив на 2 равные половины, размерностью 20 на 25 \n",
    "- Преобразовать первый полученный массив в вектор-строку, а второй в вектор-столбец"
   ]
  },
  {
   "cell_type": "code",
   "execution_count": null,
   "id": "cc942b1c",
   "metadata": {},
   "outputs": [],
   "source": []
  },
  {
   "cell_type": "code",
   "execution_count": null,
   "id": "9537353e",
   "metadata": {},
   "outputs": [],
   "source": []
  },
  {
   "cell_type": "code",
   "execution_count": null,
   "id": "068c609c",
   "metadata": {},
   "outputs": [],
   "source": []
  },
  {
   "cell_type": "code",
   "execution_count": null,
   "id": "ed2bedb9",
   "metadata": {},
   "outputs": [],
   "source": []
  },
  {
   "cell_type": "markdown",
   "id": "c1a81bb6",
   "metadata": {},
   "source": [
    "## Выводы"
   ]
  },
  {
   "cell_type": "markdown",
   "id": "7b4ee9c5",
   "metadata": {},
   "source": []
  }
 ],
 "metadata": {
  "kernelspec": {
   "display_name": "Python 3 (ipykernel)",
   "language": "python",
   "name": "python3"
  },
  "language_info": {
   "codemirror_mode": {
    "name": "ipython",
    "version": 3
   },
   "file_extension": ".py",
   "mimetype": "text/x-python",
   "name": "python",
   "nbconvert_exporter": "python",
   "pygments_lexer": "ipython3",
   "version": "3.9.12"
  }
 },
 "nbformat": 4,
 "nbformat_minor": 5
}
