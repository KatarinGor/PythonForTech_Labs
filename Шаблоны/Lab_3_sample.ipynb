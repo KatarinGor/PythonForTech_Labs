{
 "cells": [
  {
   "cell_type": "markdown",
   "id": "b8dd3231",
   "metadata": {},
   "source": [
    "# Практическая работа № 3\n",
    "## Коллекции\n"
   ]
  },
  {
   "cell_type": "markdown",
   "id": "362ad25a",
   "metadata": {},
   "source": [
    "### 1. Списки\n",
    "Изменяемы упорядоченные наборы элементов, могут быть разных типов"
   ]
  },
  {
   "cell_type": "code",
   "execution_count": null,
   "id": "6de0169a",
   "metadata": {},
   "outputs": [],
   "source": []
  },
  {
   "cell_type": "markdown",
   "id": "ab4acff7",
   "metadata": {},
   "source": [
    "Длина списка"
   ]
  },
  {
   "cell_type": "code",
   "execution_count": null,
   "id": "e7dd70fc",
   "metadata": {},
   "outputs": [],
   "source": []
  },
  {
   "cell_type": "code",
   "execution_count": null,
   "id": "fb9a66fb",
   "metadata": {},
   "outputs": [],
   "source": []
  },
  {
   "cell_type": "markdown",
   "id": "3c475e93",
   "metadata": {},
   "source": [
    "Присваиваниt (изменения элементов):"
   ]
  },
  {
   "cell_type": "code",
   "execution_count": null,
   "id": "da905a0f",
   "metadata": {},
   "outputs": [],
   "source": []
  },
  {
   "cell_type": "markdown",
   "id": "cd72a97c",
   "metadata": {},
   "source": [
    "Проверить, существует ли элемент в списке:"
   ]
  },
  {
   "cell_type": "code",
   "execution_count": null,
   "id": "9c8877a5",
   "metadata": {},
   "outputs": [],
   "source": []
  },
  {
   "cell_type": "markdown",
   "id": "24d42241",
   "metadata": {},
   "source": [
    "Срезы в списках работают точно так же, как и в строках. Создадим список из 10 элементов с помощью встроенной функции range и поэкспериментируем на нём со срезам"
   ]
  },
  {
   "cell_type": "code",
   "execution_count": null,
   "id": "f1caf148",
   "metadata": {},
   "outputs": [],
   "source": []
  },
  {
   "cell_type": "markdown",
   "id": "430c3ec8",
   "metadata": {},
   "source": [
    "Все коллекции (списки в том числе) поддерживают протокол итерации"
   ]
  },
  {
   "cell_type": "code",
   "execution_count": null,
   "id": "f2d48a83",
   "metadata": {},
   "outputs": [],
   "source": []
  },
  {
   "cell_type": "markdown",
   "id": "bb331c02",
   "metadata": {},
   "source": [
    "Итерация по элементам (а не по индексам). А что, если нужен индекс?"
   ]
  },
  {
   "cell_type": "code",
   "execution_count": null,
   "id": "887e22a0",
   "metadata": {},
   "outputs": [],
   "source": [
    "\n"
   ]
  },
  {
   "cell_type": "markdown",
   "id": "094bd4b6",
   "metadata": {},
   "source": [
    "Можно добавлять и уделять элементы"
   ]
  },
  {
   "cell_type": "code",
   "execution_count": null,
   "id": "7a194b8e",
   "metadata": {},
   "outputs": [],
   "source": []
  },
  {
   "cell_type": "markdown",
   "id": "e5a93ef0",
   "metadata": {},
   "source": [
    "Если нужно расширить список другим списком:"
   ]
  },
  {
   "cell_type": "code",
   "execution_count": null,
   "id": "c22e5e86",
   "metadata": {},
   "outputs": [],
   "source": []
  },
  {
   "cell_type": "code",
   "execution_count": null,
   "id": "a49d5258",
   "metadata": {},
   "outputs": [],
   "source": []
  },
  {
   "cell_type": "markdown",
   "id": "6cb1bfdb",
   "metadata": {},
   "source": [
    "Удаление элемента из списка"
   ]
  },
  {
   "cell_type": "code",
   "execution_count": null,
   "id": "3e1abcf9",
   "metadata": {},
   "outputs": [],
   "source": []
  },
  {
   "cell_type": "markdown",
   "id": "241b13c5",
   "metadata": {},
   "source": [
    "Преобразовать список в строку и обратно :\n",
    "*прим. работает только для строк*"
   ]
  },
  {
   "cell_type": "code",
   "execution_count": null,
   "id": "1e0cd33c",
   "metadata": {},
   "outputs": [],
   "source": []
  },
  {
   "cell_type": "markdown",
   "id": "9edadb93",
   "metadata": {},
   "source": [
    "Сортировка. Сначала создадим список из случайных чисел"
   ]
  },
  {
   "cell_type": "code",
   "execution_count": null,
   "id": "c7814a29",
   "metadata": {},
   "outputs": [],
   "source": []
  },
  {
   "cell_type": "markdown",
   "id": "e81a9f15",
   "metadata": {},
   "source": [
    "Для сортировки списка в Python есть два способа: стандартная функция sorted, которая возвращает новый список, полученный сортировкой исходного, и метод списка .sort(), который сортирует in-place."
   ]
  },
  {
   "cell_type": "code",
   "execution_count": null,
   "id": "b6a872ad",
   "metadata": {},
   "outputs": [],
   "source": []
  },
  {
   "cell_type": "code",
   "execution_count": null,
   "id": "0595aab5",
   "metadata": {},
   "outputs": [],
   "source": []
  },
  {
   "cell_type": "markdown",
   "id": "b5048976",
   "metadata": {},
   "source": [
    "Если нужно в обратном порядке:"
   ]
  },
  {
   "cell_type": "code",
   "execution_count": null,
   "id": "9e7b9b73",
   "metadata": {},
   "outputs": [],
   "source": []
  },
  {
   "cell_type": "markdown",
   "id": "bf7b971f",
   "metadata": {},
   "source": [
    "### 2. Кортежи (tuple)\n",
    " Кортежи - это неизменяемые списки. Кортежи определяются с помощью круглых скобок\n",
    "или литерала tuple."
   ]
  },
  {
   "cell_type": "code",
   "execution_count": null,
   "id": "71e282be",
   "metadata": {},
   "outputs": [],
   "source": []
  },
  {
   "cell_type": "code",
   "execution_count": null,
   "id": "e0d16e11",
   "metadata": {},
   "outputs": [],
   "source": []
  },
  {
   "cell_type": "markdown",
   "id": "6b3b86a0",
   "metadata": {},
   "source": [
    "Попробуем изменить какой-нибудь элемент:"
   ]
  },
  {
   "cell_type": "code",
   "execution_count": null,
   "id": "fe4b6362",
   "metadata": {},
   "outputs": [],
   "source": []
  },
  {
   "cell_type": "markdown",
   "id": "6638af30",
   "metadata": {},
   "source": [
    "Кортежи неизменяемые, объекты внутри них могут быть\n",
    "изменяемыми. Парадоксально, правда?"
   ]
  },
  {
   "cell_type": "code",
   "execution_count": null,
   "id": "e25ad990",
   "metadata": {},
   "outputs": [],
   "source": []
  },
  {
   "cell_type": "markdown",
   "id": "0c5bcca3",
   "metadata": {},
   "source": [
    "#### Давайте чуть подробнее разберемся, чем опасно не учитывать изменяемость и неизменяемость типа данных\n",
    "\n",
    "Неизменяемые (immutable):\n",
    "- None\n",
    "- bool\n",
    "- int\n",
    "- float\n",
    "- str\n",
    "- tuple\n",
    "\n",
    "Изменяемые (muttable)\n",
    "- list\n",
    "- dict\n",
    "- set\n"
   ]
  },
  {
   "cell_type": "code",
   "execution_count": null,
   "id": "8094b429",
   "metadata": {},
   "outputs": [],
   "source": []
  },
  {
   "cell_type": "code",
   "execution_count": null,
   "id": "8f520fd1",
   "metadata": {},
   "outputs": [],
   "source": []
  },
  {
   "cell_type": "markdown",
   "id": "f36d2338",
   "metadata": {},
   "source": [
    "*прим. Функция id() возвращает уникальный идентификатор для указанного объекта.*\n",
    "*Все объекты в Python имеют свой уникальный идентификатор. Идентификатор присваивается объекту при его создании. Идентификатор является адресом памяти объекта и будет отличаться при каждом запуске программы.*"
   ]
  },
  {
   "cell_type": "code",
   "execution_count": null,
   "id": "1aa9fe4c",
   "metadata": {},
   "outputs": [],
   "source": []
  },
  {
   "cell_type": "code",
   "execution_count": null,
   "id": "8953f706",
   "metadata": {},
   "outputs": [],
   "source": []
  },
  {
   "cell_type": "code",
   "execution_count": null,
   "id": "78866e1e",
   "metadata": {},
   "outputs": [],
   "source": []
  },
  {
   "cell_type": "code",
   "execution_count": null,
   "id": "784caa1f",
   "metadata": {},
   "outputs": [],
   "source": []
  },
  {
   "cell_type": "markdown",
   "id": "64e9efd4",
   "metadata": {},
   "source": [
    "Так работает неизменяемость. А что с изменяемостью?"
   ]
  },
  {
   "cell_type": "code",
   "execution_count": null,
   "id": "ea311225",
   "metadata": {},
   "outputs": [],
   "source": []
  },
  {
   "cell_type": "code",
   "execution_count": null,
   "id": "f2ffb5f6",
   "metadata": {},
   "outputs": [],
   "source": []
  },
  {
   "cell_type": "code",
   "execution_count": null,
   "id": "c7cf4ba8",
   "metadata": {},
   "outputs": [],
   "source": []
  },
  {
   "cell_type": "code",
   "execution_count": null,
   "id": "0630c397",
   "metadata": {},
   "outputs": [],
   "source": []
  },
  {
   "cell_type": "markdown",
   "id": "97d7b993",
   "metadata": {},
   "source": [
    "id не изменился, т.е. это та же переменная."
   ]
  },
  {
   "cell_type": "markdown",
   "id": "ea1c6cc1",
   "metadata": {},
   "source": [
    "Теперь посмотрим, какие неявные ошибки могут возникнуть, если это не учитывать."
   ]
  },
  {
   "cell_type": "code",
   "execution_count": null,
   "id": "e9d3e826",
   "metadata": {},
   "outputs": [],
   "source": []
  },
  {
   "cell_type": "code",
   "execution_count": null,
   "id": "73b69d82",
   "metadata": {},
   "outputs": [],
   "source": []
  },
  {
   "cell_type": "code",
   "execution_count": null,
   "id": "48dafb4b",
   "metadata": {
    "scrolled": true
   },
   "outputs": [],
   "source": []
  },
  {
   "cell_type": "code",
   "execution_count": null,
   "id": "9644bd9e",
   "metadata": {},
   "outputs": [],
   "source": []
  },
  {
   "cell_type": "code",
   "execution_count": null,
   "id": "d5e4a73a",
   "metadata": {},
   "outputs": [],
   "source": []
  },
  {
   "cell_type": "code",
   "execution_count": null,
   "id": "1327d758",
   "metadata": {},
   "outputs": [],
   "source": []
  },
  {
   "cell_type": "code",
   "execution_count": null,
   "id": "1e5ac995",
   "metadata": {},
   "outputs": [],
   "source": []
  },
  {
   "cell_type": "code",
   "execution_count": null,
   "id": "dddaebc5",
   "metadata": {},
   "outputs": [],
   "source": []
  },
  {
   "cell_type": "code",
   "execution_count": null,
   "id": "c003ccc5",
   "metadata": {},
   "outputs": [],
   "source": []
  },
  {
   "cell_type": "code",
   "execution_count": null,
   "id": "8f8ca100",
   "metadata": {},
   "outputs": [],
   "source": []
  },
  {
   "cell_type": "markdown",
   "id": "54391cc5",
   "metadata": {},
   "source": [
    "Получается, что произошло неявное изменение глобальной переменной. Как лучше: добавить return var, и переопределить переменную "
   ]
  },
  {
   "cell_type": "markdown",
   "id": "671e3a40",
   "metadata": {},
   "source": [
    "### 3. Словари\n",
    "\n",
    "Позволяют хранить данные в формате ключ-значение. Изменяемые; неупорядоченные"
   ]
  },
  {
   "cell_type": "code",
   "execution_count": null,
   "id": "188373d7",
   "metadata": {},
   "outputs": [],
   "source": []
  },
  {
   "cell_type": "code",
   "execution_count": null,
   "id": "6a415383",
   "metadata": {},
   "outputs": [],
   "source": []
  },
  {
   "cell_type": "code",
   "execution_count": null,
   "id": "69b89148",
   "metadata": {},
   "outputs": [],
   "source": []
  },
  {
   "cell_type": "markdown",
   "id": "37ff4a03",
   "metadata": {},
   "source": [
    "часто бывает полезно попытаться достать значение по ключу из\n",
    "словаря, а в случае отсутствия ключа вернуть какое-то стандартное значение. Для этого\n",
    "есть встроенный метод get"
   ]
  },
  {
   "cell_type": "code",
   "execution_count": null,
   "id": "5eafff7e",
   "metadata": {},
   "outputs": [],
   "source": []
  },
  {
   "cell_type": "markdown",
   "id": "936f5665",
   "metadata": {},
   "source": [
    "Проверка на вхождения ключа в словарь так же осуществляется за константное время\n",
    "и выполняется с помощью ключевого слова in:"
   ]
  },
  {
   "cell_type": "code",
   "execution_count": null,
   "id": "c580f95a",
   "metadata": {},
   "outputs": [],
   "source": []
  },
  {
   "cell_type": "markdown",
   "id": "7e953a6a",
   "metadata": {},
   "source": [
    "Словари, как и все коллекции, поддерживают протокол итерации. С помощью цикла\n",
    "for можно итерироваться по ключам словаря:\n"
   ]
  },
  {
   "cell_type": "code",
   "execution_count": null,
   "id": "1f45dc03",
   "metadata": {},
   "outputs": [],
   "source": []
  },
  {
   "cell_type": "markdown",
   "id": "a5c907db",
   "metadata": {},
   "source": [
    "Если нам нужно итерироваться не по ключам, а по ключам и значениям сразу, можно\n",
    "использовать метод словаря items, который возвращает ключи и значения."
   ]
  },
  {
   "cell_type": "code",
   "execution_count": null,
   "id": "c6979068",
   "metadata": {},
   "outputs": [],
   "source": []
  },
  {
   "cell_type": "markdown",
   "id": "ec4baf80",
   "metadata": {},
   "source": [
    "Если нужно итерироваться по значениям, используйте логично метод values, который\n",
    "возвращает именно значения. Также существует симметричный метод keys, который воз\u0002вращает итератор ключей.\n"
   ]
  },
  {
   "cell_type": "code",
   "execution_count": null,
   "id": "57ed03ae",
   "metadata": {},
   "outputs": [],
   "source": []
  },
  {
   "cell_type": "markdown",
   "id": "05ec78b1",
   "metadata": {},
   "source": [
    "**Упражнение**"
   ]
  },
  {
   "cell_type": "code",
   "execution_count": null,
   "id": "aea5da6b",
   "metadata": {},
   "outputs": [],
   "source": []
  },
  {
   "cell_type": "code",
   "execution_count": null,
   "id": "e9d55f8a",
   "metadata": {},
   "outputs": [],
   "source": []
  },
  {
   "cell_type": "code",
   "execution_count": null,
   "id": "158c000e",
   "metadata": {},
   "outputs": [],
   "source": []
  },
  {
   "cell_type": "markdown",
   "id": "dc639a11",
   "metadata": {},
   "source": [
    "А теперь посмотрим, сколько есть различных способов обращаться к данным в словаре\n",
    "Вывод некоторых городов:"
   ]
  },
  {
   "cell_type": "code",
   "execution_count": null,
   "id": "f0f3e281",
   "metadata": {},
   "outputs": [],
   "source": []
  },
  {
   "cell_type": "markdown",
   "id": "fdd3deb3",
   "metadata": {},
   "source": [
    "Вывод некоторых стран:"
   ]
  },
  {
   "cell_type": "code",
   "execution_count": null,
   "id": "f4bde0e6",
   "metadata": {},
   "outputs": [],
   "source": []
  },
  {
   "cell_type": "markdown",
   "id": "ca5f9345",
   "metadata": {},
   "source": [
    "Совместное использование двух словарей:"
   ]
  },
  {
   "cell_type": "code",
   "execution_count": null,
   "id": "3127c367",
   "metadata": {},
   "outputs": [],
   "source": []
  },
  {
   "cell_type": "markdown",
   "id": "ee57b9a4",
   "metadata": {},
   "source": [
    "Вывести аббревиатуры все стран:"
   ]
  },
  {
   "cell_type": "code",
   "execution_count": null,
   "id": "37e6cc1b",
   "metadata": {},
   "outputs": [],
   "source": []
  },
  {
   "cell_type": "markdown",
   "id": "4deb2d38",
   "metadata": {},
   "source": [
    "Вывод всех городов в странах"
   ]
  },
  {
   "cell_type": "code",
   "execution_count": null,
   "id": "56bd94ea",
   "metadata": {},
   "outputs": [],
   "source": []
  },
  {
   "cell_type": "code",
   "execution_count": null,
   "id": "ef2d2bd6",
   "metadata": {},
   "outputs": [],
   "source": []
  },
  {
   "cell_type": "markdown",
   "id": "784301e0",
   "metadata": {},
   "source": [
    "Безопасное получение аббревиатуры страны, даже если ее нет в словаре"
   ]
  },
  {
   "cell_type": "code",
   "execution_count": null,
   "id": "16c70314",
   "metadata": {},
   "outputs": [],
   "source": []
  },
  {
   "cell_type": "code",
   "execution_count": null,
   "id": "4eb8de4b",
   "metadata": {},
   "outputs": [],
   "source": []
  },
  {
   "cell_type": "markdown",
   "id": "b78812fc",
   "metadata": {},
   "source": [
    "Получение города со значением по умолчанию"
   ]
  },
  {
   "cell_type": "code",
   "execution_count": null,
   "id": "80d18c19",
   "metadata": {},
   "outputs": [],
   "source": []
  },
  {
   "cell_type": "markdown",
   "id": "79951776",
   "metadata": {},
   "source": [
    "Словари - неупорядоченный тип данных. Однако есть специальный тип OrderedDict ( содержится в модуле\n",
    "collections), который гарантирует вам, что ключи хранятся именно в том порядке, в каком вы их добавили в словарь."
   ]
  },
  {
   "cell_type": "code",
   "execution_count": null,
   "id": "dd902419",
   "metadata": {},
   "outputs": [],
   "source": []
  },
  {
   "cell_type": "markdown",
   "id": "164aa4ae",
   "metadata": {},
   "source": [
    "## 4. Множества\n",
    "Множество в питоне — это неупорядоченный набор уникальных объектов. Множества изменяемы и чаще всего используются для удаления дубликатов и всевозможных проверок\n",
    "на вхождение.\n",
    "Чтобы объявить пустое множество, можно воспользоваться литералом set или использовать фигурные скобки, чтобы объявить множество и одновременно добавить туда\n",
    "какие-то элементы."
   ]
  },
  {
   "cell_type": "code",
   "execution_count": null,
   "id": "0dac4685",
   "metadata": {},
   "outputs": [],
   "source": []
  },
  {
   "cell_type": "markdown",
   "id": "ce5753f5",
   "metadata": {},
   "source": [
    "Чтобы добавить элемент в множество, используется метод add. Также множества в\n",
    "Python поддерживают стандартные операции над множествами --- такие как объедине\u0002ние, разность, пересечение и симметрическая разность."
   ]
  },
  {
   "cell_type": "code",
   "execution_count": null,
   "id": "628cf538",
   "metadata": {},
   "outputs": [],
   "source": []
  },
  {
   "cell_type": "markdown",
   "id": "35b643d2",
   "metadata": {},
   "source": [
    "Теперь найдём объединение и пересечение этих множеств:"
   ]
  },
  {
   "cell_type": "code",
   "execution_count": null,
   "id": "c94ffe01",
   "metadata": {},
   "outputs": [],
   "source": []
  },
  {
   "cell_type": "code",
   "execution_count": null,
   "id": "7a997f0c",
   "metadata": {},
   "outputs": [],
   "source": []
  },
  {
   "cell_type": "code",
   "execution_count": null,
   "id": "a35d4ae4",
   "metadata": {},
   "outputs": [],
   "source": []
  },
  {
   "cell_type": "code",
   "execution_count": null,
   "id": "1343048e",
   "metadata": {},
   "outputs": [],
   "source": []
  },
  {
   "cell_type": "code",
   "execution_count": null,
   "id": "1e184939",
   "metadata": {},
   "outputs": [],
   "source": []
  },
  {
   "cell_type": "code",
   "execution_count": null,
   "id": "9fb7e541",
   "metadata": {},
   "outputs": [],
   "source": []
  },
  {
   "cell_type": "markdown",
   "id": "68763b59",
   "metadata": {},
   "source": [
    "Также в питоне существует неизменяемый аналог типа set --- тип frozenset."
   ]
  },
  {
   "cell_type": "code",
   "execution_count": null,
   "id": "545d25ec",
   "metadata": {},
   "outputs": [],
   "source": []
  },
  {
   "cell_type": "markdown",
   "id": "335e011c",
   "metadata": {},
   "source": [
    "## Самостоятельно"
   ]
  },
  {
   "cell_type": "markdown",
   "id": "ddc3ac3e",
   "metadata": {},
   "source": [
    "Дана строка с некоторым текстом. \n",
    "\n",
    "Требуется создать словарь, который в качестве ключей будет принимать буквы, а в качестве значений – количество этих букв в тексте. Для построения словаря создайте функцию count_it(sequence), принимающую строку с текстом. Функция должна возвратить словарь из 3-х самых часто встречаемых букв."
   ]
  },
  {
   "cell_type": "code",
   "execution_count": null,
   "id": "629fad72",
   "metadata": {},
   "outputs": [],
   "source": []
  },
  {
   "cell_type": "markdown",
   "id": "d2ae48ac",
   "metadata": {},
   "source": [
    "## Выводы\n",
    "\n",
    "\n"
   ]
  },
  {
   "cell_type": "markdown",
   "id": "96dbaa75",
   "metadata": {},
   "source": []
  },
  {
   "cell_type": "markdown",
   "id": "917fd5e2",
   "metadata": {},
   "source": [
    "Справка по рассмотренным темам: https://docs.python.org/3/tutorial/datastructures.html"
   ]
  }
 ],
 "metadata": {
  "kernelspec": {
   "display_name": "Python 3 (ipykernel)",
   "language": "python",
   "name": "python3"
  },
  "language_info": {
   "codemirror_mode": {
    "name": "ipython",
    "version": 3
   },
   "file_extension": ".py",
   "mimetype": "text/x-python",
   "name": "python",
   "nbconvert_exporter": "python",
   "pygments_lexer": "ipython3",
   "version": "3.10.7"
  }
 },
 "nbformat": 4,
 "nbformat_minor": 5
}
