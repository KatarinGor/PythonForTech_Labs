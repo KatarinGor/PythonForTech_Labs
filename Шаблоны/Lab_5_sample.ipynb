{
 "cells": [
  {
   "cell_type": "markdown",
   "id": "b8dd3231",
   "metadata": {},
   "source": [
    "# Практическая работа № 5\n",
    "## Работа с файлами (продолжение)\n"
   ]
  },
  {
   "cell_type": "markdown",
   "id": "aff0472c",
   "metadata": {},
   "source": [
    "### 2. CSV (Comma Separated Values)"
   ]
  },
  {
   "cell_type": "markdown",
   "id": "6737fc78",
   "metadata": {},
   "source": [
    "По сути, он является обычным текстовым файлом, в котором каждый новый элемент отделен от предыдущего запятой или другим разделителем. Обычно каждая запись начинается с новой строки. Данные CSV можно легко экспортировать в электронные таблицы или базы данных. В Python есть специальная библиотека для работы с такими файлами.\n",
    "Давайте прочитаем данные из отчета об анкетировании на первом занятии."
   ]
  },
  {
   "cell_type": "code",
   "execution_count": null,
   "id": "ce1a8be9",
   "metadata": {},
   "outputs": [],
   "source": []
  },
  {
   "cell_type": "code",
   "execution_count": null,
   "id": "1b554e8f",
   "metadata": {},
   "outputs": [],
   "source": []
  },
  {
   "cell_type": "markdown",
   "id": "4af7de18",
   "metadata": {},
   "source": [
    "Здорово. Но ничего непонятно. Давайте попробуем разобрать данные"
   ]
  },
  {
   "cell_type": "code",
   "execution_count": null,
   "id": "e6d328d0",
   "metadata": {},
   "outputs": [],
   "source": []
  },
  {
   "cell_type": "code",
   "execution_count": null,
   "id": "2e5680ab",
   "metadata": {},
   "outputs": [],
   "source": []
  },
  {
   "cell_type": "code",
   "execution_count": null,
   "id": "3c1719ba",
   "metadata": {},
   "outputs": [],
   "source": []
  },
  {
   "cell_type": "code",
   "execution_count": null,
   "id": "e9350277",
   "metadata": {},
   "outputs": [],
   "source": []
  },
  {
   "cell_type": "markdown",
   "id": "4d25ffa9",
   "metadata": {},
   "source": [
    "Видим, что у нас есть пара бессодержательных столбцов. Давайте их удалим"
   ]
  },
  {
   "cell_type": "code",
   "execution_count": null,
   "id": "4e87e448",
   "metadata": {},
   "outputs": [],
   "source": []
  },
  {
   "cell_type": "code",
   "execution_count": null,
   "id": "502818de",
   "metadata": {},
   "outputs": [],
   "source": []
  },
  {
   "cell_type": "code",
   "execution_count": null,
   "id": "8ab944c1",
   "metadata": {},
   "outputs": [],
   "source": []
  },
  {
   "cell_type": "markdown",
   "id": "20731d35",
   "metadata": {},
   "source": [
    "Итак. У нас имеется два списка с заголовками и данными столбцов. При этом список с ответами содержит вложенные списки по каждому участнику анкетирования. А что, если мы хотим сформировать словарь, в котором ключами будут вопросы, а значениями будут списки ответов всех участников?\n",
    "В библиотеке csv есть инструмент  DictReader, который позволяет, во-первых, задать именна стобцов, если они неопределены или нам не нравятся, во-вторых, обращаться к данным не по индексу, а по имени. С его помощью можно легко сформировать нужный словарь."
   ]
  },
  {
   "cell_type": "code",
   "execution_count": null,
   "id": "9a14e219",
   "metadata": {},
   "outputs": [],
   "source": []
  },
  {
   "cell_type": "code",
   "execution_count": null,
   "id": "d92f4da0",
   "metadata": {},
   "outputs": [],
   "source": []
  },
  {
   "cell_type": "code",
   "execution_count": null,
   "id": "8c2396d1",
   "metadata": {},
   "outputs": [],
   "source": []
  },
  {
   "cell_type": "markdown",
   "id": "ef8a4bb8",
   "metadata": {},
   "source": [
    "Как сохранить данные в csv-файл?\n"
   ]
  },
  {
   "cell_type": "code",
   "execution_count": null,
   "id": "de8b2d08",
   "metadata": {},
   "outputs": [],
   "source": [
    "\n",
    "    "
   ]
  },
  {
   "cell_type": "markdown",
   "id": "99c4ab87",
   "metadata": {},
   "source": [
    "А если хотим несколько столбцов? Тогда нужно немножко переформировать список:"
   ]
  },
  {
   "cell_type": "code",
   "execution_count": null,
   "id": "489ac9ba",
   "metadata": {},
   "outputs": [],
   "source": []
  },
  {
   "cell_type": "markdown",
   "id": "73df68dc",
   "metadata": {},
   "source": [
    "## Самостоятельно\n",
    "\n",
    "Сохранить в отдельный csv-файл данные о специальностях, уровне знания математики и ангийского\n",
    "Затем считайте этот файл и выведете его первые 10 строк."
   ]
  },
  {
   "cell_type": "code",
   "execution_count": null,
   "id": "9958a6d8",
   "metadata": {},
   "outputs": [],
   "source": []
  },
  {
   "cell_type": "code",
   "execution_count": null,
   "id": "6e5aa626",
   "metadata": {},
   "outputs": [],
   "source": []
  },
  {
   "cell_type": "code",
   "execution_count": null,
   "id": "603f6ec6",
   "metadata": {},
   "outputs": [],
   "source": []
  },
  {
   "cell_type": "markdown",
   "id": "c3e8f44d",
   "metadata": {},
   "source": [
    "### 3. JSON\n",
    "JavaScript Object Notation"
   ]
  },
  {
   "cell_type": "markdown",
   "id": "442493a0",
   "metadata": {},
   "source": [
    "Определенным образом структурированный текстовый файл. Структура напоминает dict.\n",
    "\n",
    "Для работы с таким форматом данных в Python есть специальная библиотека json\n",
    "\n",
    "Нас интересуют следующие методы:\n",
    "- load : преобразует файл, содержащий документ JSON в объект Python, используя специальную таблицу преобразования;\n",
    "- loads : для считывания строки в формате JSON;\n",
    "- dump : создает файл в формате JSON;\n",
    "- dumps : создает строку в формате JSON;\n",
    "\n"
   ]
  },
  {
   "cell_type": "markdown",
   "id": "d61c7090",
   "metadata": {},
   "source": [
    "![](tab.png)"
   ]
  },
  {
   "cell_type": "code",
   "execution_count": null,
   "id": "4456a526",
   "metadata": {},
   "outputs": [],
   "source": []
  },
  {
   "cell_type": "markdown",
   "id": "bfb5a990",
   "metadata": {},
   "source": [
    "Перепишем данные нескольких участников опроса из нашего csv файла анкет в формате json. "
   ]
  },
  {
   "cell_type": "code",
   "execution_count": null,
   "id": "86581f36",
   "metadata": {},
   "outputs": [],
   "source": []
  },
  {
   "cell_type": "code",
   "execution_count": null,
   "id": "c91ce084",
   "metadata": {},
   "outputs": [],
   "source": []
  },
  {
   "cell_type": "code",
   "execution_count": null,
   "id": "a3aaf088",
   "metadata": {},
   "outputs": [],
   "source": []
  },
  {
   "cell_type": "code",
   "execution_count": null,
   "id": "7108336a",
   "metadata": {},
   "outputs": [],
   "source": []
  },
  {
   "cell_type": "code",
   "execution_count": null,
   "id": "d19bd450",
   "metadata": {},
   "outputs": [],
   "source": []
  },
  {
   "cell_type": "markdown",
   "id": "8646879f",
   "metadata": {},
   "source": [
    "Для обратного преобразования есть функция loads:"
   ]
  },
  {
   "cell_type": "code",
   "execution_count": null,
   "id": "374c0251",
   "metadata": {},
   "outputs": [],
   "source": []
  },
  {
   "cell_type": "code",
   "execution_count": null,
   "id": "221d98b0",
   "metadata": {},
   "outputs": [],
   "source": []
  },
  {
   "cell_type": "markdown",
   "id": "69fa83ca",
   "metadata": {},
   "source": [
    "Можно одной командой и преобразовать, и сразу записать в файл в формате json:"
   ]
  },
  {
   "cell_type": "code",
   "execution_count": null,
   "id": "693f2274",
   "metadata": {},
   "outputs": [],
   "source": [
    "    "
   ]
  },
  {
   "cell_type": "markdown",
   "id": "04052d2b",
   "metadata": {},
   "source": [
    "Появился готовый файлик. Мы можем его считать."
   ]
  },
  {
   "cell_type": "code",
   "execution_count": 44,
   "id": "c4fda10e",
   "metadata": {},
   "outputs": [],
   "source": []
  },
  {
   "cell_type": "code",
   "execution_count": null,
   "id": "29ea1673",
   "metadata": {},
   "outputs": [],
   "source": []
  },
  {
   "cell_type": "markdown",
   "id": "5ac65e66",
   "metadata": {},
   "source": [
    "Тадам! Это обычный словарь. Можно обращаться к его элементам по ключу, можно итерироваться и пр. Это удобно, т.к. нет нужды в дополнительных преобразованиях данных."
   ]
  },
  {
   "cell_type": "markdown",
   "id": "c0c99a83",
   "metadata": {},
   "source": [
    "Хранение данных в Интернете нередко реализовано в формате json. Давайте рассмотрим пример получения данных от сервиса  http://ip-api.com , который по ip определяет местоположение. "
   ]
  },
  {
   "cell_type": "code",
   "execution_count": null,
   "id": "3008d789",
   "metadata": {},
   "outputs": [],
   "source": []
  },
  {
   "cell_type": "code",
   "execution_count": null,
   "id": "09f70741",
   "metadata": {},
   "outputs": [],
   "source": []
  },
  {
   "cell_type": "markdown",
   "id": "c66b4b2f",
   "metadata": {},
   "source": [
    "### Самостоятельно\n",
    "#### 1\n",
    "\n",
    "1) Создайте словарь, содержащий только 5 полей из loc_dict (поля на свой выбор). Запишите его в отдельный файл в формате json.\n",
    "\n",
    "2) Считайте данные из своего файла.\n",
    "\n",
    "3) Создайте csv-файл и запишите свои данные туда.\n",
    "\n",
    "4) Считайте свой csv-файл, сохранив в отдельный список loc_fields названия полей, и в отдельный список loc_data значения."
   ]
  },
  {
   "cell_type": "code",
   "execution_count": null,
   "id": "ae93334a",
   "metadata": {},
   "outputs": [],
   "source": []
  },
  {
   "cell_type": "markdown",
   "id": "1f33fb5c",
   "metadata": {},
   "source": [
    "#### 2\n",
    "Реализовать собственное key-values хранилище. Данные будут сохраняться в файле store.json. Добавление новых данных в хранилище и получение текущих значений осуществляется с помощью функции storage(). Вашей задачей будет написать реализацию функции storage(). Она может вызваться со следующими параметрами: storage(<имя ключа>, <значение>),  где <имя ключа> - ключ по которому сохраняются/получаются значения, <значение> - сохраняемое значение. \n",
    "\n",
    "Если в функцию переданы оба значения, происходит добавление переданного значения по ключу и сохранение данных в файле. Если передано только имя ключа, происходит чтение файла хранилища и вывод на печать значений, которые были сохранены по данному ключу.  Обратите внимание, что значения по одному ключу не перезаписываются, а добавляются к уже сохраненным. Другими словами - по одному ключу могут храниться несколько значений. При выводе на печать, значения выводятся в порядке их добавления в хранилище. Формат вывода на печать для нескольких значений:  \n",
    "\n",
    "value_1, value_2\n",
    "\n",
    "Обратите внимание на пробел после запятой. Если значений по ключу не было найдено, выведите пустую строку или None."
   ]
  },
  {
   "cell_type": "code",
   "execution_count": null,
   "id": "2c829dc4",
   "metadata": {},
   "outputs": [],
   "source": []
  },
  {
   "cell_type": "markdown",
   "id": "68a6e807",
   "metadata": {},
   "source": [
    "## Выводы "
   ]
  },
  {
   "cell_type": "code",
   "execution_count": null,
   "id": "92905fc9",
   "metadata": {},
   "outputs": [],
   "source": []
  }
 ],
 "metadata": {
  "kernelspec": {
   "display_name": "Python 3 (ipykernel)",
   "language": "python",
   "name": "python3"
  },
  "language_info": {
   "codemirror_mode": {
    "name": "ipython",
    "version": 3
   },
   "file_extension": ".py",
   "mimetype": "text/x-python",
   "name": "python",
   "nbconvert_exporter": "python",
   "pygments_lexer": "ipython3",
   "version": "3.9.12"
  }
 },
 "nbformat": 4,
 "nbformat_minor": 5
}
