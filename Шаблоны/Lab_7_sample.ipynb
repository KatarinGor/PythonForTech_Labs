{
 "cells": [
  {
   "cell_type": "markdown",
   "id": "b8dd3231",
   "metadata": {},
   "source": [
    "# Практическая работа № 7\n",
    "## Визуализация данных\n"
   ]
  },
  {
   "cell_type": "markdown",
   "id": "8027ccff",
   "metadata": {},
   "source": [
    "На этом занятии мы познакомимся с библиотекой Matplotlib. "
   ]
  },
  {
   "cell_type": "code",
   "execution_count": null,
   "id": "27e60bba",
   "metadata": {},
   "outputs": [],
   "source": []
  },
  {
   "cell_type": "markdown",
   "id": "8e3ff04c",
   "metadata": {},
   "source": [
    "Настройка стиля\n"
   ]
  },
  {
   "cell_type": "code",
   "execution_count": null,
   "id": "3cb6cb2c",
   "metadata": {},
   "outputs": [],
   "source": []
  },
  {
   "cell_type": "code",
   "execution_count": null,
   "id": "b53e4de5",
   "metadata": {},
   "outputs": [],
   "source": []
  },
  {
   "cell_type": "markdown",
   "id": "afdfbcf1",
   "metadata": {},
   "source": [
    "Отображение графиков в блокноте"
   ]
  },
  {
   "cell_type": "code",
   "execution_count": null,
   "id": "1b79b1c4",
   "metadata": {},
   "outputs": [],
   "source": []
  },
  {
   "cell_type": "markdown",
   "id": "0895c0af",
   "metadata": {},
   "source": [
    "После выполнения этой команды все создающие графики блоки в блокноте будут содержать PNG -изображение итогового графика. Выполняется 1 раз за сеанс."
   ]
  },
  {
   "cell_type": "markdown",
   "id": "cec164b6",
   "metadata": {},
   "source": [
    "*прим.* Если необходимо строить графики из скрипта, необходимо один раз (!) выполнить команду plt.show(), которая откроет окно с графиком"
   ]
  },
  {
   "cell_type": "code",
   "execution_count": null,
   "id": "4f6660e0",
   "metadata": {},
   "outputs": [],
   "source": []
  },
  {
   "cell_type": "code",
   "execution_count": null,
   "id": "8a7c1a9f",
   "metadata": {},
   "outputs": [],
   "source": []
  },
  {
   "cell_type": "markdown",
   "id": "31f7d0d9",
   "metadata": {},
   "source": [
    "Для сохранения графика используется метод savefig:"
   ]
  },
  {
   "cell_type": "code",
   "execution_count": null,
   "id": "a0c259ab",
   "metadata": {},
   "outputs": [],
   "source": []
  },
  {
   "cell_type": "markdown",
   "id": "b700f83f",
   "metadata": {},
   "source": [
    "Узнать, какие форматы для сохранения файлов поддерживаются в вашей системе:"
   ]
  },
  {
   "cell_type": "code",
   "execution_count": null,
   "id": "f0adef83",
   "metadata": {},
   "outputs": [],
   "source": []
  },
  {
   "cell_type": "markdown",
   "id": "0cc87982",
   "metadata": {},
   "source": [
    "У Matlotlib существует 2 интерефейса: интерфейс в стиле Matlab и объектно-ориентированный интерфейс. Какой использовать - дело вкуса, рассмотрим оба. Советую в простых ситуациях использовать стиль Matlab, в более замысловатых - объектно-ориентированный."
   ]
  },
  {
   "cell_type": "code",
   "execution_count": null,
   "id": "4c399e01",
   "metadata": {},
   "outputs": [],
   "source": []
  },
  {
   "cell_type": "code",
   "execution_count": null,
   "id": "b7b4d934",
   "metadata": {},
   "outputs": [],
   "source": []
  },
  {
   "cell_type": "markdown",
   "id": "1a42a7b4",
   "metadata": {},
   "source": [
    "Все очень удобно, а для кого-то еще и привычно. Особенность в том, что данный интерфейс сохраняет состояние, т.е. отслеживает текущий рисунок и оси, и для них выполняет все команды plt. Проблемы возникают, когда необходимо позже в сценарии вернуться к какой-то из отстроенных ранее областей и добавить что-то в нее. Это сделать можно, но несколько замысловато. Лучше в этом случае использовать ООП-интерфейс."
   ]
  },
  {
   "cell_type": "code",
   "execution_count": null,
   "id": "de4c425a",
   "metadata": {},
   "outputs": [],
   "source": []
  },
  {
   "cell_type": "code",
   "execution_count": null,
   "id": "ab751fee",
   "metadata": {},
   "outputs": [],
   "source": []
  },
  {
   "cell_type": "code",
   "execution_count": null,
   "id": "99177381",
   "metadata": {},
   "outputs": [],
   "source": []
  },
  {
   "cell_type": "markdown",
   "id": "4248f5ff",
   "metadata": {},
   "source": [
    "Еще можно объединить стиль линии и цвет в одном аргументе, где односимвольные коды цветов - стандартные сокращения, принятые для RGB и CMYK"
   ]
  },
  {
   "cell_type": "code",
   "execution_count": null,
   "id": "9bb8d8b0",
   "metadata": {},
   "outputs": [],
   "source": []
  },
  {
   "cell_type": "code",
   "execution_count": null,
   "id": "5259dff1",
   "metadata": {},
   "outputs": [],
   "source": []
  },
  {
   "cell_type": "markdown",
   "id": "ddec2935",
   "metadata": {},
   "source": [
    "Для ООП-интерфейса отличия синтаксиса незначительны, однако имеют место "
   ]
  },
  {
   "cell_type": "code",
   "execution_count": null,
   "id": "89d117ca",
   "metadata": {},
   "outputs": [],
   "source": []
  },
  {
   "cell_type": "markdown",
   "id": "c78722b6",
   "metadata": {},
   "source": [
    "Вообще, настройки весьма гибкие. Можно строить всякие странные штуковины:"
   ]
  },
  {
   "cell_type": "code",
   "execution_count": null,
   "id": "0baf3429",
   "metadata": {},
   "outputs": [],
   "source": []
  },
  {
   "cell_type": "code",
   "execution_count": null,
   "id": "338d10a4",
   "metadata": {},
   "outputs": [],
   "source": []
  },
  {
   "cell_type": "markdown",
   "id": "a47cfa2c",
   "metadata": {},
   "source": [
    "Еще пара слов о настройке стилей: не обязательно использовать готовые стили, можно прописать необходимые параметры в самом начале программы. Параметры по умолчанию хранятся в переменной matplotlib.rcParams, которая является глобальной для всего пакета. "
   ]
  },
  {
   "cell_type": "code",
   "execution_count": 118,
   "id": "b884a15b",
   "metadata": {},
   "outputs": [],
   "source": [
    "#large = 22; med = 16; small = 12\n",
    "#params = {'axes.titlesize': large,\n",
    "          #'legend.fontsize': med,          \n",
    "          #'axes.labelsize': med,\n",
    "          #'axes.titlesize': med,\n",
    "          #'xtick.labelsize': med,\n",
    "          #'ytick.labelsize': med,\n",
    "          #'figure.titlesize': large}\n",
    "#plt.rcParams.update(params)"
   ]
  },
  {
   "cell_type": "code",
   "execution_count": null,
   "id": "2aa46c24",
   "metadata": {},
   "outputs": [],
   "source": [
    "\n"
   ]
  },
  {
   "cell_type": "markdown",
   "id": "5e1c0391",
   "metadata": {},
   "source": [
    "Если нужно использовать какой-то экзотический стиль для некоторого блока кода, и не хочется менять глобальный стиль, можно использовать контекстный менеджер"
   ]
  },
  {
   "cell_type": "code",
   "execution_count": null,
   "id": "3331ff67",
   "metadata": {},
   "outputs": [],
   "source": []
  },
  {
   "cell_type": "markdown",
   "id": "91aebae5",
   "metadata": {},
   "source": [
    "## Гистограммы и пироги"
   ]
  },
  {
   "cell_type": "code",
   "execution_count": null,
   "id": "83b4aa95",
   "metadata": {},
   "outputs": [],
   "source": []
  },
  {
   "cell_type": "code",
   "execution_count": null,
   "id": "117f6d8d",
   "metadata": {},
   "outputs": [],
   "source": []
  },
  {
   "cell_type": "code",
   "execution_count": null,
   "id": "e7d55bd6",
   "metadata": {},
   "outputs": [],
   "source": []
  },
  {
   "cell_type": "code",
   "execution_count": null,
   "id": "c0b716b3",
   "metadata": {
    "scrolled": false
   },
   "outputs": [],
   "source": []
  },
  {
   "cell_type": "code",
   "execution_count": null,
   "id": "4e1c9008",
   "metadata": {},
   "outputs": [],
   "source": []
  },
  {
   "cell_type": "code",
   "execution_count": null,
   "id": "f0fcc875",
   "metadata": {},
   "outputs": [],
   "source": []
  },
  {
   "cell_type": "markdown",
   "id": "09ee94ba",
   "metadata": {},
   "source": [
    "## Выводы"
   ]
  },
  {
   "cell_type": "markdown",
   "id": "fcf9fc2e",
   "metadata": {},
   "source": [
    "Где почитать про настройку графиков подробнее: https://matplotlib.org"
   ]
  }
 ],
 "metadata": {
  "kernelspec": {
   "display_name": "Python 3 (ipykernel)",
   "language": "python",
   "name": "python3"
  },
  "language_info": {
   "codemirror_mode": {
    "name": "ipython",
    "version": 3
   },
   "file_extension": ".py",
   "mimetype": "text/x-python",
   "name": "python",
   "nbconvert_exporter": "python",
   "pygments_lexer": "ipython3",
   "version": "3.9.12"
  }
 },
 "nbformat": 4,
 "nbformat_minor": 5
}
