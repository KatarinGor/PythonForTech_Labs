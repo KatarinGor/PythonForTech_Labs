{
 "cells": [
  {
   "cell_type": "markdown",
   "id": "b8dd3231",
   "metadata": {},
   "source": [
    "# Практическая работа № 4\n",
    "## Коллекции (продолжение)\n"
   ]
  },
  {
   "cell_type": "markdown",
   "id": "164aa4ae",
   "metadata": {},
   "source": [
    "### 4. Множества\n",
    "Множество в питоне — это неупорядоченный набор уникальных объектов. Множества изменяемы и чаще всего используются для удаления дубликатов и всевозможных проверок\n",
    "на вхождение.\n",
    "Чтобы объявить пустое множество, можно воспользоваться литералом set или использовать фигурные скобки, чтобы объявить множество и одновременно добавить туда\n",
    "какие-то элементы."
   ]
  },
  {
   "cell_type": "code",
   "execution_count": null,
   "id": "0dac4685",
   "metadata": {},
   "outputs": [],
   "source": []
  },
  {
   "cell_type": "markdown",
   "id": "ce5753f5",
   "metadata": {},
   "source": [
    "Чтобы добавить элемент в множество, используется метод add. Также множества в\n",
    "Python поддерживают стандартные операции над множествами --- такие как объединение, разность, пересечение и симметрическая разность."
   ]
  },
  {
   "cell_type": "code",
   "execution_count": null,
   "id": "628cf538",
   "metadata": {},
   "outputs": [],
   "source": []
  },
  {
   "cell_type": "markdown",
   "id": "35b643d2",
   "metadata": {},
   "source": [
    "Теперь найдём объединение и пересечение этих множеств:"
   ]
  },
  {
   "cell_type": "code",
   "execution_count": null,
   "id": "c94ffe01",
   "metadata": {},
   "outputs": [],
   "source": []
  },
  {
   "cell_type": "code",
   "execution_count": null,
   "id": "7a997f0c",
   "metadata": {},
   "outputs": [],
   "source": []
  },
  {
   "cell_type": "markdown",
   "id": "40b0282b",
   "metadata": {},
   "source": [
    "Разность двух множеств – это множество, в которое входят все элементы первого множества, не входящие во второе множество."
   ]
  },
  {
   "cell_type": "code",
   "execution_count": null,
   "id": "a35d4ae4",
   "metadata": {},
   "outputs": [],
   "source": []
  },
  {
   "cell_type": "code",
   "execution_count": null,
   "id": "1343048e",
   "metadata": {},
   "outputs": [],
   "source": []
  },
  {
   "cell_type": "code",
   "execution_count": null,
   "id": "1e184939",
   "metadata": {},
   "outputs": [],
   "source": []
  },
  {
   "cell_type": "code",
   "execution_count": null,
   "id": "9fb7e541",
   "metadata": {},
   "outputs": [],
   "source": []
  },
  {
   "cell_type": "markdown",
   "id": "68763b59",
   "metadata": {},
   "source": [
    "Также в питоне существует неизменяемый аналог типа set --- тип frozenset."
   ]
  },
  {
   "cell_type": "code",
   "execution_count": null,
   "id": "545d25ec",
   "metadata": {},
   "outputs": [],
   "source": []
  },
  {
   "cell_type": "markdown",
   "id": "cf227f2e",
   "metadata": {},
   "source": [
    "### List comprehensions (списочные выражения)\n",
    "Лаконичная конструкция для создания списков и других коллекций, когда цикл пишут прямо в скобках.\n",
    "Раньше мы делали так:"
   ]
  },
  {
   "cell_type": "code",
   "execution_count": null,
   "id": "06faf415",
   "metadata": {},
   "outputs": [],
   "source": []
  },
  {
   "cell_type": "markdown",
   "id": "866b87c3",
   "metadata": {},
   "source": [
    "Это же можно сделать в 1 строку:"
   ]
  },
  {
   "cell_type": "code",
   "execution_count": null,
   "id": "06e1e672",
   "metadata": {
    "scrolled": true
   },
   "outputs": [],
   "source": []
  },
  {
   "cell_type": "markdown",
   "id": "829a3380",
   "metadata": {},
   "source": [
    "В списочных выражениях можно использовать условия:"
   ]
  },
  {
   "cell_type": "code",
   "execution_count": null,
   "id": "0854f043",
   "metadata": {},
   "outputs": [],
   "source": []
  },
  {
   "cell_type": "markdown",
   "id": "0b89ad2a",
   "metadata": {},
   "source": [
    "Для словарей:"
   ]
  },
  {
   "cell_type": "code",
   "execution_count": null,
   "id": "4eaf7b06",
   "metadata": {},
   "outputs": [],
   "source": []
  },
  {
   "cell_type": "markdown",
   "id": "807ece24",
   "metadata": {},
   "source": [
    "Если применять list comprehensions с фигурными скобками, но без двоеточий, получим set:"
   ]
  },
  {
   "cell_type": "code",
   "execution_count": null,
   "id": "4c338de8",
   "metadata": {},
   "outputs": [],
   "source": []
  },
  {
   "cell_type": "markdown",
   "id": "5f5a2e08",
   "metadata": {},
   "source": [
    "### 5. Самостоятельно"
   ]
  },
  {
   "cell_type": "markdown",
   "id": "cd0daca3",
   "metadata": {},
   "source": [
    "Дана строка с некоторым текстом. \n",
    "\n",
    "Требуется создать словарь, который в качестве ключей будет принимать буквы, а в качестве значений – количество этих букв в тексте. Для построения словаря создайте функцию count_it(sequence), принимающую строку с текстом. Функция должна возвратить словарь из 3-х самых часто встречаемых букв."
   ]
  },
  {
   "cell_type": "code",
   "execution_count": null,
   "id": "629fad72",
   "metadata": {
    "scrolled": true
   },
   "outputs": [],
   "source": []
  },
  {
   "cell_type": "markdown",
   "id": "51a642fc",
   "metadata": {},
   "source": [
    "Посчитать, через сколько итераций функция random.randint(1, 10) выдаст повтор.\n",
    "Будем добавлять неповторяющиеся случайные числа в множество random_set. Если\n",
    "очередное число уже есть в random_set --- выйдем из цикла. Затем посчитаем длину\n",
    "множества (и прибавим 1, т.к. не учли последнее число)"
   ]
  },
  {
   "cell_type": "code",
   "execution_count": null,
   "id": "9ab930cf",
   "metadata": {},
   "outputs": [],
   "source": []
  },
  {
   "cell_type": "markdown",
   "id": "116327ca",
   "metadata": {},
   "source": [
    "## Файлы"
   ]
  },
  {
   "cell_type": "markdown",
   "id": "c58cdac4",
   "metadata": {},
   "source": [
    "### 1. Текстовые файлы"
   ]
  },
  {
   "cell_type": "markdown",
   "id": "ccfd7e2e",
   "metadata": {},
   "source": [
    "Для открытия файлов используется встроенный метод open, которому нужно передать путь к файлу. Функция open возвращает файловый объект, с которым мы потом можем работать. \n",
    "Файлы можно открывать в следующих режимах:\n",
    "- w -  запись,\n",
    "- r - чтение,\n",
    "- r+ - чтение и запись, \n",
    "- a - дозапись.\n",
    "Чтобы записать что-то в файл, применяем к файловому объекту метод write, и передаем ему строку. Метод write возвращает количество символов, которые мы записали.\n",
    "\n",
    "Стоит также указывать кодировку. Значение по умолчаню 'utf8', но если его не указать явно, могут возникнуть трудности с русской раскладкой.\n"
   ]
  },
  {
   "cell_type": "code",
   "execution_count": null,
   "id": "f6c7ca51",
   "metadata": {},
   "outputs": [],
   "source": []
  },
  {
   "cell_type": "markdown",
   "id": "02b9cdc8",
   "metadata": {},
   "source": [
    "Хороший тон - всегда закрывать за собой файлы."
   ]
  },
  {
   "cell_type": "code",
   "execution_count": null,
   "id": "d95ed4a1",
   "metadata": {},
   "outputs": [],
   "source": []
  },
  {
   "cell_type": "markdown",
   "id": "35bcb6e5",
   "metadata": {},
   "source": [
    "Давайте откроем этот файл для чтения и записи."
   ]
  },
  {
   "cell_type": "code",
   "execution_count": null,
   "id": "3b28249f",
   "metadata": {},
   "outputs": [],
   "source": []
  },
  {
   "cell_type": "markdown",
   "id": "73767015",
   "metadata": {},
   "source": [
    "Метод tell() указывает положение каретки"
   ]
  },
  {
   "cell_type": "code",
   "execution_count": null,
   "id": "21d9f65a",
   "metadata": {},
   "outputs": [],
   "source": []
  },
  {
   "cell_type": "markdown",
   "id": "7e9143ee",
   "metadata": {},
   "source": [
    "Если попытаемся прочитать еще раз, то ничего не найдем"
   ]
  },
  {
   "cell_type": "code",
   "execution_count": null,
   "id": "cac3681e",
   "metadata": {},
   "outputs": [],
   "source": []
  },
  {
   "cell_type": "markdown",
   "id": "326d43e2",
   "metadata": {},
   "source": [
    "Чтобы прочитать файл заново, нужно использовать метод seek() и перенести указатель на начало файла"
   ]
  },
  {
   "cell_type": "code",
   "execution_count": null,
   "id": "f8828514",
   "metadata": {},
   "outputs": [],
   "source": []
  },
  {
   "cell_type": "code",
   "execution_count": null,
   "id": "117c797e",
   "metadata": {
    "scrolled": true
   },
   "outputs": [],
   "source": []
  },
  {
   "cell_type": "markdown",
   "id": "9c0236f4",
   "metadata": {},
   "source": [
    "Можно еще читать файлы построчно, и даже формировать из строк список"
   ]
  },
  {
   "cell_type": "code",
   "execution_count": null,
   "id": "119157fe",
   "metadata": {},
   "outputs": [],
   "source": []
  },
  {
   "cell_type": "code",
   "execution_count": null,
   "id": "6f310594",
   "metadata": {},
   "outputs": [],
   "source": []
  },
  {
   "cell_type": "markdown",
   "id": "9835db80",
   "metadata": {},
   "source": [
    "Можно открывать файлы при помощи контекстного менеджера, тогда не нужно заботиться о закрытии файла.\n",
    "Вы можете открыть файл\n",
    "с помощью оператора with, записать файловый объект в переменную f и потом работать\n",
    "с файлом внутри этого контекстного блока. После выхода из блока интерпретатор Python\n",
    "закроет файл."
   ]
  },
  {
   "cell_type": "code",
   "execution_count": null,
   "id": "fc5e8b03",
   "metadata": {},
   "outputs": [],
   "source": []
  },
  {
   "cell_type": "markdown",
   "id": "47e7a697",
   "metadata": {},
   "source": [
    "Как думаете, что будет, если переместить каретку в начало файла, открытого для записи, а потом его просто закрыть?"
   ]
  },
  {
   "cell_type": "code",
   "execution_count": null,
   "id": "3fad8a5c",
   "metadata": {},
   "outputs": [],
   "source": []
  },
  {
   "cell_type": "code",
   "execution_count": null,
   "id": "cb1935a8",
   "metadata": {},
   "outputs": [],
   "source": []
  },
  {
   "cell_type": "markdown",
   "id": "aff0472c",
   "metadata": {},
   "source": [
    "### 2. CSV (Comma Separated Values)"
   ]
  },
  {
   "cell_type": "markdown",
   "id": "6737fc78",
   "metadata": {},
   "source": [
    "По сути, он является обычным текстовым файлом, в котором каждый новый элемент отделен от предыдущего запятой или другим разделителем. Обычно каждая запись начинается с новой строки. Данные CSV можно легко экспортировать в электронные таблицы или базы данных. В Python есть специальная библиотека для работы с такими файлами.\n",
    "Давайте прочитаем данные из отчета об анкетировании на первом занятии."
   ]
  },
  {
   "cell_type": "code",
   "execution_count": null,
   "id": "ce1a8be9",
   "metadata": {},
   "outputs": [],
   "source": []
  },
  {
   "cell_type": "code",
   "execution_count": null,
   "id": "1b554e8f",
   "metadata": {},
   "outputs": [],
   "source": [
    "\n"
   ]
  },
  {
   "cell_type": "markdown",
   "id": "a4f8453c",
   "metadata": {},
   "source": [
    "Здорово. Но ничего непонятно. Давайте попробуем разобрать данные"
   ]
  },
  {
   "cell_type": "code",
   "execution_count": null,
   "id": "e6d328d0",
   "metadata": {},
   "outputs": [],
   "source": []
  },
  {
   "cell_type": "code",
   "execution_count": null,
   "id": "2e5680ab",
   "metadata": {},
   "outputs": [],
   "source": []
  },
  {
   "cell_type": "code",
   "execution_count": null,
   "id": "3c1719ba",
   "metadata": {},
   "outputs": [],
   "source": []
  },
  {
   "cell_type": "code",
   "execution_count": null,
   "id": "e9350277",
   "metadata": {},
   "outputs": [],
   "source": []
  },
  {
   "cell_type": "markdown",
   "id": "5d2ec45e",
   "metadata": {},
   "source": [
    "Видим, что у нас есть пара бессодержательных столбцов. Давайте их удалим"
   ]
  },
  {
   "cell_type": "code",
   "execution_count": null,
   "id": "4e87e448",
   "metadata": {},
   "outputs": [],
   "source": []
  },
  {
   "cell_type": "code",
   "execution_count": null,
   "id": "2498e11e",
   "metadata": {},
   "outputs": [],
   "source": []
  },
  {
   "cell_type": "markdown",
   "id": "b42021cf",
   "metadata": {},
   "source": [
    "Итак. У нас имеется два списка с заголовками и данными столбцов. Мы можем собрать их в словарь.\n",
    "Однако в библиотеке csv есть инструмент  DictReader, который позволяет, во-первых, задать именна стобцов, если они неопределены или нам не нравятся, во-вторых, обращаться к данным не по индексу, а по имени. "
   ]
  },
  {
   "cell_type": "code",
   "execution_count": null,
   "id": "5d0d2842",
   "metadata": {},
   "outputs": [],
   "source": []
  },
  {
   "cell_type": "markdown",
   "id": "9ac26929",
   "metadata": {},
   "source": [
    "Как сохранить данные в csv-файл?\n"
   ]
  },
  {
   "cell_type": "code",
   "execution_count": null,
   "id": "25f1ac40",
   "metadata": {},
   "outputs": [],
   "source": []
  },
  {
   "cell_type": "markdown",
   "id": "f1179dfa",
   "metadata": {},
   "source": [
    "## Самостоятельно\n",
    "\n",
    "Сохранить в отдельный csv-файл данные о специальностях, уровне знания математики и ангийского.\n",
    "Затем считайте этот файл и выведете его содержание."
   ]
  },
  {
   "cell_type": "code",
   "execution_count": null,
   "id": "61b0bb86",
   "metadata": {},
   "outputs": [],
   "source": []
  }
 ],
 "metadata": {
  "kernelspec": {
   "display_name": "Python 3 (ipykernel)",
   "language": "python",
   "name": "python3"
  },
  "language_info": {
   "codemirror_mode": {
    "name": "ipython",
    "version": 3
   },
   "file_extension": ".py",
   "mimetype": "text/x-python",
   "name": "python",
   "nbconvert_exporter": "python",
   "pygments_lexer": "ipython3",
   "version": "3.9.12"
  }
 },
 "nbformat": 4,
 "nbformat_minor": 5
}
